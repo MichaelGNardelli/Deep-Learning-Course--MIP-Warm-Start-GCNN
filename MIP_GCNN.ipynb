{
  "cells": [
    {
      "cell_type": "markdown",
      "metadata": {
        "id": "Rui2EjRqGAz_"
      },
      "source": [
        "# SETUP: Setting up colab with drive folders"
      ]
    },
    {
      "cell_type": "code",
      "execution_count": null,
      "metadata": {
        "colab": {
          "base_uri": "https://localhost:8080/"
        },
        "id": "wSNHWcXlDCu7",
        "outputId": "ba713d8e-e8a6-41c1-ac6b-223135739aa9"
      },
      "outputs": [
        {
          "output_type": "stream",
          "name": "stdout",
          "text": [
            "Mounted at /gdrive\n"
          ]
        }
      ],
      "source": [
        "from google.colab import drive\n",
        "drive.mount('/gdrive', force_remount=True)\n"
      ]
    },
    {
      "cell_type": "markdown",
      "source": [
        "You must add a 498 folder to your drive and put the neural lns project folder in that folder for these paths to work correctly. "
      ],
      "metadata": {
        "id": "iA3PCi-GzaJd"
      }
    },
    {
      "cell_type": "code",
      "execution_count": null,
      "metadata": {
        "colab": {
          "base_uri": "https://localhost:8080/"
        },
        "id": "bB-Y3sN7myxq",
        "outputId": "df57489c-c052-435d-9daf-a5fcf9a80975"
      },
      "outputs": [
        {
          "output_type": "stream",
          "name": "stdout",
          "text": [
            "/gdrive/MyDrive/498/neural_lns\n"
          ]
        }
      ],
      "source": [
        "%cd /gdrive/MyDrive/498/neural_lns/"
      ]
    },
    {
      "cell_type": "code",
      "source": [
        "import pandas as pd\n",
        "import seaborn as sns\n",
        "import matplotlib.pyplot as plt"
      ],
      "metadata": {
        "id": "kimCpdAe9n4J"
      },
      "execution_count": null,
      "outputs": []
    },
    {
      "cell_type": "code",
      "execution_count": null,
      "metadata": {
        "id": "5ag4ADxlEVte",
        "colab": {
          "base_uri": "https://localhost:8080/"
        },
        "outputId": "66b46b85-1100-4bcf-8a33-58b24e5052f1"
      },
      "outputs": [
        {
          "output_type": "stream",
          "name": "stdout",
          "text": [
            "Looking in indexes: https://pypi.org/simple, https://us-python.pkg.dev/colab-wheels/public/simple/\n",
            "Requirement already satisfied: wheel in /usr/local/lib/python3.7/dist-packages (from -r requirements.txt (line 1)) (0.38.4)\n",
            "Requirement already satisfied: absl-py>=0.12.0 in /usr/local/lib/python3.7/dist-packages (from -r requirements.txt (line 2)) (1.3.0)\n",
            "Requirement already satisfied: ml_collections in /usr/local/lib/python3.7/dist-packages (from -r requirements.txt (line 3)) (0.1.1)\n",
            "Requirement already satisfied: numpy>=1.16.4 in /usr/local/lib/python3.7/dist-packages (from -r requirements.txt (line 4)) (1.21.6)\n",
            "Requirement already satisfied: dm-sonnet==2.0.0 in /usr/local/lib/python3.7/dist-packages (from -r requirements.txt (line 5)) (2.0.0)\n",
            "Requirement already satisfied: tensorflow>=2.5.0 in /usr/local/lib/python3.7/dist-packages (from -r requirements.txt (line 6)) (2.9.2)\n",
            "Requirement already satisfied: tensorflow_probability in /usr/local/lib/python3.7/dist-packages (from -r requirements.txt (line 7)) (0.17.0)\n",
            "Requirement already satisfied: graph_nets in /usr/local/lib/python3.7/dist-packages (from -r requirements.txt (line 8)) (1.1.0)\n",
            "Requirement already satisfied: gurobipy in /usr/local/lib/python3.7/dist-packages (from -r requirements.txt (line 9)) (10.0.0)\n",
            "Requirement already satisfied: wrapt>=1.11.1 in /usr/local/lib/python3.7/dist-packages (from dm-sonnet==2.0.0->-r requirements.txt (line 5)) (1.14.1)\n",
            "Requirement already satisfied: six>=1.12.0 in /usr/local/lib/python3.7/dist-packages (from dm-sonnet==2.0.0->-r requirements.txt (line 5)) (1.15.0)\n",
            "Requirement already satisfied: dm-tree>=0.1.1 in /usr/local/lib/python3.7/dist-packages (from dm-sonnet==2.0.0->-r requirements.txt (line 5)) (0.1.7)\n",
            "Requirement already satisfied: tabulate>=0.7.5 in /usr/local/lib/python3.7/dist-packages (from dm-sonnet==2.0.0->-r requirements.txt (line 5)) (0.8.10)\n",
            "Requirement already satisfied: termcolor>=1.1.0 in /usr/local/lib/python3.7/dist-packages (from tensorflow>=2.5.0->-r requirements.txt (line 6)) (2.1.0)\n",
            "Requirement already satisfied: google-pasta>=0.1.1 in /usr/local/lib/python3.7/dist-packages (from tensorflow>=2.5.0->-r requirements.txt (line 6)) (0.2.0)\n",
            "Requirement already satisfied: tensorflow-estimator<2.10.0,>=2.9.0rc0 in /usr/local/lib/python3.7/dist-packages (from tensorflow>=2.5.0->-r requirements.txt (line 6)) (2.9.0)\n",
            "Requirement already satisfied: protobuf<3.20,>=3.9.2 in /usr/local/lib/python3.7/dist-packages (from tensorflow>=2.5.0->-r requirements.txt (line 6)) (3.19.6)\n",
            "Requirement already satisfied: h5py>=2.9.0 in /usr/local/lib/python3.7/dist-packages (from tensorflow>=2.5.0->-r requirements.txt (line 6)) (3.1.0)\n",
            "Requirement already satisfied: opt-einsum>=2.3.2 in /usr/local/lib/python3.7/dist-packages (from tensorflow>=2.5.0->-r requirements.txt (line 6)) (3.3.0)\n",
            "Requirement already satisfied: grpcio<2.0,>=1.24.3 in /usr/local/lib/python3.7/dist-packages (from tensorflow>=2.5.0->-r requirements.txt (line 6)) (1.50.0)\n",
            "Requirement already satisfied: keras<2.10.0,>=2.9.0rc0 in /usr/local/lib/python3.7/dist-packages (from tensorflow>=2.5.0->-r requirements.txt (line 6)) (2.9.0)\n",
            "Requirement already satisfied: flatbuffers<2,>=1.12 in /usr/local/lib/python3.7/dist-packages (from tensorflow>=2.5.0->-r requirements.txt (line 6)) (1.12)\n",
            "Requirement already satisfied: gast<=0.4.0,>=0.2.1 in /usr/local/lib/python3.7/dist-packages (from tensorflow>=2.5.0->-r requirements.txt (line 6)) (0.4.0)\n",
            "Requirement already satisfied: libclang>=13.0.0 in /usr/local/lib/python3.7/dist-packages (from tensorflow>=2.5.0->-r requirements.txt (line 6)) (14.0.6)\n",
            "Requirement already satisfied: tensorflow-io-gcs-filesystem>=0.23.1 in /usr/local/lib/python3.7/dist-packages (from tensorflow>=2.5.0->-r requirements.txt (line 6)) (0.27.0)\n",
            "Requirement already satisfied: typing-extensions>=3.6.6 in /usr/local/lib/python3.7/dist-packages (from tensorflow>=2.5.0->-r requirements.txt (line 6)) (4.1.1)\n",
            "Requirement already satisfied: keras-preprocessing>=1.1.1 in /usr/local/lib/python3.7/dist-packages (from tensorflow>=2.5.0->-r requirements.txt (line 6)) (1.1.2)\n",
            "Requirement already satisfied: tensorboard<2.10,>=2.9 in /usr/local/lib/python3.7/dist-packages (from tensorflow>=2.5.0->-r requirements.txt (line 6)) (2.9.1)\n",
            "Requirement already satisfied: packaging in /usr/local/lib/python3.7/dist-packages (from tensorflow>=2.5.0->-r requirements.txt (line 6)) (21.3)\n",
            "Requirement already satisfied: astunparse>=1.6.0 in /usr/local/lib/python3.7/dist-packages (from tensorflow>=2.5.0->-r requirements.txt (line 6)) (1.6.3)\n",
            "Requirement already satisfied: setuptools in /usr/local/lib/python3.7/dist-packages (from tensorflow>=2.5.0->-r requirements.txt (line 6)) (57.4.0)\n",
            "Requirement already satisfied: cached-property in /usr/local/lib/python3.7/dist-packages (from h5py>=2.9.0->tensorflow>=2.5.0->-r requirements.txt (line 6)) (1.5.2)\n",
            "Requirement already satisfied: requests<3,>=2.21.0 in /usr/local/lib/python3.7/dist-packages (from tensorboard<2.10,>=2.9->tensorflow>=2.5.0->-r requirements.txt (line 6)) (2.23.0)\n",
            "Requirement already satisfied: google-auth-oauthlib<0.5,>=0.4.1 in /usr/local/lib/python3.7/dist-packages (from tensorboard<2.10,>=2.9->tensorflow>=2.5.0->-r requirements.txt (line 6)) (0.4.6)\n",
            "Requirement already satisfied: markdown>=2.6.8 in /usr/local/lib/python3.7/dist-packages (from tensorboard<2.10,>=2.9->tensorflow>=2.5.0->-r requirements.txt (line 6)) (3.4.1)\n",
            "Requirement already satisfied: werkzeug>=1.0.1 in /usr/local/lib/python3.7/dist-packages (from tensorboard<2.10,>=2.9->tensorflow>=2.5.0->-r requirements.txt (line 6)) (1.0.1)\n",
            "Requirement already satisfied: tensorboard-plugin-wit>=1.6.0 in /usr/local/lib/python3.7/dist-packages (from tensorboard<2.10,>=2.9->tensorflow>=2.5.0->-r requirements.txt (line 6)) (1.8.1)\n",
            "Requirement already satisfied: google-auth<3,>=1.6.3 in /usr/local/lib/python3.7/dist-packages (from tensorboard<2.10,>=2.9->tensorflow>=2.5.0->-r requirements.txt (line 6)) (2.14.1)\n",
            "Requirement already satisfied: tensorboard-data-server<0.7.0,>=0.6.0 in /usr/local/lib/python3.7/dist-packages (from tensorboard<2.10,>=2.9->tensorflow>=2.5.0->-r requirements.txt (line 6)) (0.6.1)\n",
            "Requirement already satisfied: cachetools<6.0,>=2.0.0 in /usr/local/lib/python3.7/dist-packages (from google-auth<3,>=1.6.3->tensorboard<2.10,>=2.9->tensorflow>=2.5.0->-r requirements.txt (line 6)) (5.2.0)\n",
            "Requirement already satisfied: rsa<5,>=3.1.4 in /usr/local/lib/python3.7/dist-packages (from google-auth<3,>=1.6.3->tensorboard<2.10,>=2.9->tensorflow>=2.5.0->-r requirements.txt (line 6)) (4.9)\n",
            "Requirement already satisfied: pyasn1-modules>=0.2.1 in /usr/local/lib/python3.7/dist-packages (from google-auth<3,>=1.6.3->tensorboard<2.10,>=2.9->tensorflow>=2.5.0->-r requirements.txt (line 6)) (0.2.8)\n",
            "Requirement already satisfied: requests-oauthlib>=0.7.0 in /usr/local/lib/python3.7/dist-packages (from google-auth-oauthlib<0.5,>=0.4.1->tensorboard<2.10,>=2.9->tensorflow>=2.5.0->-r requirements.txt (line 6)) (1.3.1)\n",
            "Requirement already satisfied: importlib-metadata>=4.4 in /usr/local/lib/python3.7/dist-packages (from markdown>=2.6.8->tensorboard<2.10,>=2.9->tensorflow>=2.5.0->-r requirements.txt (line 6)) (4.13.0)\n",
            "Requirement already satisfied: zipp>=0.5 in /usr/local/lib/python3.7/dist-packages (from importlib-metadata>=4.4->markdown>=2.6.8->tensorboard<2.10,>=2.9->tensorflow>=2.5.0->-r requirements.txt (line 6)) (3.10.0)\n",
            "Requirement already satisfied: pyasn1<0.5.0,>=0.4.6 in /usr/local/lib/python3.7/dist-packages (from pyasn1-modules>=0.2.1->google-auth<3,>=1.6.3->tensorboard<2.10,>=2.9->tensorflow>=2.5.0->-r requirements.txt (line 6)) (0.4.8)\n",
            "Requirement already satisfied: urllib3!=1.25.0,!=1.25.1,<1.26,>=1.21.1 in /usr/local/lib/python3.7/dist-packages (from requests<3,>=2.21.0->tensorboard<2.10,>=2.9->tensorflow>=2.5.0->-r requirements.txt (line 6)) (1.24.3)\n",
            "Requirement already satisfied: chardet<4,>=3.0.2 in /usr/local/lib/python3.7/dist-packages (from requests<3,>=2.21.0->tensorboard<2.10,>=2.9->tensorflow>=2.5.0->-r requirements.txt (line 6)) (3.0.4)\n",
            "Requirement already satisfied: idna<3,>=2.5 in /usr/local/lib/python3.7/dist-packages (from requests<3,>=2.21.0->tensorboard<2.10,>=2.9->tensorflow>=2.5.0->-r requirements.txt (line 6)) (2.10)\n",
            "Requirement already satisfied: certifi>=2017.4.17 in /usr/local/lib/python3.7/dist-packages (from requests<3,>=2.21.0->tensorboard<2.10,>=2.9->tensorflow>=2.5.0->-r requirements.txt (line 6)) (2022.9.24)\n",
            "Requirement already satisfied: oauthlib>=3.0.0 in /usr/local/lib/python3.7/dist-packages (from requests-oauthlib>=0.7.0->google-auth-oauthlib<0.5,>=0.4.1->tensorboard<2.10,>=2.9->tensorflow>=2.5.0->-r requirements.txt (line 6)) (3.2.2)\n",
            "Requirement already satisfied: contextlib2 in /usr/local/lib/python3.7/dist-packages (from ml_collections->-r requirements.txt (line 3)) (0.5.5)\n",
            "Requirement already satisfied: PyYAML in /usr/local/lib/python3.7/dist-packages (from ml_collections->-r requirements.txt (line 3)) (6.0)\n",
            "Requirement already satisfied: cloudpickle>=1.3 in /usr/local/lib/python3.7/dist-packages (from tensorflow_probability->-r requirements.txt (line 7)) (1.5.0)\n",
            "Requirement already satisfied: decorator in /usr/local/lib/python3.7/dist-packages (from tensorflow_probability->-r requirements.txt (line 7)) (4.4.2)\n",
            "Requirement already satisfied: future in /usr/local/lib/python3.7/dist-packages (from graph_nets->-r requirements.txt (line 8)) (0.16.0)\n",
            "Requirement already satisfied: networkx in /usr/local/lib/python3.7/dist-packages (from graph_nets->-r requirements.txt (line 8)) (2.6.3)\n",
            "Requirement already satisfied: pyparsing!=3.0.5,>=2.0.2 in /usr/local/lib/python3.7/dist-packages (from packaging->tensorflow>=2.5.0->-r requirements.txt (line 6)) (3.0.9)\n"
          ]
        }
      ],
      "source": [
        "# install all project requirements\n",
        "!pip install -r requirements.txt "
      ]
    },
    {
      "cell_type": "markdown",
      "metadata": {
        "id": "koH4cU4wGMoo"
      },
      "source": [
        "# DATA GENERATION: LP Instance creation\n",
        "\n"
      ]
    },
    {
      "cell_type": "markdown",
      "source": [
        " example of how to generate instances for case cauctions (takes a while)"
      ],
      "metadata": {
        "id": "4aLjIccTAc9p"
      }
    },
    {
      "cell_type": "code",
      "source": [
        "import os \n",
        "# check that the instances exist\n",
        "cases = ['facilities', 'schedules', 'cauctions']\n",
        "flag = True\n",
        "for case in cases: \n",
        "  if not os.path.exists('data/instances/' + case):\n",
        "    flag = False\n",
        "    print(\"Case {} does not currently exist\".format(case))\n",
        "    print(\"Generating..\")\n",
        "    # generate the instances if they don't exist\n",
        "    %python3 generate_instances.py case \n",
        "\n",
        "if flag:\n",
        "  print(\"All Cases already exist\")\n",
        "else:\n",
        "  print(\"All Cases have been created\")\n",
        "  "
      ],
      "metadata": {
        "colab": {
          "base_uri": "https://localhost:8080/"
        },
        "id": "blNSVVctFWw2",
        "outputId": "789ec104-86f3-460d-f5ad-1fa37bab98ca"
      },
      "execution_count": null,
      "outputs": [
        {
          "output_type": "stream",
          "name": "stdout",
          "text": [
            "All Cases already exist\n"
          ]
        }
      ]
    },
    {
      "cell_type": "markdown",
      "metadata": {
        "id": "-9DSW5Ua_YH1"
      },
      "source": [
        "#  DATA GENERATION: Solving Instances to Create Training Data"
      ]
    },
    {
      "cell_type": "code",
      "source": [
        "from data_generation import main\n",
        "\n",
        "flag = True\n",
        "cases = ['facilities', 'schedules', 'cauctions'] \n",
        "\n",
        "# check that the solved instances exists\n",
        "for case in cases: \n",
        "  if not os.path.exists('data/samples/' + case):\n",
        "    flag = False\n",
        "    print(\"Case {} does not exist\".format(case))\n",
        "    # generate the samples if they do not exist (takes a while)\n",
        "    main(case)\n",
        "\n",
        "if flag:\n",
        "  print(\"All Cases already exist\")\n",
        "else:\n",
        "  print(\"All Cases have been created\")"
      ],
      "metadata": {
        "colab": {
          "base_uri": "https://localhost:8080/"
        },
        "id": "JjOtFCCyA7Gx",
        "outputId": "05d07c7a-0f95-411f-a850-930541e275fe"
      },
      "execution_count": null,
      "outputs": [
        {
          "output_type": "stream",
          "name": "stdout",
          "text": [
            "All Cases already exist\n"
          ]
        }
      ]
    },
    {
      "cell_type": "markdown",
      "metadata": {
        "id": "0UbIUbBjGLlY"
      },
      "source": [
        "# TRAINING"
      ]
    },
    {
      "cell_type": "code",
      "execution_count": null,
      "metadata": {
        "colab": {
          "base_uri": "https://localhost:8080/"
        },
        "id": "5BPp6WDw55HK",
        "outputId": "5a102e45-515a-4b94-d54e-73ae6d43e799"
      },
      "outputs": [
        {
          "output_type": "stream",
          "name": "stdout",
          "text": [
            "/gdrive/MyDrive/498\n"
          ]
        }
      ],
      "source": [
        "%cd .."
      ]
    },
    {
      "cell_type": "code",
      "source": [
        "import tensorflow as tf\n",
        "print(\"Num GPUs Available: \", len(tf.config.list_physical_devices('GPU')))"
      ],
      "metadata": {
        "colab": {
          "base_uri": "https://localhost:8080/"
        },
        "id": "OSVHR8ALgF3J",
        "outputId": "fd1ac67c-57b2-427c-8258-b93e55738570"
      },
      "execution_count": null,
      "outputs": [
        {
          "output_type": "stream",
          "name": "stdout",
          "text": [
            "Num GPUs Available:  1\n"
          ]
        }
      ]
    },
    {
      "cell_type": "markdown",
      "source": [
        "## Run training on different datasets\n",
        "To change which dataset to run it on, edit the path in config_train file"
      ],
      "metadata": {
        "id": "wHc8h7i8z-P2"
      }
    },
    {
      "cell_type": "markdown",
      "source": [
        "### Facilities Problem"
      ],
      "metadata": {
        "id": "hmF59SlU0HLr"
      }
    },
    {
      "cell_type": "code",
      "execution_count": null,
      "metadata": {
        "colab": {
          "base_uri": "https://localhost:8080/"
        },
        "id": "gZE4m5tLGgFM",
        "outputId": "d7c95aa3-d0be-442f-9304-06528d6a3c98"
      },
      "outputs": [
        {
          "output_type": "stream",
          "name": "stdout",
          "text": [
            "2022-11-27 20:06:25.198753: W tensorflow/core/common_runtime/gpu/gpu_bfc_allocator.cc:42] Overriding orig_value setting because the TF_FORCE_GPU_ALLOW_GROWTH environment variable is set. Original config value was 0.\n",
            "I1127 20:06:25.202801 140657278809984 train.py:250] Found GPUs: [LogicalDevice(name='/device:GPU:0', device_type='GPU')]\n",
            "INFO:tensorflow:Using MirroredStrategy with devices ('/job:localhost/replica:0/task:0/device:GPU:0',)\n",
            "I1127 20:06:25.230713 140657278809984 mirrored_strategy.py:374] Using MirroredStrategy with devices ('/job:localhost/replica:0/task:0/device:GPU:0',)\n",
            "I1127 20:06:25.231158 140657278809984 train.py:255] Distribution strategy: <sonnet.src.distribute.replicator.Replicator object at 0x7feccb681890>\n",
            "I1127 20:06:25.231468 140657278809984 train.py:256] Devices: [PhysicalDevice(name='/physical_device:CPU:0', device_type='CPU'), PhysicalDevice(name='/physical_device:GPU:0', device_type='GPU')]\n",
            "/usr/local/lib/python3.7/dist-packages/tensorflow/python/data/ops/structured_function.py:265: UserWarning: Even though the `tf.config.experimental_run_functions_eagerly` option is set, this option does not apply to tf.data functions. To force eager execution of tf.data functions, please use `tf.data.experimental.enable_debug_mode()`.\n",
            "  \"Even though the `tf.config.experimental_run_functions_eagerly` \"\n",
            "INFO:tensorflow:Reduce to /job:localhost/replica:0/task:0/device:CPU:0 then broadcast to ('/job:localhost/replica:0/task:0/device:CPU:0',).\n",
            "I1127 20:09:46.839104 140657278809984 cross_device_ops.py:618] Reduce to /job:localhost/replica:0/task:0/device:CPU:0 then broadcast to ('/job:localhost/replica:0/task:0/device:CPU:0',).\n",
            "INFO:tensorflow:Reduce to /job:localhost/replica:0/task:0/device:CPU:0 then broadcast to ('/job:localhost/replica:0/task:0/device:CPU:0',).\n",
            "I1127 20:09:46.840565 140657278809984 cross_device_ops.py:618] Reduce to /job:localhost/replica:0/task:0/device:CPU:0 then broadcast to ('/job:localhost/replica:0/task:0/device:CPU:0',).\n",
            "INFO:tensorflow:Reduce to /job:localhost/replica:0/task:0/device:CPU:0 then broadcast to ('/job:localhost/replica:0/task:0/device:CPU:0',).\n",
            "I1127 20:09:46.843805 140657278809984 cross_device_ops.py:618] Reduce to /job:localhost/replica:0/task:0/device:CPU:0 then broadcast to ('/job:localhost/replica:0/task:0/device:CPU:0',).\n",
            "INFO:tensorflow:Reduce to /job:localhost/replica:0/task:0/device:CPU:0 then broadcast to ('/job:localhost/replica:0/task:0/device:CPU:0',).\n",
            "I1127 20:09:46.844618 140657278809984 cross_device_ops.py:618] Reduce to /job:localhost/replica:0/task:0/device:CPU:0 then broadcast to ('/job:localhost/replica:0/task:0/device:CPU:0',).\n",
            "INFO:tensorflow:Reduce to /job:localhost/replica:0/task:0/device:CPU:0 then broadcast to ('/job:localhost/replica:0/task:0/device:CPU:0',).\n",
            "I1127 20:09:46.851724 140657278809984 cross_device_ops.py:618] Reduce to /job:localhost/replica:0/task:0/device:CPU:0 then broadcast to ('/job:localhost/replica:0/task:0/device:CPU:0',).\n",
            "INFO:tensorflow:Reduce to /job:localhost/replica:0/task:0/device:CPU:0 then broadcast to ('/job:localhost/replica:0/task:0/device:CPU:0',).\n",
            "I1127 20:09:46.852612 140657278809984 cross_device_ops.py:618] Reduce to /job:localhost/replica:0/task:0/device:CPU:0 then broadcast to ('/job:localhost/replica:0/task:0/device:CPU:0',).\n",
            "INFO:tensorflow:Reduce to /job:localhost/replica:0/task:0/device:CPU:0 then broadcast to ('/job:localhost/replica:0/task:0/device:CPU:0',).\n",
            "I1127 20:09:46.854392 140657278809984 cross_device_ops.py:618] Reduce to /job:localhost/replica:0/task:0/device:CPU:0 then broadcast to ('/job:localhost/replica:0/task:0/device:CPU:0',).\n",
            "INFO:tensorflow:Reduce to /job:localhost/replica:0/task:0/device:CPU:0 then broadcast to ('/job:localhost/replica:0/task:0/device:CPU:0',).\n",
            "I1127 20:09:46.855143 140657278809984 cross_device_ops.py:618] Reduce to /job:localhost/replica:0/task:0/device:CPU:0 then broadcast to ('/job:localhost/replica:0/task:0/device:CPU:0',).\n",
            "INFO:tensorflow:Reduce to /job:localhost/replica:0/task:0/device:CPU:0 then broadcast to ('/job:localhost/replica:0/task:0/device:CPU:0',).\n",
            "I1127 20:09:46.862936 140657278809984 cross_device_ops.py:618] Reduce to /job:localhost/replica:0/task:0/device:CPU:0 then broadcast to ('/job:localhost/replica:0/task:0/device:CPU:0',).\n",
            "INFO:tensorflow:Reduce to /job:localhost/replica:0/task:0/device:CPU:0 then broadcast to ('/job:localhost/replica:0/task:0/device:CPU:0',).\n",
            "I1127 20:09:46.863858 140657278809984 cross_device_ops.py:618] Reduce to /job:localhost/replica:0/task:0/device:CPU:0 then broadcast to ('/job:localhost/replica:0/task:0/device:CPU:0',).\n",
            "I1127 20:09:46.883904 140657278809984 train.py:207] Initializing from scratch.\n",
            "I1127 20:28:01.274571 140657278809984 train.py:210] Starting training...\n",
            "WARNING:tensorflow:Using Replicator eagerly has significant overhead currently. We will be working on improving this in the future, but for now please wrap `call_for_each_replica` or `experimental_run` or `run` inside a tf.function to get the best performance.\n",
            "W1127 20:28:06.082906 140657278809984 mirrored_run.py:92] Using Replicator eagerly has significant overhead currently. We will be working on improving this in the future, but for now please wrap `call_for_each_replica` or `experimental_run` or `run` inside a tf.function to get the best performance.\n",
            "I1127 20:28:06.084197 140651634247424 train.py:93] retracing step_fn\n",
            "Local loss [[0.524225712]]\n",
            "WARNING:tensorflow:Using Replicator eagerly has significant overhead currently. We will be working on improving this in the future, but for now please wrap `call_for_each_replica` or `experimental_run` or `run` inside a tf.function to get the best performance.\n",
            "W1127 20:28:16.247141 140657278809984 mirrored_run.py:92] Using Replicator eagerly has significant overhead currently. We will be working on improving this in the future, but for now please wrap `call_for_each_replica` or `experimental_run` or `run` inside a tf.function to get the best performance.\n",
            "I1127 20:28:16.248331 140649437026048 train.py:93] retracing step_fn\n",
            "Local loss [[0.244767234]]\n",
            "WARNING:tensorflow:Using Replicator eagerly has significant overhead currently. We will be working on improving this in the future, but for now please wrap `call_for_each_replica` or `experimental_run` or `run` inside a tf.function to get the best performance.\n",
            "W1127 20:28:20.926626 140657278809984 mirrored_run.py:92] Using Replicator eagerly has significant overhead currently. We will be working on improving this in the future, but for now please wrap `call_for_each_replica` or `experimental_run` or `run` inside a tf.function to get the best performance.\n",
            "I1127 20:28:20.927762 140646995875584 train.py:93] retracing step_fn\n",
            "Local loss [[0.234866977]]\n",
            "WARNING:tensorflow:Using Replicator eagerly has significant overhead currently. We will be working on improving this in the future, but for now please wrap `call_for_each_replica` or `experimental_run` or `run` inside a tf.function to get the best performance.\n",
            "W1127 20:28:25.621208 140657278809984 mirrored_run.py:92] Using Replicator eagerly has significant overhead currently. We will be working on improving this in the future, but for now please wrap `call_for_each_replica` or `experimental_run` or `run` inside a tf.function to get the best performance.\n",
            "I1127 20:28:25.622877 140644422227712 train.py:93] retracing step_fn\n",
            "Local loss [[0.190715134]]\n",
            "WARNING:tensorflow:Using Replicator eagerly has significant overhead currently. We will be working on improving this in the future, but for now please wrap `call_for_each_replica` or `experimental_run` or `run` inside a tf.function to get the best performance.\n",
            "W1127 20:28:30.250697 140657278809984 mirrored_run.py:92] Using Replicator eagerly has significant overhead currently. We will be working on improving this in the future, but for now please wrap `call_for_each_replica` or `experimental_run` or `run` inside a tf.function to get the best performance.\n",
            "I1127 20:28:30.252310 140642129630976 train.py:93] retracing step_fn\n",
            "Local loss [[0.0904601961]]\n",
            "I1127 20:28:34.952421 140639274997504 train.py:93] retracing step_fn\n",
            "Local loss [[0.258758813]]\n",
            "I1127 20:28:39.471744 140636984850176 train.py:93] retracing step_fn\n",
            "Local loss [[0.0695725232]]\n",
            "I1127 20:28:43.860294 140634689271552 train.py:93] retracing step_fn\n",
            "Local loss [[0.167383954]]\n",
            "I1127 20:28:48.349727 140632387581696 train.py:93] retracing step_fn\n",
            "Local loss [[0.193985671]]\n",
            "I1127 20:28:52.791775 140630094444288 train.py:93] retracing step_fn\n",
            "Local loss [[0.16528672]]\n",
            "I1127 20:28:53.112718 140657278809984 train.py:224] [10] loss = 0.2140, acc = 0.9310 auc = 0.9058 steps_per_second = 0.19365616209089104\n",
            "tcmalloc: large alloc 1073741824 bytes == 0x7fe6360f4000 @  0x7fed52de4b6b 0x7fed52e04379 0x7fed137232ec 0x7fed06e02540 0x7fed06e00839 0x7fed06e017ca 0x7fed06e01ca9 0x7fed06e02181 0x7fed05c03fe3 0x7fed003c6fec 0x7fed00232796 0x7fed00158c4a 0x7fed0909b904 0x7fed003c864b 0x7fed0036f761 0x7fed0e491701 0x7fed0e0b4dd5 0x7fed0e0b2b03 0x7fed00ab633b 0x7fed527c66db 0x7fed52aff61f\n",
            "I1127 20:28:57.489039 140626690340608 train.py:93] retracing step_fn\n",
            "Local loss [[0.219325736]]\n",
            "I1127 20:29:01.892387 140624389347072 train.py:93] retracing step_fn\n",
            "Local loss [[0.0887680054]]\n",
            "I1127 20:29:06.469436 140622095521536 train.py:93] retracing step_fn\n",
            "Local loss [[0.141916588]]\n",
            "I1127 20:29:11.039136 140619805038336 train.py:93] retracing step_fn\n",
            "Local loss [[0.171016917]]\n",
            "I1127 20:29:15.577085 140617511393024 train.py:93] retracing step_fn\n",
            "Local loss [[0.158131316]]\n",
            "I1127 20:29:20.088448 140615210063616 train.py:93] retracing step_fn\n",
            "Local loss [[0.0981173068]]\n",
            "I1127 20:29:24.563376 140612916238080 train.py:93] retracing step_fn\n",
            "Local loss [[0.113318816]]\n",
            "I1127 20:29:28.956016 140610624354048 train.py:93] retracing step_fn\n",
            "Local loss [[0.163093016]]\n",
            "I1127 20:29:29.080925 140610624354048 train.py:93] retracing step_fn\n",
            "Local loss [[0.209046319]]\n",
            "I1127 20:29:33.570208 140608322139904 train.py:93] retracing step_fn\n",
            "Local loss [[0.189429954]]\n",
            "I1127 20:29:33.704932 140657278809984 train.py:224] [20] loss = 0.1552, acc = 0.9490 auc = 0.9187 steps_per_second = 0.24646915449203588\n",
            "I1127 20:29:38.082459 140606030255872 train.py:93] retracing step_fn\n",
            "Local loss [[0.183249742]]\n",
            "I1127 20:29:42.565027 140603737495296 train.py:93] retracing step_fn\n",
            "tcmalloc: large alloc 2147483648 bytes == 0x7fe05b53c000 @  0x7fed52de4b6b 0x7fed52e04379 0x7fed137232ec 0x7fed06e02540 0x7fed06e00839 0x7fed06e017ca 0x7fed06e01ca9 0x7fed06e02181 0x7fed05c03fe3 0x7fed003c6fec 0x7fed002317dd 0x7fed00057bea 0x7fed0005845f 0x7fed00058632 0x7fed07168914 0x7fed003c864b 0x7fed0036c060 0x7fed00356aae 0x7fed0e491701 0x7fed0e0b4dd5 0x7fed0e0b2b03 0x7fed00ab633b 0x7fed527c66db 0x7fed52aff61f\n",
            "Local loss [[0.21310389]]\n",
            "I1127 20:29:47.165048 140599221745408 train.py:93] retracing step_fn\n",
            "Local loss [[0.17179215]]\n",
            "I1127 20:29:51.639675 140596927919872 train.py:93] retracing step_fn\n",
            "Local loss [[0.151844323]]\n",
            "I1127 20:29:56.226001 140594633930496 train.py:93] retracing step_fn\n",
            "Local loss [[0.165928766]]\n",
            "I1127 20:30:00.640215 140592333657856 train.py:93] retracing step_fn\n",
            "Local loss [[0.135451734]]\n",
            "I1127 20:30:05.006662 140590041773824 train.py:93] retracing step_fn\n",
            "Local loss [[0.16892603]]\n",
            "I1127 20:30:09.405806 140587749889792 train.py:93] retracing step_fn\n",
            "Local loss [[0.0881343856]]\n",
            "I1127 20:30:13.934403 140585449617152 train.py:93] retracing step_fn\n",
            "Local loss [[0.178940088]]\n",
            "I1127 20:30:18.545279 140583157733120 train.py:93] retracing step_fn\n",
            "Local loss [[0.163988471]]\n",
            "I1127 20:30:18.684370 140657278809984 train.py:224] [30] loss = 0.1621, acc = 0.9470 auc = 0.9173 steps_per_second = 0.22242361572462213\n",
            "I1127 20:30:18.768546 140657278809984 train.py:241] Saved checkpoint: /gdrive/MyDrive/498/neural_lns/models/ckpt-1\n"
          ]
        }
      ],
      "source": [
        "!python3 neural_lns/train.py"
      ]
    },
    {
      "cell_type": "markdown",
      "source": [
        "### Cauctions problem"
      ],
      "metadata": {
        "id": "MhwEcmUj0KDw"
      }
    },
    {
      "cell_type": "code",
      "source": [
        "!python3 neural_lns/train.py"
      ],
      "metadata": {
        "colab": {
          "base_uri": "https://localhost:8080/"
        },
        "id": "SpRBKJSR0Jfm",
        "outputId": "2b5324d9-1154-48dc-b3ec-779a928b801d"
      },
      "execution_count": null,
      "outputs": [
        {
          "output_type": "stream",
          "name": "stdout",
          "text": [
            "2022-11-27 20:41:21.110662: W tensorflow/core/common_runtime/gpu/gpu_bfc_allocator.cc:42] Overriding orig_value setting because the TF_FORCE_GPU_ALLOW_GROWTH environment variable is set. Original config value was 0.\n",
            "I1127 20:41:21.111697 139820255799168 train.py:250] Found GPUs: [LogicalDevice(name='/device:GPU:0', device_type='GPU')]\n",
            "INFO:tensorflow:Using MirroredStrategy with devices ('/job:localhost/replica:0/task:0/device:GPU:0',)\n",
            "I1127 20:41:21.117599 139820255799168 mirrored_strategy.py:374] Using MirroredStrategy with devices ('/job:localhost/replica:0/task:0/device:GPU:0',)\n",
            "I1127 20:41:21.118059 139820255799168 train.py:255] Distribution strategy: <sonnet.src.distribute.replicator.Replicator object at 0x7f29e964fd90>\n",
            "I1127 20:41:21.118365 139820255799168 train.py:256] Devices: [PhysicalDevice(name='/physical_device:CPU:0', device_type='CPU'), PhysicalDevice(name='/physical_device:GPU:0', device_type='GPU')]\n",
            "/usr/local/lib/python3.7/dist-packages/tensorflow/python/data/ops/structured_function.py:265: UserWarning: Even though the `tf.config.experimental_run_functions_eagerly` option is set, this option does not apply to tf.data functions. To force eager execution of tf.data functions, please use `tf.data.experimental.enable_debug_mode()`.\n",
            "  \"Even though the `tf.config.experimental_run_functions_eagerly` \"\n",
            "INFO:tensorflow:Reduce to /job:localhost/replica:0/task:0/device:CPU:0 then broadcast to ('/job:localhost/replica:0/task:0/device:CPU:0',).\n",
            "I1127 20:44:42.190393 139820255799168 cross_device_ops.py:618] Reduce to /job:localhost/replica:0/task:0/device:CPU:0 then broadcast to ('/job:localhost/replica:0/task:0/device:CPU:0',).\n",
            "INFO:tensorflow:Reduce to /job:localhost/replica:0/task:0/device:CPU:0 then broadcast to ('/job:localhost/replica:0/task:0/device:CPU:0',).\n",
            "I1127 20:44:42.191716 139820255799168 cross_device_ops.py:618] Reduce to /job:localhost/replica:0/task:0/device:CPU:0 then broadcast to ('/job:localhost/replica:0/task:0/device:CPU:0',).\n",
            "INFO:tensorflow:Reduce to /job:localhost/replica:0/task:0/device:CPU:0 then broadcast to ('/job:localhost/replica:0/task:0/device:CPU:0',).\n",
            "I1127 20:44:42.194441 139820255799168 cross_device_ops.py:618] Reduce to /job:localhost/replica:0/task:0/device:CPU:0 then broadcast to ('/job:localhost/replica:0/task:0/device:CPU:0',).\n",
            "INFO:tensorflow:Reduce to /job:localhost/replica:0/task:0/device:CPU:0 then broadcast to ('/job:localhost/replica:0/task:0/device:CPU:0',).\n",
            "I1127 20:44:42.195196 139820255799168 cross_device_ops.py:618] Reduce to /job:localhost/replica:0/task:0/device:CPU:0 then broadcast to ('/job:localhost/replica:0/task:0/device:CPU:0',).\n",
            "INFO:tensorflow:Reduce to /job:localhost/replica:0/task:0/device:CPU:0 then broadcast to ('/job:localhost/replica:0/task:0/device:CPU:0',).\n",
            "I1127 20:44:42.201020 139820255799168 cross_device_ops.py:618] Reduce to /job:localhost/replica:0/task:0/device:CPU:0 then broadcast to ('/job:localhost/replica:0/task:0/device:CPU:0',).\n",
            "INFO:tensorflow:Reduce to /job:localhost/replica:0/task:0/device:CPU:0 then broadcast to ('/job:localhost/replica:0/task:0/device:CPU:0',).\n",
            "I1127 20:44:42.201782 139820255799168 cross_device_ops.py:618] Reduce to /job:localhost/replica:0/task:0/device:CPU:0 then broadcast to ('/job:localhost/replica:0/task:0/device:CPU:0',).\n",
            "INFO:tensorflow:Reduce to /job:localhost/replica:0/task:0/device:CPU:0 then broadcast to ('/job:localhost/replica:0/task:0/device:CPU:0',).\n",
            "I1127 20:44:42.203353 139820255799168 cross_device_ops.py:618] Reduce to /job:localhost/replica:0/task:0/device:CPU:0 then broadcast to ('/job:localhost/replica:0/task:0/device:CPU:0',).\n",
            "INFO:tensorflow:Reduce to /job:localhost/replica:0/task:0/device:CPU:0 then broadcast to ('/job:localhost/replica:0/task:0/device:CPU:0',).\n",
            "I1127 20:44:42.204101 139820255799168 cross_device_ops.py:618] Reduce to /job:localhost/replica:0/task:0/device:CPU:0 then broadcast to ('/job:localhost/replica:0/task:0/device:CPU:0',).\n",
            "INFO:tensorflow:Reduce to /job:localhost/replica:0/task:0/device:CPU:0 then broadcast to ('/job:localhost/replica:0/task:0/device:CPU:0',).\n",
            "I1127 20:44:42.210548 139820255799168 cross_device_ops.py:618] Reduce to /job:localhost/replica:0/task:0/device:CPU:0 then broadcast to ('/job:localhost/replica:0/task:0/device:CPU:0',).\n",
            "INFO:tensorflow:Reduce to /job:localhost/replica:0/task:0/device:CPU:0 then broadcast to ('/job:localhost/replica:0/task:0/device:CPU:0',).\n",
            "I1127 20:44:42.211312 139820255799168 cross_device_ops.py:618] Reduce to /job:localhost/replica:0/task:0/device:CPU:0 then broadcast to ('/job:localhost/replica:0/task:0/device:CPU:0',).\n",
            "I1127 20:44:42.228776 139820255799168 train.py:207] Initializing from scratch.\n",
            "I1127 21:03:17.218518 139820255799168 train.py:210] Starting training...\n",
            "WARNING:tensorflow:Using Replicator eagerly has significant overhead currently. We will be working on improving this in the future, but for now please wrap `call_for_each_replica` or `experimental_run` or `run` inside a tf.function to get the best performance.\n",
            "W1127 21:03:18.582434 139820255799168 mirrored_run.py:92] Using Replicator eagerly has significant overhead currently. We will be working on improving this in the future, but for now please wrap `call_for_each_replica` or `experimental_run` or `run` inside a tf.function to get the best performance.\n",
            "I1127 21:03:18.583924 139814611334912 train.py:93] retracing step_fn\n",
            "Local loss [[1.11271322]]\n",
            "WARNING:tensorflow:Using Replicator eagerly has significant overhead currently. We will be working on improving this in the future, but for now please wrap `call_for_each_replica` or `experimental_run` or `run` inside a tf.function to get the best performance.\n",
            "W1127 21:03:20.998072 139820255799168 mirrored_run.py:92] Using Replicator eagerly has significant overhead currently. We will be working on improving this in the future, but for now please wrap `call_for_each_replica` or `experimental_run` or `run` inside a tf.function to get the best performance.\n",
            "I1127 21:03:20.999424 139814592714496 train.py:93] retracing step_fn\n",
            "Local loss [[0.381616026]]\n",
            "WARNING:tensorflow:Using Replicator eagerly has significant overhead currently. We will be working on improving this in the future, but for now please wrap `call_for_each_replica` or `experimental_run` or `run` inside a tf.function to get the best performance.\n",
            "W1127 21:03:22.500724 139820255799168 mirrored_run.py:92] Using Replicator eagerly has significant overhead currently. We will be working on improving this in the future, but for now please wrap `call_for_each_replica` or `experimental_run` or `run` inside a tf.function to get the best performance.\n",
            "I1127 21:03:22.502048 139814271710976 train.py:93] retracing step_fn\n",
            "Local loss [[0.29080838]]\n",
            "WARNING:tensorflow:Using Replicator eagerly has significant overhead currently. We will be working on improving this in the future, but for now please wrap `call_for_each_replica` or `experimental_run` or `run` inside a tf.function to get the best performance.\n",
            "W1127 21:03:23.930646 139820255799168 mirrored_run.py:92] Using Replicator eagerly has significant overhead currently. We will be working on improving this in the future, but for now please wrap `call_for_each_replica` or `experimental_run` or `run` inside a tf.function to get the best performance.\n",
            "I1127 21:03:23.931966 139814254925568 train.py:93] retracing step_fn\n",
            "Local loss [[0.249430269]]\n",
            "WARNING:tensorflow:Using Replicator eagerly has significant overhead currently. We will be working on improving this in the future, but for now please wrap `call_for_each_replica` or `experimental_run` or `run` inside a tf.function to get the best performance.\n",
            "W1127 21:03:25.431968 139820255799168 mirrored_run.py:92] Using Replicator eagerly has significant overhead currently. We will be working on improving this in the future, but for now please wrap `call_for_each_replica` or `experimental_run` or `run` inside a tf.function to get the best performance.\n",
            "I1127 21:03:25.433145 139814238140160 train.py:93] retracing step_fn\n",
            "Local loss [[0.273755252]]\n",
            "I1127 21:03:26.938158 139814221354752 train.py:93] retracing step_fn\n",
            "Local loss [[0.208580941]]\n",
            "I1127 21:03:28.388446 139814204569344 train.py:93] retracing step_fn\n",
            "Local loss [[0.238259554]]\n",
            "I1127 21:03:29.849584 139814187783936 train.py:93] retracing step_fn\n",
            "Local loss [[0.213820755]]\n",
            "I1127 21:03:31.469026 139814170998528 train.py:93] retracing step_fn\n",
            "Local loss [[0.196927667]]\n",
            "I1127 21:03:33.006980 139814154213120 train.py:93] retracing step_fn\n",
            "Local loss [[0.178175479]]\n",
            "I1127 21:03:33.122454 139820255799168 train.py:224] [10] loss = 0.3344, acc = 0.8410 auc = 0.6530 steps_per_second = 0.6297118646022897\n",
            "I1127 21:03:34.526523 139814137427712 train.py:93] retracing step_fn\n",
            "Local loss [[0.225601092]]\n",
            "I1127 21:03:35.953697 139814120642304 train.py:93] retracing step_fn\n",
            "Local loss [[0.20473963]]\n",
            "I1127 21:03:37.407586 139814103856896 train.py:93] retracing step_fn\n",
            "Local loss [[0.181995898]]\n",
            "I1127 21:03:38.832756 139814087071488 train.py:93] retracing step_fn\n",
            "Local loss [[0.165250912]]\n",
            "I1127 21:03:40.302818 139814070286080 train.py:93] retracing step_fn\n",
            "Local loss [[0.179726735]]\n",
            "I1127 21:03:41.778017 139814053500672 train.py:93] retracing step_fn\n",
            "Local loss [[0.160329849]]\n",
            "I1127 21:03:43.278585 139814036715264 train.py:93] retracing step_fn\n",
            "Local loss [[0.199025989]]\n",
            "I1127 21:03:44.786458 139814019929856 train.py:93] retracing step_fn\n",
            "Local loss [[0.152017266]]\n",
            "I1127 21:03:46.271295 139814003144448 train.py:93] retracing step_fn\n",
            "Local loss [[0.133707717]]\n",
            "I1127 21:03:47.760214 139813986359040 train.py:93] retracing step_fn\n",
            "Local loss [[0.167986155]]\n",
            "I1127 21:03:47.874104 139820255799168 train.py:224] [20] loss = 0.1770, acc = 0.9314 auc = 0.8936 steps_per_second = 0.6787776691687295\n",
            "I1127 21:03:49.361714 139813969573632 train.py:93] retracing step_fn\n",
            "Local loss [[0.164256766]]\n",
            "I1127 21:03:50.900232 139813952788224 train.py:93] retracing step_fn\n",
            "Local loss [[0.167641878]]\n",
            "I1127 21:03:52.440918 139813936002816 train.py:93] retracing step_fn\n",
            "Local loss [[0.152324975]]\n",
            "I1127 21:03:53.985582 139813865740032 train.py:93] retracing step_fn\n",
            "Local loss [[0.148343325]]\n",
            "I1127 21:03:55.574432 139813715777280 train.py:93] retracing step_fn\n",
            "Local loss [[0.196507365]]\n",
            "I1127 21:03:57.205982 139813567919872 train.py:93] retracing step_fn\n",
            "Local loss [[0.137382567]]\n",
            "I1127 21:03:58.806797 139813420062464 train.py:93] retracing step_fn\n",
            "Local loss [[0.136637226]]\n",
            "I1127 21:04:00.327338 139813133784832 train.py:93] retracing step_fn\n",
            "Local loss [[0.137836128]]\n",
            "I1127 21:04:01.838888 139812985927424 train.py:93] retracing step_fn\n",
            "Local loss [[0.161818758]]\n",
            "I1127 21:04:03.347582 139812838070016 train.py:93] retracing step_fn\n",
            "Local loss [[0.174931124]]\n",
            "I1127 21:04:03.463319 139820255799168 train.py:224] [30] loss = 0.1578, acc = 0.9380 auc = 0.9145 steps_per_second = 0.6422320051779333\n",
            "I1127 21:04:03.516546 139820255799168 train.py:241] Saved checkpoint: /gdrive/MyDrive/498/neural_lns/models/ckpt-1\n"
          ]
        }
      ]
    },
    {
      "cell_type": "markdown",
      "source": [
        "### Scheduling Problem"
      ],
      "metadata": {
        "id": "fa-iUjVH0O1p"
      }
    },
    {
      "cell_type": "code",
      "source": [
        "!python3 neural_lns/train.py"
      ],
      "metadata": {
        "colab": {
          "base_uri": "https://localhost:8080/"
        },
        "id": "uXb3QziZ6cY_",
        "outputId": "5f7540eb-093d-4f70-ab5d-e9bc96ac8f5f"
      },
      "execution_count": null,
      "outputs": [
        {
          "output_type": "stream",
          "name": "stdout",
          "text": [
            "2022-11-27 21:08:08.258986: W tensorflow/core/common_runtime/gpu/gpu_bfc_allocator.cc:42] Overriding orig_value setting because the TF_FORCE_GPU_ALLOW_GROWTH environment variable is set. Original config value was 0.\n",
            "I1127 21:08:08.260185 140372597385088 train.py:250] Found GPUs: [LogicalDevice(name='/device:GPU:0', device_type='GPU')]\n",
            "INFO:tensorflow:Using MirroredStrategy with devices ('/job:localhost/replica:0/task:0/device:GPU:0',)\n",
            "I1127 21:08:08.266355 140372597385088 mirrored_strategy.py:374] Using MirroredStrategy with devices ('/job:localhost/replica:0/task:0/device:GPU:0',)\n",
            "I1127 21:08:08.266812 140372597385088 train.py:255] Distribution strategy: <sonnet.src.distribute.replicator.Replicator object at 0x7faa83083c10>\n",
            "I1127 21:08:08.267119 140372597385088 train.py:256] Devices: [PhysicalDevice(name='/physical_device:CPU:0', device_type='CPU'), PhysicalDevice(name='/physical_device:GPU:0', device_type='GPU')]\n",
            "/usr/local/lib/python3.7/dist-packages/tensorflow/python/data/ops/structured_function.py:265: UserWarning: Even though the `tf.config.experimental_run_functions_eagerly` option is set, this option does not apply to tf.data functions. To force eager execution of tf.data functions, please use `tf.data.experimental.enable_debug_mode()`.\n",
            "  \"Even though the `tf.config.experimental_run_functions_eagerly` \"\n",
            "INFO:tensorflow:Reduce to /job:localhost/replica:0/task:0/device:CPU:0 then broadcast to ('/job:localhost/replica:0/task:0/device:CPU:0',).\n",
            "I1127 21:11:33.764850 140372597385088 cross_device_ops.py:618] Reduce to /job:localhost/replica:0/task:0/device:CPU:0 then broadcast to ('/job:localhost/replica:0/task:0/device:CPU:0',).\n",
            "INFO:tensorflow:Reduce to /job:localhost/replica:0/task:0/device:CPU:0 then broadcast to ('/job:localhost/replica:0/task:0/device:CPU:0',).\n",
            "I1127 21:11:33.766439 140372597385088 cross_device_ops.py:618] Reduce to /job:localhost/replica:0/task:0/device:CPU:0 then broadcast to ('/job:localhost/replica:0/task:0/device:CPU:0',).\n",
            "INFO:tensorflow:Reduce to /job:localhost/replica:0/task:0/device:CPU:0 then broadcast to ('/job:localhost/replica:0/task:0/device:CPU:0',).\n",
            "I1127 21:11:33.769994 140372597385088 cross_device_ops.py:618] Reduce to /job:localhost/replica:0/task:0/device:CPU:0 then broadcast to ('/job:localhost/replica:0/task:0/device:CPU:0',).\n",
            "INFO:tensorflow:Reduce to /job:localhost/replica:0/task:0/device:CPU:0 then broadcast to ('/job:localhost/replica:0/task:0/device:CPU:0',).\n",
            "I1127 21:11:33.770925 140372597385088 cross_device_ops.py:618] Reduce to /job:localhost/replica:0/task:0/device:CPU:0 then broadcast to ('/job:localhost/replica:0/task:0/device:CPU:0',).\n",
            "INFO:tensorflow:Reduce to /job:localhost/replica:0/task:0/device:CPU:0 then broadcast to ('/job:localhost/replica:0/task:0/device:CPU:0',).\n",
            "I1127 21:11:33.778700 140372597385088 cross_device_ops.py:618] Reduce to /job:localhost/replica:0/task:0/device:CPU:0 then broadcast to ('/job:localhost/replica:0/task:0/device:CPU:0',).\n",
            "INFO:tensorflow:Reduce to /job:localhost/replica:0/task:0/device:CPU:0 then broadcast to ('/job:localhost/replica:0/task:0/device:CPU:0',).\n",
            "I1127 21:11:33.779792 140372597385088 cross_device_ops.py:618] Reduce to /job:localhost/replica:0/task:0/device:CPU:0 then broadcast to ('/job:localhost/replica:0/task:0/device:CPU:0',).\n",
            "INFO:tensorflow:Reduce to /job:localhost/replica:0/task:0/device:CPU:0 then broadcast to ('/job:localhost/replica:0/task:0/device:CPU:0',).\n",
            "I1127 21:11:33.781759 140372597385088 cross_device_ops.py:618] Reduce to /job:localhost/replica:0/task:0/device:CPU:0 then broadcast to ('/job:localhost/replica:0/task:0/device:CPU:0',).\n",
            "INFO:tensorflow:Reduce to /job:localhost/replica:0/task:0/device:CPU:0 then broadcast to ('/job:localhost/replica:0/task:0/device:CPU:0',).\n",
            "I1127 21:11:33.782600 140372597385088 cross_device_ops.py:618] Reduce to /job:localhost/replica:0/task:0/device:CPU:0 then broadcast to ('/job:localhost/replica:0/task:0/device:CPU:0',).\n",
            "INFO:tensorflow:Reduce to /job:localhost/replica:0/task:0/device:CPU:0 then broadcast to ('/job:localhost/replica:0/task:0/device:CPU:0',).\n",
            "I1127 21:11:33.791404 140372597385088 cross_device_ops.py:618] Reduce to /job:localhost/replica:0/task:0/device:CPU:0 then broadcast to ('/job:localhost/replica:0/task:0/device:CPU:0',).\n",
            "INFO:tensorflow:Reduce to /job:localhost/replica:0/task:0/device:CPU:0 then broadcast to ('/job:localhost/replica:0/task:0/device:CPU:0',).\n",
            "I1127 21:11:33.792478 140372597385088 cross_device_ops.py:618] Reduce to /job:localhost/replica:0/task:0/device:CPU:0 then broadcast to ('/job:localhost/replica:0/task:0/device:CPU:0',).\n",
            "I1127 21:11:33.811962 140372597385088 train.py:207] Initializing from scratch.\n",
            "I1127 21:30:13.343015 140372597385088 train.py:210] Starting training...\n",
            "WARNING:tensorflow:Using Replicator eagerly has significant overhead currently. We will be working on improving this in the future, but for now please wrap `call_for_each_replica` or `experimental_run` or `run` inside a tf.function to get the best performance.\n",
            "W1127 21:30:16.024165 140372597385088 mirrored_run.py:92] Using Replicator eagerly has significant overhead currently. We will be working on improving this in the future, but for now please wrap `call_for_each_replica` or `experimental_run` or `run` inside a tf.function to get the best performance.\n",
            "I1127 21:30:16.025670 140366952675072 train.py:93] retracing step_fn\n",
            "Local loss [[0.516127]]\n",
            "WARNING:tensorflow:Using Replicator eagerly has significant overhead currently. We will be working on improving this in the future, but for now please wrap `call_for_each_replica` or `experimental_run` or `run` inside a tf.function to get the best performance.\n",
            "W1127 21:30:19.600219 140372597385088 mirrored_run.py:92] Using Replicator eagerly has significant overhead currently. We will be working on improving this in the future, but for now please wrap `call_for_each_replica` or `experimental_run` or `run` inside a tf.function to get the best performance.\n",
            "I1127 21:30:19.601662 140366934054656 train.py:93] retracing step_fn\n",
            "Local loss [[0.120018438]]\n",
            "WARNING:tensorflow:Using Replicator eagerly has significant overhead currently. We will be working on improving this in the future, but for now please wrap `call_for_each_replica` or `experimental_run` or `run` inside a tf.function to get the best performance.\n",
            "W1127 21:30:22.293445 140372597385088 mirrored_run.py:92] Using Replicator eagerly has significant overhead currently. We will be working on improving this in the future, but for now please wrap `call_for_each_replica` or `experimental_run` or `run` inside a tf.function to get the best performance.\n",
            "I1127 21:30:22.294796 140366544107264 train.py:93] retracing step_fn\n",
            "Local loss [[0.116112575]]\n",
            "WARNING:tensorflow:Using Replicator eagerly has significant overhead currently. We will be working on improving this in the future, but for now please wrap `call_for_each_replica` or `experimental_run` or `run` inside a tf.function to get the best performance.\n",
            "W1127 21:30:24.987970 140372597385088 mirrored_run.py:92] Using Replicator eagerly has significant overhead currently. We will be working on improving this in the future, but for now please wrap `call_for_each_replica` or `experimental_run` or `run` inside a tf.function to get the best performance.\n",
            "I1127 21:30:24.989579 140366237914880 train.py:93] retracing step_fn\n",
            "Local loss [[0.111864045]]\n",
            "WARNING:tensorflow:Using Replicator eagerly has significant overhead currently. We will be working on improving this in the future, but for now please wrap `call_for_each_replica` or `experimental_run` or `run` inside a tf.function to get the best performance.\n",
            "W1127 21:30:27.648474 140372597385088 mirrored_run.py:92] Using Replicator eagerly has significant overhead currently. We will be working on improving this in the future, but for now please wrap `call_for_each_replica` or `experimental_run` or `run` inside a tf.function to get the best performance.\n",
            "I1127 21:30:27.649759 140365035181824 train.py:93] retracing step_fn\n",
            "Local loss [[0.102098368]]\n",
            "I1127 21:30:30.266386 140363962472192 train.py:93] retracing step_fn\n",
            "Local loss [[0.100123823]]\n",
            "I1127 21:30:32.953487 140362898151168 train.py:93] retracing step_fn\n",
            "Local loss [[0.0961227119]]\n",
            "I1127 21:30:35.513806 140361833830144 train.py:93] retracing step_fn\n",
            "Local loss [[0.0890475586]]\n",
            "I1127 21:30:38.207678 140360492685056 train.py:93] retracing step_fn\n",
            "Local loss [[0.0791699663]]\n",
            "I1127 21:30:40.952946 140359428364032 train.py:93] retracing step_fn\n",
            "Local loss [[0.067075856]]\n",
            "I1127 21:30:41.078477 140372597385088 train.py:224] [10] loss = 0.1398, acc = 0.9756 auc = 0.7642 steps_per_second = 0.36084608954697234\n",
            "I1127 21:30:43.638746 140358364043008 train.py:93] retracing step_fn\n",
            "Local loss [[0.0531792864]]\n",
            "I1127 21:30:46.212692 140357299721984 train.py:93] retracing step_fn\n",
            "Local loss [[0.0481352061]]\n",
            "I1127 21:30:48.879425 140356227012352 train.py:93] retracing step_fn\n",
            "Local loss [[0.0533030704]]\n",
            "I1127 21:30:51.754042 140355162691328 train.py:93] retracing step_fn\n",
            "Local loss [[0.0520980358]]\n",
            "I1127 21:30:54.458895 140354098370304 train.py:93] retracing step_fn\n",
            "Local loss [[0.0398170613]]\n",
            "I1127 21:30:57.149542 140353034049280 train.py:93] retracing step_fn\n",
            "Local loss [[0.0437768474]]\n",
            "I1127 21:30:59.830351 140351416080128 train.py:93] retracing step_fn\n",
            "Local loss [[0.0426351056]]\n",
            "I1127 21:31:02.560651 140350343370496 train.py:93] retracing step_fn\n",
            "Local loss [[0.0579962917]]\n",
            "I1127 21:31:05.161616 140349279049472 train.py:93] retracing step_fn\n",
            "Local loss [[0.0469062142]]\n",
            "I1127 21:31:07.745844 140348214728448 train.py:93] retracing step_fn\n",
            "Local loss [[0.0598446131]]\n",
            "I1127 21:31:07.865161 140372597385088 train.py:224] [20] loss = 0.0498, acc = 0.9818 auc = 0.9514 steps_per_second = 0.373576619964676\n",
            "I1127 21:31:10.327989 140347150407424 train.py:93] retracing step_fn\n",
            "Local loss [[0.0516309589]]\n",
            "I1127 21:31:12.943165 140346086086400 train.py:93] retracing step_fn\n",
            "Local loss [[0.0593569949]]\n",
            "I1127 21:31:15.405176 140345021765376 train.py:93] retracing step_fn\n",
            "Local loss [[0.0532695688]]\n",
            "I1127 21:31:18.014069 140343949055744 train.py:93] retracing step_fn\n",
            "Local loss [[0.0575130656]]\n",
            "I1127 21:31:20.609992 140342884734720 train.py:93] retracing step_fn\n",
            "Local loss [[0.0500749238]]\n",
            "I1127 21:31:23.168470 140341820413696 train.py:93] retracing step_fn\n",
            "Local loss [[0.0580050275]]\n",
            "I1127 21:31:25.986412 140340756092672 train.py:93] retracing step_fn\n",
            "Local loss [[0.0505344905]]\n",
            "I1127 21:31:28.887925 140339691771648 train.py:93] retracing step_fn\n",
            "Local loss [[0.048966594]]\n",
            "I1127 21:31:31.639003 140338627450624 train.py:93] retracing step_fn\n",
            "Local loss [[0.0599683151]]\n",
            "I1127 21:31:34.515660 140337554740992 train.py:93] retracing step_fn\n",
            "Local loss [[0.0532905087]]\n",
            "I1127 21:31:34.646569 140372597385088 train.py:224] [30] loss = 0.0543, acc = 0.9815 auc = 0.9295 steps_per_second = 0.37367577697397575\n",
            "I1127 21:31:34.706455 140372597385088 train.py:241] Saved checkpoint: /gdrive/MyDrive/498/neural_lns/models/ckpt-1\n"
          ]
        }
      ]
    },
    {
      "cell_type": "markdown",
      "source": [],
      "metadata": {
        "id": "o74QDQDywBGr"
      }
    },
    {
      "cell_type": "markdown",
      "source": [
        "# Loss Graphs"
      ],
      "metadata": {
        "id": "PxWiY8sWgTmS"
      }
    },
    {
      "cell_type": "markdown",
      "source": [
        "## Facilities Loss"
      ],
      "metadata": {
        "id": "VSX2BEcNkxBl"
      }
    },
    {
      "cell_type": "code",
      "source": [
        "loss = '''2022-11-27 20:06:25.198753: W tensorflow/core/common_runtime/gpu/gpu_bfc_allocator.cc:42] Overriding orig_value setting because the TF_FORCE_GPU_ALLOW_GROWTH environment variable is set. Original config value was 0.\n",
        "I1127 20:06:25.202801 140657278809984 train.py:250] Found GPUs: [LogicalDevice(name='/device:GPU:0', device_type='GPU')]\n",
        "INFO:tensorflow:Using MirroredStrategy with devices ('/job:localhost/replica:0/task:0/device:GPU:0',)\n",
        "I1127 20:06:25.230713 140657278809984 mirrored_strategy.py:374] Using MirroredStrategy with devices ('/job:localhost/replica:0/task:0/device:GPU:0',)\n",
        "I1127 20:06:25.231158 140657278809984 train.py:255] Distribution strategy: <sonnet.src.distribute.replicator.Replicator object at 0x7feccb681890>\n",
        "I1127 20:06:25.231468 140657278809984 train.py:256] Devices: [PhysicalDevice(name='/physical_device:CPU:0', device_type='CPU'), PhysicalDevice(name='/physical_device:GPU:0', device_type='GPU')]\n",
        "/usr/local/lib/python3.7/dist-packages/tensorflow/python/data/ops/structured_function.py:265: UserWarning: Even though the `tf.config.experimental_run_functions_eagerly` option is set, this option does not apply to tf.data functions. To force eager execution of tf.data functions, please use `tf.data.experimental.enable_debug_mode()`.\n",
        "  \"Even though the `tf.config.experimental_run_functions_eagerly` \"\n",
        "INFO:tensorflow:Reduce to /job:localhost/replica:0/task:0/device:CPU:0 then broadcast to ('/job:localhost/replica:0/task:0/device:CPU:0',).\n",
        "I1127 20:09:46.839104 140657278809984 cross_device_ops.py:618] Reduce to /job:localhost/replica:0/task:0/device:CPU:0 then broadcast to ('/job:localhost/replica:0/task:0/device:CPU:0',).\n",
        "INFO:tensorflow:Reduce to /job:localhost/replica:0/task:0/device:CPU:0 then broadcast to ('/job:localhost/replica:0/task:0/device:CPU:0',).\n",
        "I1127 20:09:46.840565 140657278809984 cross_device_ops.py:618] Reduce to /job:localhost/replica:0/task:0/device:CPU:0 then broadcast to ('/job:localhost/replica:0/task:0/device:CPU:0',).\n",
        "INFO:tensorflow:Reduce to /job:localhost/replica:0/task:0/device:CPU:0 then broadcast to ('/job:localhost/replica:0/task:0/device:CPU:0',).\n",
        "I1127 20:09:46.843805 140657278809984 cross_device_ops.py:618] Reduce to /job:localhost/replica:0/task:0/device:CPU:0 then broadcast to ('/job:localhost/replica:0/task:0/device:CPU:0',).\n",
        "INFO:tensorflow:Reduce to /job:localhost/replica:0/task:0/device:CPU:0 then broadcast to ('/job:localhost/replica:0/task:0/device:CPU:0',).\n",
        "I1127 20:09:46.844618 140657278809984 cross_device_ops.py:618] Reduce to /job:localhost/replica:0/task:0/device:CPU:0 then broadcast to ('/job:localhost/replica:0/task:0/device:CPU:0',).\n",
        "INFO:tensorflow:Reduce to /job:localhost/replica:0/task:0/device:CPU:0 then broadcast to ('/job:localhost/replica:0/task:0/device:CPU:0',).\n",
        "I1127 20:09:46.851724 140657278809984 cross_device_ops.py:618] Reduce to /job:localhost/replica:0/task:0/device:CPU:0 then broadcast to ('/job:localhost/replica:0/task:0/device:CPU:0',).\n",
        "INFO:tensorflow:Reduce to /job:localhost/replica:0/task:0/device:CPU:0 then broadcast to ('/job:localhost/replica:0/task:0/device:CPU:0',).\n",
        "I1127 20:09:46.852612 140657278809984 cross_device_ops.py:618] Reduce to /job:localhost/replica:0/task:0/device:CPU:0 then broadcast to ('/job:localhost/replica:0/task:0/device:CPU:0',).\n",
        "INFO:tensorflow:Reduce to /job:localhost/replica:0/task:0/device:CPU:0 then broadcast to ('/job:localhost/replica:0/task:0/device:CPU:0',).\n",
        "I1127 20:09:46.854392 140657278809984 cross_device_ops.py:618] Reduce to /job:localhost/replica:0/task:0/device:CPU:0 then broadcast to ('/job:localhost/replica:0/task:0/device:CPU:0',).\n",
        "INFO:tensorflow:Reduce to /job:localhost/replica:0/task:0/device:CPU:0 then broadcast to ('/job:localhost/replica:0/task:0/device:CPU:0',).\n",
        "I1127 20:09:46.855143 140657278809984 cross_device_ops.py:618] Reduce to /job:localhost/replica:0/task:0/device:CPU:0 then broadcast to ('/job:localhost/replica:0/task:0/device:CPU:0',).\n",
        "INFO:tensorflow:Reduce to /job:localhost/replica:0/task:0/device:CPU:0 then broadcast to ('/job:localhost/replica:0/task:0/device:CPU:0',).\n",
        "I1127 20:09:46.862936 140657278809984 cross_device_ops.py:618] Reduce to /job:localhost/replica:0/task:0/device:CPU:0 then broadcast to ('/job:localhost/replica:0/task:0/device:CPU:0',).\n",
        "INFO:tensorflow:Reduce to /job:localhost/replica:0/task:0/device:CPU:0 then broadcast to ('/job:localhost/replica:0/task:0/device:CPU:0',).\n",
        "I1127 20:09:46.863858 140657278809984 cross_device_ops.py:618] Reduce to /job:localhost/replica:0/task:0/device:CPU:0 then broadcast to ('/job:localhost/replica:0/task:0/device:CPU:0',).\n",
        "I1127 20:09:46.883904 140657278809984 train.py:207] Initializing from scratch.\n",
        "I1127 20:28:01.274571 140657278809984 train.py:210] Starting training...\n",
        "WARNING:tensorflow:Using Replicator eagerly has significant overhead currently. We will be working on improving this in the future, but for now please wrap `call_for_each_replica` or `experimental_run` or `run` inside a tf.function to get the best performance.\n",
        "W1127 20:28:06.082906 140657278809984 mirrored_run.py:92] Using Replicator eagerly has significant overhead currently. We will be working on improving this in the future, but for now please wrap `call_for_each_replica` or `experimental_run` or `run` inside a tf.function to get the best performance.\n",
        "I1127 20:28:06.084197 140651634247424 train.py:93] retracing step_fn\n",
        "Local loss [[0.524225712]]\n",
        "WARNING:tensorflow:Using Replicator eagerly has significant overhead currently. We will be working on improving this in the future, but for now please wrap `call_for_each_replica` or `experimental_run` or `run` inside a tf.function to get the best performance.\n",
        "W1127 20:28:16.247141 140657278809984 mirrored_run.py:92] Using Replicator eagerly has significant overhead currently. We will be working on improving this in the future, but for now please wrap `call_for_each_replica` or `experimental_run` or `run` inside a tf.function to get the best performance.\n",
        "I1127 20:28:16.248331 140649437026048 train.py:93] retracing step_fn\n",
        "Local loss [[0.244767234]]\n",
        "WARNING:tensorflow:Using Replicator eagerly has significant overhead currently. We will be working on improving this in the future, but for now please wrap `call_for_each_replica` or `experimental_run` or `run` inside a tf.function to get the best performance.\n",
        "W1127 20:28:20.926626 140657278809984 mirrored_run.py:92] Using Replicator eagerly has significant overhead currently. We will be working on improving this in the future, but for now please wrap `call_for_each_replica` or `experimental_run` or `run` inside a tf.function to get the best performance.\n",
        "I1127 20:28:20.927762 140646995875584 train.py:93] retracing step_fn\n",
        "Local loss [[0.234866977]]\n",
        "WARNING:tensorflow:Using Replicator eagerly has significant overhead currently. We will be working on improving this in the future, but for now please wrap `call_for_each_replica` or `experimental_run` or `run` inside a tf.function to get the best performance.\n",
        "W1127 20:28:25.621208 140657278809984 mirrored_run.py:92] Using Replicator eagerly has significant overhead currently. We will be working on improving this in the future, but for now please wrap `call_for_each_replica` or `experimental_run` or `run` inside a tf.function to get the best performance.\n",
        "I1127 20:28:25.622877 140644422227712 train.py:93] retracing step_fn\n",
        "Local loss [[0.190715134]]\n",
        "WARNING:tensorflow:Using Replicator eagerly has significant overhead currently. We will be working on improving this in the future, but for now please wrap `call_for_each_replica` or `experimental_run` or `run` inside a tf.function to get the best performance.\n",
        "W1127 20:28:30.250697 140657278809984 mirrored_run.py:92] Using Replicator eagerly has significant overhead currently. We will be working on improving this in the future, but for now please wrap `call_for_each_replica` or `experimental_run` or `run` inside a tf.function to get the best performance.\n",
        "I1127 20:28:30.252310 140642129630976 train.py:93] retracing step_fn\n",
        "Local loss [[0.0904601961]]\n",
        "I1127 20:28:34.952421 140639274997504 train.py:93] retracing step_fn\n",
        "Local loss [[0.258758813]]\n",
        "I1127 20:28:39.471744 140636984850176 train.py:93] retracing step_fn\n",
        "Local loss [[0.0695725232]]\n",
        "I1127 20:28:43.860294 140634689271552 train.py:93] retracing step_fn\n",
        "Local loss [[0.167383954]]\n",
        "I1127 20:28:48.349727 140632387581696 train.py:93] retracing step_fn\n",
        "Local loss [[0.193985671]]\n",
        "I1127 20:28:52.791775 140630094444288 train.py:93] retracing step_fn\n",
        "Local loss [[0.16528672]]\n",
        "I1127 20:28:53.112718 140657278809984 train.py:224] [10] loss = 0.2140, acc = 0.9310 auc = 0.9058 steps_per_second = 0.19365616209089104\n",
        "tcmalloc: large alloc 1073741824 bytes == 0x7fe6360f4000 @  0x7fed52de4b6b 0x7fed52e04379 0x7fed137232ec 0x7fed06e02540 0x7fed06e00839 0x7fed06e017ca 0x7fed06e01ca9 0x7fed06e02181 0x7fed05c03fe3 0x7fed003c6fec 0x7fed00232796 0x7fed00158c4a 0x7fed0909b904 0x7fed003c864b 0x7fed0036f761 0x7fed0e491701 0x7fed0e0b4dd5 0x7fed0e0b2b03 0x7fed00ab633b 0x7fed527c66db 0x7fed52aff61f\n",
        "I1127 20:28:57.489039 140626690340608 train.py:93] retracing step_fn\n",
        "Local loss [[0.219325736]]\n",
        "I1127 20:29:01.892387 140624389347072 train.py:93] retracing step_fn\n",
        "Local loss [[0.0887680054]]\n",
        "I1127 20:29:06.469436 140622095521536 train.py:93] retracing step_fn\n",
        "Local loss [[0.141916588]]\n",
        "I1127 20:29:11.039136 140619805038336 train.py:93] retracing step_fn\n",
        "Local loss [[0.171016917]]\n",
        "I1127 20:29:15.577085 140617511393024 train.py:93] retracing step_fn\n",
        "Local loss [[0.158131316]]\n",
        "I1127 20:29:20.088448 140615210063616 train.py:93] retracing step_fn\n",
        "Local loss [[0.0981173068]]\n",
        "I1127 20:29:24.563376 140612916238080 train.py:93] retracing step_fn\n",
        "Local loss [[0.113318816]]\n",
        "I1127 20:29:28.956016 140610624354048 train.py:93] retracing step_fn\n",
        "Local loss [[0.163093016]]\n",
        "I1127 20:29:29.080925 140610624354048 train.py:93] retracing step_fn\n",
        "Local loss [[0.209046319]]\n",
        "I1127 20:29:33.570208 140608322139904 train.py:93] retracing step_fn\n",
        "Local loss [[0.189429954]]\n",
        "I1127 20:29:33.704932 140657278809984 train.py:224] [20] loss = 0.1552, acc = 0.9490 auc = 0.9187 steps_per_second = 0.24646915449203588\n",
        "I1127 20:29:38.082459 140606030255872 train.py:93] retracing step_fn\n",
        "Local loss [[0.183249742]]\n",
        "I1127 20:29:42.565027 140603737495296 train.py:93] retracing step_fn\n",
        "tcmalloc: large alloc 2147483648 bytes == 0x7fe05b53c000 @  0x7fed52de4b6b 0x7fed52e04379 0x7fed137232ec 0x7fed06e02540 0x7fed06e00839 0x7fed06e017ca 0x7fed06e01ca9 0x7fed06e02181 0x7fed05c03fe3 0x7fed003c6fec 0x7fed002317dd 0x7fed00057bea 0x7fed0005845f 0x7fed00058632 0x7fed07168914 0x7fed003c864b 0x7fed0036c060 0x7fed00356aae 0x7fed0e491701 0x7fed0e0b4dd5 0x7fed0e0b2b03 0x7fed00ab633b 0x7fed527c66db 0x7fed52aff61f\n",
        "Local loss [[0.21310389]]\n",
        "I1127 20:29:47.165048 140599221745408 train.py:93] retracing step_fn\n",
        "Local loss [[0.17179215]]\n",
        "I1127 20:29:51.639675 140596927919872 train.py:93] retracing step_fn\n",
        "Local loss [[0.151844323]]\n",
        "I1127 20:29:56.226001 140594633930496 train.py:93] retracing step_fn\n",
        "Local loss [[0.165928766]]\n",
        "I1127 20:30:00.640215 140592333657856 train.py:93] retracing step_fn\n",
        "Local loss [[0.135451734]]\n",
        "I1127 20:30:05.006662 140590041773824 train.py:93] retracing step_fn\n",
        "Local loss [[0.16892603]]\n",
        "I1127 20:30:09.405806 140587749889792 train.py:93] retracing step_fn\n",
        "Local loss [[0.0881343856]]\n",
        "I1127 20:30:13.934403 140585449617152 train.py:93] retracing step_fn\n",
        "Local loss [[0.178940088]]\n",
        "I1127 20:30:18.545279 140583157733120 train.py:93] retracing step_fn\n",
        "Local loss [[0.163988471]]\n",
        "I1127 20:30:18.684370 140657278809984 train.py:224] [30] loss = 0.1621, acc = 0.9470 auc = 0.9173 steps_per_second = 0.22242361572462213\n",
        "I1127 20:30:18.768546 140657278809984 train.py:241] Saved checkpoint: /gdrive/MyDrive/498/neural_lns/models/ckpt-1'''"
      ],
      "metadata": {
        "id": "xExdhAZSlwrt"
      },
      "execution_count": null,
      "outputs": []
    },
    {
      "cell_type": "code",
      "source": [
        "\n",
        "loss = loss.replace('[[', '|')\n",
        "loss = loss.replace(']]', '|')\n",
        "loss_list = loss.split('|')\n",
        "\n",
        "losses = []\n",
        "for el in loss_list:\n",
        "  try:\n",
        "    x = float(el)\n",
        "    losses.append(x)\n",
        "  except ValueError:\n",
        "     continue\n",
        "\n",
        "loss_df = pd.DataFrame(losses, columns=['Loss'])\n",
        "g = sns.lineplot(data=loss_df, x=loss_df.index, y='Loss')\n",
        "g.set(title='Facilities Loss graph')\n",
        "g.set(xlabel='Steps')\n",
        "\n"
      ],
      "metadata": {
        "id": "DmK6YYTNly0y",
        "colab": {
          "base_uri": "https://localhost:8080/",
          "height": 313
        },
        "outputId": "26f111af-c5ae-49bd-fa86-596da5211e42"
      },
      "execution_count": null,
      "outputs": [
        {
          "output_type": "execute_result",
          "data": {
            "text/plain": [
              "[Text(0.5, 0, 'Steps')]"
            ]
          },
          "metadata": {},
          "execution_count": 12
        },
        {
          "output_type": "display_data",
          "data": {
            "text/plain": [
              "<Figure size 432x288 with 1 Axes>"
            ],
            "image/png": "[encoded data removed]"
          },
          "metadata": {
            "needs_background": "light"
          }
        }
      ]
    },
    {
      "cell_type": "markdown",
      "source": [
        "## Cauctions Loss"
      ],
      "metadata": {
        "id": "qMwFzhQCj07T"
      }
    },
    {
      "cell_type": "code",
      "source": [
        "loss = '''2022-11-27 20:41:21.110662: W tensorflow/core/common_runtime/gpu/gpu_bfc_allocator.cc:42] Overriding orig_value setting because the TF_FORCE_GPU_ALLOW_GROWTH environment variable is set. Original config value was 0.\n",
        "I1127 20:41:21.111697 139820255799168 train.py:250] Found GPUs: [LogicalDevice(name='/device:GPU:0', device_type='GPU')]\n",
        "INFO:tensorflow:Using MirroredStrategy with devices ('/job:localhost/replica:0/task:0/device:GPU:0',)\n",
        "I1127 20:41:21.117599 139820255799168 mirrored_strategy.py:374] Using MirroredStrategy with devices ('/job:localhost/replica:0/task:0/device:GPU:0',)\n",
        "I1127 20:41:21.118059 139820255799168 train.py:255] Distribution strategy: <sonnet.src.distribute.replicator.Replicator object at 0x7f29e964fd90>\n",
        "I1127 20:41:21.118365 139820255799168 train.py:256] Devices: [PhysicalDevice(name='/physical_device:CPU:0', device_type='CPU'), PhysicalDevice(name='/physical_device:GPU:0', device_type='GPU')]\n",
        "/usr/local/lib/python3.7/dist-packages/tensorflow/python/data/ops/structured_function.py:265: UserWarning: Even though the `tf.config.experimental_run_functions_eagerly` option is set, this option does not apply to tf.data functions. To force eager execution of tf.data functions, please use `tf.data.experimental.enable_debug_mode()`.\n",
        "  \"Even though the `tf.config.experimental_run_functions_eagerly` \"\n",
        "INFO:tensorflow:Reduce to /job:localhost/replica:0/task:0/device:CPU:0 then broadcast to ('/job:localhost/replica:0/task:0/device:CPU:0',).\n",
        "I1127 20:44:42.190393 139820255799168 cross_device_ops.py:618] Reduce to /job:localhost/replica:0/task:0/device:CPU:0 then broadcast to ('/job:localhost/replica:0/task:0/device:CPU:0',).\n",
        "INFO:tensorflow:Reduce to /job:localhost/replica:0/task:0/device:CPU:0 then broadcast to ('/job:localhost/replica:0/task:0/device:CPU:0',).\n",
        "I1127 20:44:42.191716 139820255799168 cross_device_ops.py:618] Reduce to /job:localhost/replica:0/task:0/device:CPU:0 then broadcast to ('/job:localhost/replica:0/task:0/device:CPU:0',).\n",
        "INFO:tensorflow:Reduce to /job:localhost/replica:0/task:0/device:CPU:0 then broadcast to ('/job:localhost/replica:0/task:0/device:CPU:0',).\n",
        "I1127 20:44:42.194441 139820255799168 cross_device_ops.py:618] Reduce to /job:localhost/replica:0/task:0/device:CPU:0 then broadcast to ('/job:localhost/replica:0/task:0/device:CPU:0',).\n",
        "INFO:tensorflow:Reduce to /job:localhost/replica:0/task:0/device:CPU:0 then broadcast to ('/job:localhost/replica:0/task:0/device:CPU:0',).\n",
        "I1127 20:44:42.195196 139820255799168 cross_device_ops.py:618] Reduce to /job:localhost/replica:0/task:0/device:CPU:0 then broadcast to ('/job:localhost/replica:0/task:0/device:CPU:0',).\n",
        "INFO:tensorflow:Reduce to /job:localhost/replica:0/task:0/device:CPU:0 then broadcast to ('/job:localhost/replica:0/task:0/device:CPU:0',).\n",
        "I1127 20:44:42.201020 139820255799168 cross_device_ops.py:618] Reduce to /job:localhost/replica:0/task:0/device:CPU:0 then broadcast to ('/job:localhost/replica:0/task:0/device:CPU:0',).\n",
        "INFO:tensorflow:Reduce to /job:localhost/replica:0/task:0/device:CPU:0 then broadcast to ('/job:localhost/replica:0/task:0/device:CPU:0',).\n",
        "I1127 20:44:42.201782 139820255799168 cross_device_ops.py:618] Reduce to /job:localhost/replica:0/task:0/device:CPU:0 then broadcast to ('/job:localhost/replica:0/task:0/device:CPU:0',).\n",
        "INFO:tensorflow:Reduce to /job:localhost/replica:0/task:0/device:CPU:0 then broadcast to ('/job:localhost/replica:0/task:0/device:CPU:0',).\n",
        "I1127 20:44:42.203353 139820255799168 cross_device_ops.py:618] Reduce to /job:localhost/replica:0/task:0/device:CPU:0 then broadcast to ('/job:localhost/replica:0/task:0/device:CPU:0',).\n",
        "INFO:tensorflow:Reduce to /job:localhost/replica:0/task:0/device:CPU:0 then broadcast to ('/job:localhost/replica:0/task:0/device:CPU:0',).\n",
        "I1127 20:44:42.204101 139820255799168 cross_device_ops.py:618] Reduce to /job:localhost/replica:0/task:0/device:CPU:0 then broadcast to ('/job:localhost/replica:0/task:0/device:CPU:0',).\n",
        "INFO:tensorflow:Reduce to /job:localhost/replica:0/task:0/device:CPU:0 then broadcast to ('/job:localhost/replica:0/task:0/device:CPU:0',).\n",
        "I1127 20:44:42.210548 139820255799168 cross_device_ops.py:618] Reduce to /job:localhost/replica:0/task:0/device:CPU:0 then broadcast to ('/job:localhost/replica:0/task:0/device:CPU:0',).\n",
        "INFO:tensorflow:Reduce to /job:localhost/replica:0/task:0/device:CPU:0 then broadcast to ('/job:localhost/replica:0/task:0/device:CPU:0',).\n",
        "I1127 20:44:42.211312 139820255799168 cross_device_ops.py:618] Reduce to /job:localhost/replica:0/task:0/device:CPU:0 then broadcast to ('/job:localhost/replica:0/task:0/device:CPU:0',).\n",
        "I1127 20:44:42.228776 139820255799168 train.py:207] Initializing from scratch.\n",
        "I1127 21:03:17.218518 139820255799168 train.py:210] Starting training...\n",
        "WARNING:tensorflow:Using Replicator eagerly has significant overhead currently. We will be working on improving this in the future, but for now please wrap `call_for_each_replica` or `experimental_run` or `run` inside a tf.function to get the best performance.\n",
        "W1127 21:03:18.582434 139820255799168 mirrored_run.py:92] Using Replicator eagerly has significant overhead currently. We will be working on improving this in the future, but for now please wrap `call_for_each_replica` or `experimental_run` or `run` inside a tf.function to get the best performance.\n",
        "I1127 21:03:18.583924 139814611334912 train.py:93] retracing step_fn\n",
        "Local loss [[1.11271322]]\n",
        "WARNING:tensorflow:Using Replicator eagerly has significant overhead currently. We will be working on improving this in the future, but for now please wrap `call_for_each_replica` or `experimental_run` or `run` inside a tf.function to get the best performance.\n",
        "W1127 21:03:20.998072 139820255799168 mirrored_run.py:92] Using Replicator eagerly has significant overhead currently. We will be working on improving this in the future, but for now please wrap `call_for_each_replica` or `experimental_run` or `run` inside a tf.function to get the best performance.\n",
        "I1127 21:03:20.999424 139814592714496 train.py:93] retracing step_fn\n",
        "Local loss [[0.381616026]]\n",
        "WARNING:tensorflow:Using Replicator eagerly has significant overhead currently. We will be working on improving this in the future, but for now please wrap `call_for_each_replica` or `experimental_run` or `run` inside a tf.function to get the best performance.\n",
        "W1127 21:03:22.500724 139820255799168 mirrored_run.py:92] Using Replicator eagerly has significant overhead currently. We will be working on improving this in the future, but for now please wrap `call_for_each_replica` or `experimental_run` or `run` inside a tf.function to get the best performance.\n",
        "I1127 21:03:22.502048 139814271710976 train.py:93] retracing step_fn\n",
        "Local loss [[0.29080838]]\n",
        "WARNING:tensorflow:Using Replicator eagerly has significant overhead currently. We will be working on improving this in the future, but for now please wrap `call_for_each_replica` or `experimental_run` or `run` inside a tf.function to get the best performance.\n",
        "W1127 21:03:23.930646 139820255799168 mirrored_run.py:92] Using Replicator eagerly has significant overhead currently. We will be working on improving this in the future, but for now please wrap `call_for_each_replica` or `experimental_run` or `run` inside a tf.function to get the best performance.\n",
        "I1127 21:03:23.931966 139814254925568 train.py:93] retracing step_fn\n",
        "Local loss [[0.249430269]]\n",
        "WARNING:tensorflow:Using Replicator eagerly has significant overhead currently. We will be working on improving this in the future, but for now please wrap `call_for_each_replica` or `experimental_run` or `run` inside a tf.function to get the best performance.\n",
        "W1127 21:03:25.431968 139820255799168 mirrored_run.py:92] Using Replicator eagerly has significant overhead currently. We will be working on improving this in the future, but for now please wrap `call_for_each_replica` or `experimental_run` or `run` inside a tf.function to get the best performance.\n",
        "I1127 21:03:25.433145 139814238140160 train.py:93] retracing step_fn\n",
        "Local loss [[0.273755252]]\n",
        "I1127 21:03:26.938158 139814221354752 train.py:93] retracing step_fn\n",
        "Local loss [[0.208580941]]\n",
        "I1127 21:03:28.388446 139814204569344 train.py:93] retracing step_fn\n",
        "Local loss [[0.238259554]]\n",
        "I1127 21:03:29.849584 139814187783936 train.py:93] retracing step_fn\n",
        "Local loss [[0.213820755]]\n",
        "I1127 21:03:31.469026 139814170998528 train.py:93] retracing step_fn\n",
        "Local loss [[0.196927667]]\n",
        "I1127 21:03:33.006980 139814154213120 train.py:93] retracing step_fn\n",
        "Local loss [[0.178175479]]\n",
        "I1127 21:03:33.122454 139820255799168 train.py:224] [10] loss = 0.3344, acc = 0.8410 auc = 0.6530 steps_per_second = 0.6297118646022897\n",
        "I1127 21:03:34.526523 139814137427712 train.py:93] retracing step_fn\n",
        "Local loss [[0.225601092]]\n",
        "I1127 21:03:35.953697 139814120642304 train.py:93] retracing step_fn\n",
        "Local loss [[0.20473963]]\n",
        "I1127 21:03:37.407586 139814103856896 train.py:93] retracing step_fn\n",
        "Local loss [[0.181995898]]\n",
        "I1127 21:03:38.832756 139814087071488 train.py:93] retracing step_fn\n",
        "Local loss [[0.165250912]]\n",
        "I1127 21:03:40.302818 139814070286080 train.py:93] retracing step_fn\n",
        "Local loss [[0.179726735]]\n",
        "I1127 21:03:41.778017 139814053500672 train.py:93] retracing step_fn\n",
        "Local loss [[0.160329849]]\n",
        "I1127 21:03:43.278585 139814036715264 train.py:93] retracing step_fn\n",
        "Local loss [[0.199025989]]\n",
        "I1127 21:03:44.786458 139814019929856 train.py:93] retracing step_fn\n",
        "Local loss [[0.152017266]]\n",
        "I1127 21:03:46.271295 139814003144448 train.py:93] retracing step_fn\n",
        "Local loss [[0.133707717]]\n",
        "I1127 21:03:47.760214 139813986359040 train.py:93] retracing step_fn\n",
        "Local loss [[0.167986155]]\n",
        "I1127 21:03:47.874104 139820255799168 train.py:224] [20] loss = 0.1770, acc = 0.9314 auc = 0.8936 steps_per_second = 0.6787776691687295\n",
        "I1127 21:03:49.361714 139813969573632 train.py:93] retracing step_fn\n",
        "Local loss [[0.164256766]]\n",
        "I1127 21:03:50.900232 139813952788224 train.py:93] retracing step_fn\n",
        "Local loss [[0.167641878]]\n",
        "I1127 21:03:52.440918 139813936002816 train.py:93] retracing step_fn\n",
        "Local loss [[0.152324975]]\n",
        "I1127 21:03:53.985582 139813865740032 train.py:93] retracing step_fn\n",
        "Local loss [[0.148343325]]\n",
        "I1127 21:03:55.574432 139813715777280 train.py:93] retracing step_fn\n",
        "Local loss [[0.196507365]]\n",
        "I1127 21:03:57.205982 139813567919872 train.py:93] retracing step_fn\n",
        "Local loss [[0.137382567]]\n",
        "I1127 21:03:58.806797 139813420062464 train.py:93] retracing step_fn\n",
        "Local loss [[0.136637226]]\n",
        "I1127 21:04:00.327338 139813133784832 train.py:93] retracing step_fn\n",
        "Local loss [[0.137836128]]\n",
        "I1127 21:04:01.838888 139812985927424 train.py:93] retracing step_fn\n",
        "Local loss [[0.161818758]]\n",
        "I1127 21:04:03.347582 139812838070016 train.py:93] retracing step_fn\n",
        "Local loss [[0.174931124]]\n",
        "I1127 21:04:03.463319 139820255799168 train.py:224] [30] loss = 0.1578, acc = 0.9380 auc = 0.9145 steps_per_second = 0.6422320051779333\n",
        "I1127 21:04:03.516546 139820255799168 train.py:241] Saved checkpoint: /gdrive/MyDrive/498/neural_lns/models/ckpt-1'''"
      ],
      "metadata": {
        "id": "24RE3gLlkmLx"
      },
      "execution_count": null,
      "outputs": []
    },
    {
      "cell_type": "code",
      "source": [
        "\n",
        "loss = loss.replace('[[', '|')\n",
        "loss = loss.replace(']]', '|')\n",
        "loss_list = loss.split('|')\n",
        "\n",
        "losses = []\n",
        "for el in loss_list:\n",
        "  try:\n",
        "    x = float(el)\n",
        "    losses.append(x)\n",
        "  except ValueError:\n",
        "     continue\n",
        "\n",
        "loss_df = pd.DataFrame(losses, columns=['Loss'])\n",
        "g = sns.lineplot(data=loss_df, x=loss_df.index, y='Loss')\n",
        "g.set(title='Cauctions Loss graph')\n",
        "g.set(xlabel='Steps')\n",
        "\n"
      ],
      "metadata": {
        "id": "tJGq2DK6kp-K",
        "colab": {
          "base_uri": "https://localhost:8080/",
          "height": 313
        },
        "outputId": "e5ddfda4-87f4-4d8b-b7b1-45a9a9c8ea5a"
      },
      "execution_count": null,
      "outputs": [
        {
          "output_type": "execute_result",
          "data": {
            "text/plain": [
              "[Text(0.5, 0, 'Steps')]"
            ]
          },
          "metadata": {},
          "execution_count": 14
        },
        {
          "output_type": "display_data",
          "data": {
            "text/plain": [
              "<Figure size 432x288 with 1 Axes>"
            ],
            "image/png": "[encoded data removed]"
          },
          "metadata": {
            "needs_background": "light"
          }
        }
      ]
    },
    {
      "cell_type": "markdown",
      "source": [
        "## Schedules Loss"
      ],
      "metadata": {
        "id": "SBNyG32QjEoX"
      }
    },
    {
      "cell_type": "code",
      "source": [
        "loss = '''\n",
        "2022-11-27 21:08:08.258986: W tensorflow/core/common_runtime/gpu/gpu_bfc_allocator.cc:42] Overriding orig_value setting because the TF_FORCE_GPU_ALLOW_GROWTH environment variable is set. Original config value was 0.\n",
        "I1127 21:08:08.260185 140372597385088 train.py:250] Found GPUs: [LogicalDevice(name='/device:GPU:0', device_type='GPU')]\n",
        "INFO:tensorflow:Using MirroredStrategy with devices ('/job:localhost/replica:0/task:0/device:GPU:0',)\n",
        "I1127 21:08:08.266355 140372597385088 mirrored_strategy.py:374] Using MirroredStrategy with devices ('/job:localhost/replica:0/task:0/device:GPU:0',)\n",
        "I1127 21:08:08.266812 140372597385088 train.py:255] Distribution strategy: <sonnet.src.distribute.replicator.Replicator object at 0x7faa83083c10>\n",
        "I1127 21:08:08.267119 140372597385088 train.py:256] Devices: [PhysicalDevice(name='/physical_device:CPU:0', device_type='CPU'), PhysicalDevice(name='/physical_device:GPU:0', device_type='GPU')]\n",
        "/usr/local/lib/python3.7/dist-packages/tensorflow/python/data/ops/structured_function.py:265: UserWarning: Even though the `tf.config.experimental_run_functions_eagerly` option is set, this option does not apply to tf.data functions. To force eager execution of tf.data functions, please use `tf.data.experimental.enable_debug_mode()`.\n",
        "  \"Even though the `tf.config.experimental_run_functions_eagerly` \"\n",
        "INFO:tensorflow:Reduce to /job:localhost/replica:0/task:0/device:CPU:0 then broadcast to ('/job:localhost/replica:0/task:0/device:CPU:0',).\n",
        "I1127 21:11:33.764850 140372597385088 cross_device_ops.py:618] Reduce to /job:localhost/replica:0/task:0/device:CPU:0 then broadcast to ('/job:localhost/replica:0/task:0/device:CPU:0',).\n",
        "INFO:tensorflow:Reduce to /job:localhost/replica:0/task:0/device:CPU:0 then broadcast to ('/job:localhost/replica:0/task:0/device:CPU:0',).\n",
        "I1127 21:11:33.766439 140372597385088 cross_device_ops.py:618] Reduce to /job:localhost/replica:0/task:0/device:CPU:0 then broadcast to ('/job:localhost/replica:0/task:0/device:CPU:0',).\n",
        "INFO:tensorflow:Reduce to /job:localhost/replica:0/task:0/device:CPU:0 then broadcast to ('/job:localhost/replica:0/task:0/device:CPU:0',).\n",
        "I1127 21:11:33.769994 140372597385088 cross_device_ops.py:618] Reduce to /job:localhost/replica:0/task:0/device:CPU:0 then broadcast to ('/job:localhost/replica:0/task:0/device:CPU:0',).\n",
        "INFO:tensorflow:Reduce to /job:localhost/replica:0/task:0/device:CPU:0 then broadcast to ('/job:localhost/replica:0/task:0/device:CPU:0',).\n",
        "I1127 21:11:33.770925 140372597385088 cross_device_ops.py:618] Reduce to /job:localhost/replica:0/task:0/device:CPU:0 then broadcast to ('/job:localhost/replica:0/task:0/device:CPU:0',).\n",
        "INFO:tensorflow:Reduce to /job:localhost/replica:0/task:0/device:CPU:0 then broadcast to ('/job:localhost/replica:0/task:0/device:CPU:0',).\n",
        "I1127 21:11:33.778700 140372597385088 cross_device_ops.py:618] Reduce to /job:localhost/replica:0/task:0/device:CPU:0 then broadcast to ('/job:localhost/replica:0/task:0/device:CPU:0',).\n",
        "INFO:tensorflow:Reduce to /job:localhost/replica:0/task:0/device:CPU:0 then broadcast to ('/job:localhost/replica:0/task:0/device:CPU:0',).\n",
        "I1127 21:11:33.779792 140372597385088 cross_device_ops.py:618] Reduce to /job:localhost/replica:0/task:0/device:CPU:0 then broadcast to ('/job:localhost/replica:0/task:0/device:CPU:0',).\n",
        "INFO:tensorflow:Reduce to /job:localhost/replica:0/task:0/device:CPU:0 then broadcast to ('/job:localhost/replica:0/task:0/device:CPU:0',).\n",
        "I1127 21:11:33.781759 140372597385088 cross_device_ops.py:618] Reduce to /job:localhost/replica:0/task:0/device:CPU:0 then broadcast to ('/job:localhost/replica:0/task:0/device:CPU:0',).\n",
        "INFO:tensorflow:Reduce to /job:localhost/replica:0/task:0/device:CPU:0 then broadcast to ('/job:localhost/replica:0/task:0/device:CPU:0',).\n",
        "I1127 21:11:33.782600 140372597385088 cross_device_ops.py:618] Reduce to /job:localhost/replica:0/task:0/device:CPU:0 then broadcast to ('/job:localhost/replica:0/task:0/device:CPU:0',).\n",
        "INFO:tensorflow:Reduce to /job:localhost/replica:0/task:0/device:CPU:0 then broadcast to ('/job:localhost/replica:0/task:0/device:CPU:0',).\n",
        "I1127 21:11:33.791404 140372597385088 cross_device_ops.py:618] Reduce to /job:localhost/replica:0/task:0/device:CPU:0 then broadcast to ('/job:localhost/replica:0/task:0/device:CPU:0',).\n",
        "INFO:tensorflow:Reduce to /job:localhost/replica:0/task:0/device:CPU:0 then broadcast to ('/job:localhost/replica:0/task:0/device:CPU:0',).\n",
        "I1127 21:11:33.792478 140372597385088 cross_device_ops.py:618] Reduce to /job:localhost/replica:0/task:0/device:CPU:0 then broadcast to ('/job:localhost/replica:0/task:0/device:CPU:0',).\n",
        "I1127 21:11:33.811962 140372597385088 train.py:207] Initializing from scratch.\n",
        "I1127 21:30:13.343015 140372597385088 train.py:210] Starting training...\n",
        "WARNING:tensorflow:Using Replicator eagerly has significant overhead currently. We will be working on improving this in the future, but for now please wrap `call_for_each_replica` or `experimental_run` or `run` inside a tf.function to get the best performance.\n",
        "W1127 21:30:16.024165 140372597385088 mirrored_run.py:92] Using Replicator eagerly has significant overhead currently. We will be working on improving this in the future, but for now please wrap `call_for_each_replica` or `experimental_run` or `run` inside a tf.function to get the best performance.\n",
        "I1127 21:30:16.025670 140366952675072 train.py:93] retracing step_fn\n",
        "Local loss [[0.516127]]\n",
        "WARNING:tensorflow:Using Replicator eagerly has significant overhead currently. We will be working on improving this in the future, but for now please wrap `call_for_each_replica` or `experimental_run` or `run` inside a tf.function to get the best performance.\n",
        "W1127 21:30:19.600219 140372597385088 mirrored_run.py:92] Using Replicator eagerly has significant overhead currently. We will be working on improving this in the future, but for now please wrap `call_for_each_replica` or `experimental_run` or `run` inside a tf.function to get the best performance.\n",
        "I1127 21:30:19.601662 140366934054656 train.py:93] retracing step_fn\n",
        "Local loss [[0.120018438]]\n",
        "WARNING:tensorflow:Using Replicator eagerly has significant overhead currently. We will be working on improving this in the future, but for now please wrap `call_for_each_replica` or `experimental_run` or `run` inside a tf.function to get the best performance.\n",
        "W1127 21:30:22.293445 140372597385088 mirrored_run.py:92] Using Replicator eagerly has significant overhead currently. We will be working on improving this in the future, but for now please wrap `call_for_each_replica` or `experimental_run` or `run` inside a tf.function to get the best performance.\n",
        "I1127 21:30:22.294796 140366544107264 train.py:93] retracing step_fn\n",
        "Local loss [[0.116112575]]\n",
        "WARNING:tensorflow:Using Replicator eagerly has significant overhead currently. We will be working on improving this in the future, but for now please wrap `call_for_each_replica` or `experimental_run` or `run` inside a tf.function to get the best performance.\n",
        "W1127 21:30:24.987970 140372597385088 mirrored_run.py:92] Using Replicator eagerly has significant overhead currently. We will be working on improving this in the future, but for now please wrap `call_for_each_replica` or `experimental_run` or `run` inside a tf.function to get the best performance.\n",
        "I1127 21:30:24.989579 140366237914880 train.py:93] retracing step_fn\n",
        "Local loss [[0.111864045]]\n",
        "WARNING:tensorflow:Using Replicator eagerly has significant overhead currently. We will be working on improving this in the future, but for now please wrap `call_for_each_replica` or `experimental_run` or `run` inside a tf.function to get the best performance.\n",
        "W1127 21:30:27.648474 140372597385088 mirrored_run.py:92] Using Replicator eagerly has significant overhead currently. We will be working on improving this in the future, but for now please wrap `call_for_each_replica` or `experimental_run` or `run` inside a tf.function to get the best performance.\n",
        "I1127 21:30:27.649759 140365035181824 train.py:93] retracing step_fn\n",
        "Local loss [[0.102098368]]\n",
        "I1127 21:30:30.266386 140363962472192 train.py:93] retracing step_fn\n",
        "Local loss [[0.100123823]]\n",
        "I1127 21:30:32.953487 140362898151168 train.py:93] retracing step_fn\n",
        "Local loss [[0.0961227119]]\n",
        "I1127 21:30:35.513806 140361833830144 train.py:93] retracing step_fn\n",
        "Local loss [[0.0890475586]]\n",
        "I1127 21:30:38.207678 140360492685056 train.py:93] retracing step_fn\n",
        "Local loss [[0.0791699663]]\n",
        "I1127 21:30:40.952946 140359428364032 train.py:93] retracing step_fn\n",
        "Local loss [[0.067075856]]\n",
        "I1127 21:30:41.078477 140372597385088 train.py:224] [10] loss = 0.1398, acc = 0.9756 auc = 0.7642 steps_per_second = 0.36084608954697234\n",
        "I1127 21:30:43.638746 140358364043008 train.py:93] retracing step_fn\n",
        "Local loss [[0.0531792864]]\n",
        "I1127 21:30:46.212692 140357299721984 train.py:93] retracing step_fn\n",
        "Local loss [[0.0481352061]]\n",
        "I1127 21:30:48.879425 140356227012352 train.py:93] retracing step_fn\n",
        "Local loss [[0.0533030704]]\n",
        "I1127 21:30:51.754042 140355162691328 train.py:93] retracing step_fn\n",
        "Local loss [[0.0520980358]]\n",
        "I1127 21:30:54.458895 140354098370304 train.py:93] retracing step_fn\n",
        "Local loss [[0.0398170613]]\n",
        "I1127 21:30:57.149542 140353034049280 train.py:93] retracing step_fn\n",
        "Local loss [[0.0437768474]]\n",
        "I1127 21:30:59.830351 140351416080128 train.py:93] retracing step_fn\n",
        "Local loss [[0.0426351056]]\n",
        "I1127 21:31:02.560651 140350343370496 train.py:93] retracing step_fn\n",
        "Local loss [[0.0579962917]]\n",
        "I1127 21:31:05.161616 140349279049472 train.py:93] retracing step_fn\n",
        "Local loss [[0.0469062142]]\n",
        "I1127 21:31:07.745844 140348214728448 train.py:93] retracing step_fn\n",
        "Local loss [[0.0598446131]]\n",
        "I1127 21:31:07.865161 140372597385088 train.py:224] [20] loss = 0.0498, acc = 0.9818 auc = 0.9514 steps_per_second = 0.373576619964676\n",
        "I1127 21:31:10.327989 140347150407424 train.py:93] retracing step_fn\n",
        "Local loss [[0.0516309589]]\n",
        "I1127 21:31:12.943165 140346086086400 train.py:93] retracing step_fn\n",
        "Local loss [[0.0593569949]]\n",
        "I1127 21:31:15.405176 140345021765376 train.py:93] retracing step_fn\n",
        "Local loss [[0.0532695688]]\n",
        "I1127 21:31:18.014069 140343949055744 train.py:93] retracing step_fn\n",
        "Local loss [[0.0575130656]]\n",
        "I1127 21:31:20.609992 140342884734720 train.py:93] retracing step_fn\n",
        "Local loss [[0.0500749238]]\n",
        "I1127 21:31:23.168470 140341820413696 train.py:93] retracing step_fn\n",
        "Local loss [[0.0580050275]]\n",
        "I1127 21:31:25.986412 140340756092672 train.py:93] retracing step_fn\n",
        "Local loss [[0.0505344905]]\n",
        "I1127 21:31:28.887925 140339691771648 train.py:93] retracing step_fn\n",
        "Local loss [[0.048966594]]\n",
        "I1127 21:31:31.639003 140338627450624 train.py:93] retracing step_fn\n",
        "Local loss [[0.0599683151]]\n",
        "I1127 21:31:34.515660 140337554740992 train.py:93] retracing step_fn\n",
        "Local loss [[0.0532905087]]\n",
        "I1127 21:31:34.646569 140372597385088 train.py:224] [30] loss = 0.0543, acc = 0.9815 auc = 0.9295 steps_per_second = 0.37367577697397575\n",
        "I1127 21:31:34.706455 140372597385088 train.py:241] Saved checkpoint: /gdrive/MyDrive/498/neural_lns/models/ckpt-1\n",
        "'''"
      ],
      "metadata": {
        "id": "QiZdICoigU1r"
      },
      "execution_count": null,
      "outputs": []
    },
    {
      "cell_type": "code",
      "source": [
        "\n",
        "loss = loss.replace('[[', '|')\n",
        "loss = loss.replace(']]', '|')\n",
        "loss_list = loss.split('|')\n",
        "\n",
        "losses = []\n",
        "for el in loss_list:\n",
        "  try:\n",
        "    x = float(el)\n",
        "    losses.append(x)\n",
        "  except ValueError:\n",
        "     continue\n",
        "\n",
        "loss_df = pd.DataFrame(losses, columns=['Loss'])\n",
        "g = sns.lineplot(data=loss_df, x=loss_df.index, y='Loss')\n",
        "g.set(title='Schedule Loss graph')\n",
        "g.set(xlabel='Steps')\n",
        "\n"
      ],
      "metadata": {
        "id": "ZXV-WsvNhD5n",
        "colab": {
          "base_uri": "https://localhost:8080/",
          "height": 313
        },
        "outputId": "0aa0662b-2f71-478a-c798-885b09996772"
      },
      "execution_count": null,
      "outputs": [
        {
          "output_type": "execute_result",
          "data": {
            "text/plain": [
              "[Text(0.5, 0, 'Steps')]"
            ]
          },
          "metadata": {},
          "execution_count": 16
        },
        {
          "output_type": "display_data",
          "data": {
            "text/plain": [
              "<Figure size 432x288 with 1 Axes>"
            ],
            "image/png": "[encoded data removed]"
          },
          "metadata": {
            "needs_background": "light"
          }
        }
      ]
    },
    {
      "cell_type": "markdown",
      "source": [
        "# TESTING"
      ],
      "metadata": {
        "id": "FVm5a6Hw8HX8"
      }
    },
    {
      "cell_type": "code",
      "source": [
        "from evaluate_solvers import main "
      ],
      "metadata": {
        "id": "-mv8LnZ4xOma"
      },
      "execution_count": null,
      "outputs": []
    },
    {
      "cell_type": "code",
      "source": [
        "main('facilities', unassigned_factor=3)"
      ],
      "metadata": {
        "colab": {
          "base_uri": "https://localhost:8080/"
        },
        "id": "PgVpMeXi8-J6",
        "outputId": "f38a8fae-08e8-449d-fe82-ff5ec47eb652"
      },
      "execution_count": null,
      "outputs": [
        {
          "output_type": "stream",
          "name": "stdout",
          "text": [
            "evaluating directory test_100_100_5 instance 1\n",
            "Set parameter WLSAccessID\n",
            "Set parameter WLSSecret\n",
            "Set parameter LicenseID to value 669674\n",
            "Academic license - for non-commercial use only - registered to nem323@lehigh.edu\n",
            "Set parameter WLSAccessID\n",
            "Set parameter WLSSecret\n",
            "Set parameter LicenseID to value 669674\n",
            "Academic license - for non-commercial use only - registered to nem323@lehigh.edu\n",
            "evaluating directory test_100_100_5 instance 2\n",
            "Set parameter WLSAccessID\n",
            "Set parameter WLSSecret\n",
            "Set parameter LicenseID to value 669674\n",
            "Academic license - for non-commercial use only - registered to nem323@lehigh.edu\n",
            "Set parameter WLSAccessID\n",
            "Set parameter WLSSecret\n",
            "Set parameter LicenseID to value 669674\n",
            "Academic license - for non-commercial use only - registered to nem323@lehigh.edu\n",
            "evaluating directory test_100_100_5 instance 3\n",
            "Set parameter WLSAccessID\n",
            "Set parameter WLSSecret\n",
            "Set parameter LicenseID to value 669674\n",
            "Academic license - for non-commercial use only - registered to nem323@lehigh.edu\n",
            "Set parameter WLSAccessID\n",
            "Set parameter WLSSecret\n",
            "Set parameter LicenseID to value 669674\n",
            "Academic license - for non-commercial use only - registered to nem323@lehigh.edu\n",
            "evaluating directory test_100_100_5 instance 4\n",
            "Set parameter WLSAccessID\n",
            "Set parameter WLSSecret\n",
            "Set parameter LicenseID to value 669674\n",
            "Academic license - for non-commercial use only - registered to nem323@lehigh.edu\n",
            "Set parameter WLSAccessID\n",
            "Set parameter WLSSecret\n",
            "Set parameter LicenseID to value 669674\n",
            "Academic license - for non-commercial use only - registered to nem323@lehigh.edu\n",
            "evaluating directory test_100_100_5 instance 5\n",
            "Set parameter WLSAccessID\n",
            "Set parameter WLSSecret\n",
            "Set parameter LicenseID to value 669674\n",
            "Academic license - for non-commercial use only - registered to nem323@lehigh.edu\n",
            "Set parameter WLSAccessID\n",
            "Set parameter WLSSecret\n",
            "Set parameter LicenseID to value 669674\n",
            "Academic license - for non-commercial use only - registered to nem323@lehigh.edu\n",
            "evaluating directory test_100_100_5 instance 6\n",
            "Set parameter WLSAccessID\n",
            "Set parameter WLSSecret\n",
            "Set parameter LicenseID to value 669674\n",
            "Academic license - for non-commercial use only - registered to nem323@lehigh.edu\n",
            "Set parameter WLSAccessID\n",
            "Set parameter WLSSecret\n",
            "Set parameter LicenseID to value 669674\n",
            "Academic license - for non-commercial use only - registered to nem323@lehigh.edu\n",
            "evaluating directory test_100_100_5 instance 7\n",
            "Set parameter WLSAccessID\n",
            "Set parameter WLSSecret\n",
            "Set parameter LicenseID to value 669674\n",
            "Academic license - for non-commercial use only - registered to nem323@lehigh.edu\n",
            "Set parameter WLSAccessID\n",
            "Set parameter WLSSecret\n",
            "Set parameter LicenseID to value 669674\n",
            "Academic license - for non-commercial use only - registered to nem323@lehigh.edu\n",
            "prediction failed to find feasible solution\n",
            "evaluating directory test_100_100_5 instance 8\n",
            "Set parameter WLSAccessID\n",
            "Set parameter WLSSecret\n",
            "Set parameter LicenseID to value 669674\n",
            "Academic license - for non-commercial use only - registered to nem323@lehigh.edu\n",
            "Set parameter WLSAccessID\n",
            "Set parameter WLSSecret\n",
            "Set parameter LicenseID to value 669674\n",
            "Academic license - for non-commercial use only - registered to nem323@lehigh.edu\n",
            "evaluating directory test_100_100_5 instance 9\n",
            "Set parameter WLSAccessID\n",
            "Set parameter WLSSecret\n",
            "Set parameter LicenseID to value 669674\n",
            "Academic license - for non-commercial use only - registered to nem323@lehigh.edu\n",
            "Set parameter WLSAccessID\n",
            "Set parameter WLSSecret\n",
            "Set parameter LicenseID to value 669674\n",
            "Academic license - for non-commercial use only - registered to nem323@lehigh.edu\n",
            "evaluating directory test_100_100_5 instance 10\n",
            "Set parameter WLSAccessID\n",
            "Set parameter WLSSecret\n",
            "Set parameter LicenseID to value 669674\n",
            "Academic license - for non-commercial use only - registered to nem323@lehigh.edu\n",
            "Set parameter WLSAccessID\n",
            "Set parameter WLSSecret\n",
            "Set parameter LicenseID to value 669674\n",
            "Academic license - for non-commercial use only - registered to nem323@lehigh.edu\n",
            "evaluating directory test_100_100_5 instance 11\n",
            "Set parameter WLSAccessID\n",
            "Set parameter WLSSecret\n",
            "Set parameter LicenseID to value 669674\n",
            "Academic license - for non-commercial use only - registered to nem323@lehigh.edu\n",
            "Set parameter WLSAccessID\n",
            "Set parameter WLSSecret\n",
            "Set parameter LicenseID to value 669674\n",
            "Academic license - for non-commercial use only - registered to nem323@lehigh.edu\n",
            "evaluating directory test_100_100_5 instance 12\n",
            "Set parameter WLSAccessID\n",
            "Set parameter WLSSecret\n",
            "Set parameter LicenseID to value 669674\n",
            "Academic license - for non-commercial use only - registered to nem323@lehigh.edu\n",
            "Set parameter WLSAccessID\n",
            "Set parameter WLSSecret\n",
            "Set parameter LicenseID to value 669674\n",
            "Academic license - for non-commercial use only - registered to nem323@lehigh.edu\n",
            "evaluating directory test_100_100_5 instance 13\n",
            "Set parameter WLSAccessID\n",
            "Set parameter WLSSecret\n",
            "Set parameter LicenseID to value 669674\n",
            "Academic license - for non-commercial use only - registered to nem323@lehigh.edu\n",
            "Set parameter WLSAccessID\n",
            "Set parameter WLSSecret\n",
            "Set parameter LicenseID to value 669674\n",
            "Academic license - for non-commercial use only - registered to nem323@lehigh.edu\n",
            "evaluating directory test_100_100_5 instance 14\n",
            "Set parameter WLSAccessID\n",
            "Set parameter WLSSecret\n",
            "Set parameter LicenseID to value 669674\n",
            "Academic license - for non-commercial use only - registered to nem323@lehigh.edu\n",
            "Set parameter WLSAccessID\n",
            "Set parameter WLSSecret\n",
            "Set parameter LicenseID to value 669674\n",
            "Academic license - for non-commercial use only - registered to nem323@lehigh.edu\n",
            "evaluating directory test_100_100_5 instance 15\n",
            "Set parameter WLSAccessID\n",
            "Set parameter WLSSecret\n",
            "Set parameter LicenseID to value 669674\n",
            "Academic license - for non-commercial use only - registered to nem323@lehigh.edu\n",
            "Set parameter WLSAccessID\n",
            "Set parameter WLSSecret\n",
            "Set parameter LicenseID to value 669674\n",
            "Academic license - for non-commercial use only - registered to nem323@lehigh.edu\n",
            "evaluating directory transfer_100_100_5 instance 1\n",
            "Set parameter WLSAccessID\n",
            "Set parameter WLSSecret\n",
            "Set parameter LicenseID to value 669674\n",
            "Academic license - for non-commercial use only - registered to nem323@lehigh.edu\n",
            "Set parameter WLSAccessID\n",
            "Set parameter WLSSecret\n",
            "Set parameter LicenseID to value 669674\n",
            "Academic license - for non-commercial use only - registered to nem323@lehigh.edu\n",
            "evaluating directory transfer_100_100_5 instance 2\n",
            "Set parameter WLSAccessID\n",
            "Set parameter WLSSecret\n",
            "Set parameter LicenseID to value 669674\n",
            "Academic license - for non-commercial use only - registered to nem323@lehigh.edu\n",
            "Set parameter WLSAccessID\n",
            "Set parameter WLSSecret\n",
            "Set parameter LicenseID to value 669674\n",
            "Academic license - for non-commercial use only - registered to nem323@lehigh.edu\n",
            "evaluating directory transfer_100_100_5 instance 3\n",
            "Set parameter WLSAccessID\n",
            "Set parameter WLSSecret\n",
            "Set parameter LicenseID to value 669674\n",
            "Academic license - for non-commercial use only - registered to nem323@lehigh.edu\n",
            "Set parameter WLSAccessID\n",
            "Set parameter WLSSecret\n",
            "Set parameter LicenseID to value 669674\n",
            "Academic license - for non-commercial use only - registered to nem323@lehigh.edu\n",
            "evaluating directory transfer_100_100_5 instance 4\n",
            "Set parameter WLSAccessID\n",
            "Set parameter WLSSecret\n",
            "Set parameter LicenseID to value 669674\n",
            "Academic license - for non-commercial use only - registered to nem323@lehigh.edu\n",
            "Set parameter WLSAccessID\n",
            "Set parameter WLSSecret\n",
            "Set parameter LicenseID to value 669674\n",
            "Academic license - for non-commercial use only - registered to nem323@lehigh.edu\n",
            "evaluating directory transfer_100_100_5 instance 5\n",
            "Set parameter WLSAccessID\n",
            "Set parameter WLSSecret\n",
            "Set parameter LicenseID to value 669674\n",
            "Academic license - for non-commercial use only - registered to nem323@lehigh.edu\n",
            "Set parameter WLSAccessID\n",
            "Set parameter WLSSecret\n",
            "Set parameter LicenseID to value 669674\n",
            "Academic license - for non-commercial use only - registered to nem323@lehigh.edu\n",
            "evaluating directory transfer_100_100_5 instance 6\n",
            "Set parameter WLSAccessID\n",
            "Set parameter WLSSecret\n",
            "Set parameter LicenseID to value 669674\n",
            "Academic license - for non-commercial use only - registered to nem323@lehigh.edu\n",
            "Set parameter WLSAccessID\n",
            "Set parameter WLSSecret\n",
            "Set parameter LicenseID to value 669674\n",
            "Academic license - for non-commercial use only - registered to nem323@lehigh.edu\n",
            "prediction failed to find feasible solution\n",
            "evaluating directory transfer_100_100_5 instance 7\n",
            "Set parameter WLSAccessID\n",
            "Set parameter WLSSecret\n",
            "Set parameter LicenseID to value 669674\n",
            "Academic license - for non-commercial use only - registered to nem323@lehigh.edu\n",
            "Set parameter WLSAccessID\n",
            "Set parameter WLSSecret\n",
            "Set parameter LicenseID to value 669674\n",
            "Academic license - for non-commercial use only - registered to nem323@lehigh.edu\n",
            "prediction failed to find feasible solution\n",
            "evaluating directory transfer_100_100_5 instance 8\n",
            "Set parameter WLSAccessID\n",
            "Set parameter WLSSecret\n",
            "Set parameter LicenseID to value 669674\n",
            "Academic license - for non-commercial use only - registered to nem323@lehigh.edu\n",
            "Set parameter WLSAccessID\n",
            "Set parameter WLSSecret\n",
            "Set parameter LicenseID to value 669674\n",
            "Academic license - for non-commercial use only - registered to nem323@lehigh.edu\n",
            "evaluating directory transfer_100_100_5 instance 9\n",
            "Set parameter WLSAccessID\n",
            "Set parameter WLSSecret\n",
            "Set parameter LicenseID to value 669674\n",
            "Academic license - for non-commercial use only - registered to nem323@lehigh.edu\n",
            "Set parameter WLSAccessID\n",
            "Set parameter WLSSecret\n",
            "Set parameter LicenseID to value 669674\n",
            "Academic license - for non-commercial use only - registered to nem323@lehigh.edu\n",
            "prediction failed to find feasible solution\n",
            "evaluating directory transfer_100_100_5 instance 10\n",
            "Set parameter WLSAccessID\n",
            "Set parameter WLSSecret\n",
            "Set parameter LicenseID to value 669674\n",
            "Academic license - for non-commercial use only - registered to nem323@lehigh.edu\n",
            "Set parameter WLSAccessID\n",
            "Set parameter WLSSecret\n",
            "Set parameter LicenseID to value 669674\n",
            "Academic license - for non-commercial use only - registered to nem323@lehigh.edu\n",
            "evaluating directory train_100_100_5 instance 1\n",
            "Set parameter WLSAccessID\n",
            "Set parameter WLSSecret\n",
            "Set parameter LicenseID to value 669674\n",
            "Academic license - for non-commercial use only - registered to nem323@lehigh.edu\n",
            "Set parameter WLSAccessID\n",
            "Set parameter WLSSecret\n",
            "Set parameter LicenseID to value 669674\n",
            "Academic license - for non-commercial use only - registered to nem323@lehigh.edu\n",
            "evaluating directory train_100_100_5 instance 2\n",
            "Set parameter WLSAccessID\n",
            "Set parameter WLSSecret\n",
            "Set parameter LicenseID to value 669674\n",
            "Academic license - for non-commercial use only - registered to nem323@lehigh.edu\n",
            "Set parameter WLSAccessID\n",
            "Set parameter WLSSecret\n",
            "Set parameter LicenseID to value 669674\n",
            "Academic license - for non-commercial use only - registered to nem323@lehigh.edu\n",
            "prediction failed to find feasible solution\n",
            "evaluating directory train_100_100_5 instance 3\n",
            "Set parameter WLSAccessID\n",
            "Set parameter WLSSecret\n",
            "Set parameter LicenseID to value 669674\n",
            "Academic license - for non-commercial use only - registered to nem323@lehigh.edu\n",
            "Set parameter WLSAccessID\n",
            "Set parameter WLSSecret\n",
            "Set parameter LicenseID to value 669674\n",
            "Academic license - for non-commercial use only - registered to nem323@lehigh.edu\n",
            "evaluating directory train_100_100_5 instance 4\n",
            "Set parameter WLSAccessID\n",
            "Set parameter WLSSecret\n",
            "Set parameter LicenseID to value 669674\n",
            "Academic license - for non-commercial use only - registered to nem323@lehigh.edu\n",
            "Set parameter WLSAccessID\n",
            "Set parameter WLSSecret\n",
            "Set parameter LicenseID to value 669674\n",
            "Academic license - for non-commercial use only - registered to nem323@lehigh.edu\n",
            "evaluating directory train_100_100_5 instance 5\n",
            "Set parameter WLSAccessID\n",
            "Set parameter WLSSecret\n",
            "Set parameter LicenseID to value 669674\n",
            "Academic license - for non-commercial use only - registered to nem323@lehigh.edu\n",
            "Set parameter WLSAccessID\n",
            "Set parameter WLSSecret\n",
            "Set parameter LicenseID to value 669674\n",
            "Academic license - for non-commercial use only - registered to nem323@lehigh.edu\n",
            "evaluating directory train_100_100_5 instance 6\n",
            "Set parameter WLSAccessID\n",
            "Set parameter WLSSecret\n",
            "Set parameter LicenseID to value 669674\n",
            "Academic license - for non-commercial use only - registered to nem323@lehigh.edu\n",
            "Set parameter WLSAccessID\n",
            "Set parameter WLSSecret\n",
            "Set parameter LicenseID to value 669674\n",
            "Academic license - for non-commercial use only - registered to nem323@lehigh.edu\n",
            "evaluating directory train_100_100_5 instance 7\n",
            "Set parameter WLSAccessID\n",
            "Set parameter WLSSecret\n",
            "Set parameter LicenseID to value 669674\n",
            "Academic license - for non-commercial use only - registered to nem323@lehigh.edu\n",
            "Set parameter WLSAccessID\n",
            "Set parameter WLSSecret\n",
            "Set parameter LicenseID to value 669674\n",
            "Academic license - for non-commercial use only - registered to nem323@lehigh.edu\n",
            "evaluating directory train_100_100_5 instance 8\n",
            "Set parameter WLSAccessID\n",
            "Set parameter WLSSecret\n",
            "Set parameter LicenseID to value 669674\n",
            "Academic license - for non-commercial use only - registered to nem323@lehigh.edu\n",
            "Set parameter WLSAccessID\n",
            "Set parameter WLSSecret\n",
            "Set parameter LicenseID to value 669674\n",
            "Academic license - for non-commercial use only - registered to nem323@lehigh.edu\n",
            "evaluating directory train_100_100_5 instance 9\n",
            "Set parameter WLSAccessID\n",
            "Set parameter WLSSecret\n",
            "Set parameter LicenseID to value 669674\n",
            "Academic license - for non-commercial use only - registered to nem323@lehigh.edu\n",
            "Set parameter WLSAccessID\n",
            "Set parameter WLSSecret\n",
            "Set parameter LicenseID to value 669674\n",
            "Academic license - for non-commercial use only - registered to nem323@lehigh.edu\n",
            "evaluating directory train_100_100_5 instance 10\n",
            "Set parameter WLSAccessID\n",
            "Set parameter WLSSecret\n",
            "Set parameter LicenseID to value 669674\n",
            "Academic license - for non-commercial use only - registered to nem323@lehigh.edu\n",
            "Set parameter WLSAccessID\n",
            "Set parameter WLSSecret\n",
            "Set parameter LicenseID to value 669674\n",
            "Academic license - for non-commercial use only - registered to nem323@lehigh.edu\n",
            "evaluating directory train_100_100_5 instance 11\n",
            "Set parameter WLSAccessID\n",
            "Set parameter WLSSecret\n",
            "Set parameter LicenseID to value 669674\n",
            "Academic license - for non-commercial use only - registered to nem323@lehigh.edu\n",
            "Set parameter WLSAccessID\n",
            "Set parameter WLSSecret\n",
            "Set parameter LicenseID to value 669674\n",
            "Academic license - for non-commercial use only - registered to nem323@lehigh.edu\n",
            "evaluating directory train_100_100_5 instance 12\n",
            "Set parameter WLSAccessID\n",
            "Set parameter WLSSecret\n",
            "Set parameter LicenseID to value 669674\n",
            "Academic license - for non-commercial use only - registered to nem323@lehigh.edu\n",
            "Set parameter WLSAccessID\n",
            "Set parameter WLSSecret\n",
            "Set parameter LicenseID to value 669674\n",
            "Academic license - for non-commercial use only - registered to nem323@lehigh.edu\n",
            "prediction failed to find feasible solution\n",
            "evaluating directory train_100_100_5 instance 13\n",
            "Set parameter WLSAccessID\n",
            "Set parameter WLSSecret\n",
            "Set parameter LicenseID to value 669674\n",
            "Academic license - for non-commercial use only - registered to nem323@lehigh.edu\n",
            "Set parameter WLSAccessID\n",
            "Set parameter WLSSecret\n",
            "Set parameter LicenseID to value 669674\n",
            "Academic license - for non-commercial use only - registered to nem323@lehigh.edu\n",
            "prediction failed to find feasible solution\n",
            "evaluating directory train_100_100_5 instance 14\n",
            "Set parameter WLSAccessID\n",
            "Set parameter WLSSecret\n",
            "Set parameter LicenseID to value 669674\n",
            "Academic license - for non-commercial use only - registered to nem323@lehigh.edu\n",
            "Set parameter WLSAccessID\n",
            "Set parameter WLSSecret\n",
            "Set parameter LicenseID to value 669674\n",
            "Academic license - for non-commercial use only - registered to nem323@lehigh.edu\n",
            "evaluating directory train_100_100_5 instance 15\n",
            "Set parameter WLSAccessID\n",
            "Set parameter WLSSecret\n",
            "Set parameter LicenseID to value 669674\n",
            "Academic license - for non-commercial use only - registered to nem323@lehigh.edu\n",
            "Set parameter WLSAccessID\n",
            "Set parameter WLSSecret\n",
            "Set parameter LicenseID to value 669674\n",
            "Academic license - for non-commercial use only - registered to nem323@lehigh.edu\n",
            "evaluating directory valid_100_100_5 instance 1\n",
            "Set parameter WLSAccessID\n",
            "Set parameter WLSSecret\n",
            "Set parameter LicenseID to value 669674\n",
            "Academic license - for non-commercial use only - registered to nem323@lehigh.edu\n",
            "Set parameter WLSAccessID\n",
            "Set parameter WLSSecret\n",
            "Set parameter LicenseID to value 669674\n",
            "Academic license - for non-commercial use only - registered to nem323@lehigh.edu\n",
            "evaluating directory valid_100_100_5 instance 2\n",
            "Set parameter WLSAccessID\n",
            "Set parameter WLSSecret\n",
            "Set parameter LicenseID to value 669674\n",
            "Academic license - for non-commercial use only - registered to nem323@lehigh.edu\n",
            "Set parameter WLSAccessID\n",
            "Set parameter WLSSecret\n",
            "Set parameter LicenseID to value 669674\n",
            "Academic license - for non-commercial use only - registered to nem323@lehigh.edu\n",
            "evaluating directory valid_100_100_5 instance 3\n",
            "Set parameter WLSAccessID\n",
            "Set parameter WLSSecret\n",
            "Set parameter LicenseID to value 669674\n",
            "Academic license - for non-commercial use only - registered to nem323@lehigh.edu\n",
            "Set parameter WLSAccessID\n",
            "Set parameter WLSSecret\n",
            "Set parameter LicenseID to value 669674\n",
            "Academic license - for non-commercial use only - registered to nem323@lehigh.edu\n",
            "evaluating directory valid_100_100_5 instance 4\n",
            "Set parameter WLSAccessID\n",
            "Set parameter WLSSecret\n",
            "Set parameter LicenseID to value 669674\n",
            "Academic license - for non-commercial use only - registered to nem323@lehigh.edu\n",
            "Set parameter WLSAccessID\n",
            "Set parameter WLSSecret\n",
            "Set parameter LicenseID to value 669674\n",
            "Academic license - for non-commercial use only - registered to nem323@lehigh.edu\n",
            "evaluating directory valid_100_100_5 instance 5\n",
            "Set parameter WLSAccessID\n",
            "Set parameter WLSSecret\n",
            "Set parameter LicenseID to value 669674\n",
            "Academic license - for non-commercial use only - registered to nem323@lehigh.edu\n",
            "Set parameter WLSAccessID\n",
            "Set parameter WLSSecret\n",
            "Set parameter LicenseID to value 669674\n",
            "Academic license - for non-commercial use only - registered to nem323@lehigh.edu\n",
            "evaluating directory valid_100_100_5 instance 6\n",
            "Set parameter WLSAccessID\n",
            "Set parameter WLSSecret\n",
            "Set parameter LicenseID to value 669674\n",
            "Academic license - for non-commercial use only - registered to nem323@lehigh.edu\n",
            "Set parameter WLSAccessID\n",
            "Set parameter WLSSecret\n",
            "Set parameter LicenseID to value 669674\n",
            "Academic license - for non-commercial use only - registered to nem323@lehigh.edu\n",
            "prediction failed to find feasible solution\n",
            "evaluating directory valid_100_100_5 instance 7\n",
            "Set parameter WLSAccessID\n",
            "Set parameter WLSSecret\n",
            "Set parameter LicenseID to value 669674\n",
            "Academic license - for non-commercial use only - registered to nem323@lehigh.edu\n",
            "Set parameter WLSAccessID\n",
            "Set parameter WLSSecret\n",
            "Set parameter LicenseID to value 669674\n",
            "Academic license - for non-commercial use only - registered to nem323@lehigh.edu\n",
            "evaluating directory valid_100_100_5 instance 8\n",
            "Set parameter WLSAccessID\n",
            "Set parameter WLSSecret\n",
            "Set parameter LicenseID to value 669674\n",
            "Academic license - for non-commercial use only - registered to nem323@lehigh.edu\n",
            "Set parameter WLSAccessID\n",
            "Set parameter WLSSecret\n",
            "Set parameter LicenseID to value 669674\n",
            "Academic license - for non-commercial use only - registered to nem323@lehigh.edu\n",
            "evaluating directory valid_100_100_5 instance 9\n",
            "Set parameter WLSAccessID\n",
            "Set parameter WLSSecret\n",
            "Set parameter LicenseID to value 669674\n",
            "Academic license - for non-commercial use only - registered to nem323@lehigh.edu\n",
            "Set parameter WLSAccessID\n",
            "Set parameter WLSSecret\n",
            "Set parameter LicenseID to value 669674\n",
            "Academic license - for non-commercial use only - registered to nem323@lehigh.edu\n",
            "evaluating directory valid_100_100_5 instance 10\n",
            "Set parameter WLSAccessID\n",
            "Set parameter WLSSecret\n",
            "Set parameter LicenseID to value 669674\n",
            "Academic license - for non-commercial use only - registered to nem323@lehigh.edu\n",
            "Set parameter WLSAccessID\n",
            "Set parameter WLSSecret\n",
            "Set parameter LicenseID to value 669674\n",
            "Academic license - for non-commercial use only - registered to nem323@lehigh.edu\n",
            "prediction failed to find feasible solution\n",
            "evaluating directory valid_100_100_5 instance 11\n",
            "Set parameter WLSAccessID\n",
            "Set parameter WLSSecret\n",
            "Set parameter LicenseID to value 669674\n",
            "Academic license - for non-commercial use only - registered to nem323@lehigh.edu\n",
            "Set parameter WLSAccessID\n",
            "Set parameter WLSSecret\n",
            "Set parameter LicenseID to value 669674\n",
            "Academic license - for non-commercial use only - registered to nem323@lehigh.edu\n",
            "evaluating directory valid_100_100_5 instance 12\n",
            "Set parameter WLSAccessID\n",
            "Set parameter WLSSecret\n",
            "Set parameter LicenseID to value 669674\n",
            "Academic license - for non-commercial use only - registered to nem323@lehigh.edu\n",
            "Set parameter WLSAccessID\n",
            "Set parameter WLSSecret\n",
            "Set parameter LicenseID to value 669674\n",
            "Academic license - for non-commercial use only - registered to nem323@lehigh.edu\n",
            "evaluating directory valid_100_100_5 instance 13\n",
            "Set parameter WLSAccessID\n",
            "Set parameter WLSSecret\n",
            "Set parameter LicenseID to value 669674\n",
            "Academic license - for non-commercial use only - registered to nem323@lehigh.edu\n",
            "Set parameter WLSAccessID\n",
            "Set parameter WLSSecret\n",
            "Set parameter LicenseID to value 669674\n",
            "Academic license - for non-commercial use only - registered to nem323@lehigh.edu\n",
            "prediction failed to find feasible solution\n",
            "evaluating directory valid_100_100_5 instance 14\n",
            "Set parameter WLSAccessID\n",
            "Set parameter WLSSecret\n",
            "Set parameter LicenseID to value 669674\n",
            "Academic license - for non-commercial use only - registered to nem323@lehigh.edu\n",
            "Set parameter WLSAccessID\n",
            "Set parameter WLSSecret\n",
            "Set parameter LicenseID to value 669674\n",
            "Academic license - for non-commercial use only - registered to nem323@lehigh.edu\n",
            "evaluating directory valid_100_100_5 instance 15\n",
            "Set parameter WLSAccessID\n",
            "Set parameter WLSSecret\n",
            "Set parameter LicenseID to value 669674\n",
            "Academic license - for non-commercial use only - registered to nem323@lehigh.edu\n",
            "Set parameter WLSAccessID\n",
            "Set parameter WLSSecret\n",
            "Set parameter LicenseID to value 669674\n",
            "Academic license - for non-commercial use only - registered to nem323@lehigh.edu\n",
            "\n"
          ]
        }
      ]
    },
    {
      "cell_type": "code",
      "source": [
        "main('schedules', unassigned_factor=1.5)"
      ],
      "metadata": {
        "colab": {
          "base_uri": "https://localhost:8080/"
        },
        "id": "mXFzRtyFtwAM",
        "outputId": "4c1cb071-f067-4c5e-e2f4-36e46313eb29"
      },
      "execution_count": null,
      "outputs": [
        {
          "output_type": "stream",
          "name": "stdout",
          "text": [
            "evaluating directory transfer_8_20_5 instance 1\n",
            "Set parameter WLSAccessID\n",
            "Set parameter WLSSecret\n",
            "Set parameter LicenseID to value 669674\n",
            "Academic license - for non-commercial use only - registered to nem323@lehigh.edu\n",
            "Set parameter WLSAccessID\n",
            "Set parameter WLSSecret\n",
            "Set parameter LicenseID to value 669674\n",
            "Academic license - for non-commercial use only - registered to nem323@lehigh.edu\n",
            "evaluating directory transfer_8_20_5 instance 2\n",
            "Set parameter WLSAccessID\n",
            "Set parameter WLSSecret\n",
            "Set parameter LicenseID to value 669674\n",
            "Academic license - for non-commercial use only - registered to nem323@lehigh.edu\n",
            "Set parameter WLSAccessID\n",
            "Set parameter WLSSecret\n",
            "Set parameter LicenseID to value 669674\n",
            "Academic license - for non-commercial use only - registered to nem323@lehigh.edu\n",
            "evaluating directory transfer_8_20_5 instance 3\n",
            "Set parameter WLSAccessID\n",
            "Set parameter WLSSecret\n",
            "Set parameter LicenseID to value 669674\n",
            "Academic license - for non-commercial use only - registered to nem323@lehigh.edu\n",
            "Set parameter WLSAccessID\n",
            "Set parameter WLSSecret\n",
            "Set parameter LicenseID to value 669674\n",
            "Academic license - for non-commercial use only - registered to nem323@lehigh.edu\n",
            "evaluating directory transfer_8_20_5 instance 4\n",
            "Set parameter WLSAccessID\n",
            "Set parameter WLSSecret\n",
            "Set parameter LicenseID to value 669674\n",
            "Academic license - for non-commercial use only - registered to nem323@lehigh.edu\n",
            "Set parameter WLSAccessID\n",
            "Set parameter WLSSecret\n",
            "Set parameter LicenseID to value 669674\n",
            "Academic license - for non-commercial use only - registered to nem323@lehigh.edu\n",
            "evaluating directory transfer_8_20_5 instance 5\n",
            "Set parameter WLSAccessID\n",
            "Set parameter WLSSecret\n",
            "Set parameter LicenseID to value 669674\n",
            "Academic license - for non-commercial use only - registered to nem323@lehigh.edu\n",
            "Set parameter WLSAccessID\n",
            "Set parameter WLSSecret\n",
            "Set parameter LicenseID to value 669674\n",
            "Academic license - for non-commercial use only - registered to nem323@lehigh.edu\n",
            "evaluating directory transfer_8_20_5 instance 6\n",
            "Set parameter WLSAccessID\n",
            "Set parameter WLSSecret\n",
            "Set parameter LicenseID to value 669674\n",
            "Academic license - for non-commercial use only - registered to nem323@lehigh.edu\n",
            "Set parameter WLSAccessID\n",
            "Set parameter WLSSecret\n",
            "Set parameter LicenseID to value 669674\n",
            "Academic license - for non-commercial use only - registered to nem323@lehigh.edu\n",
            "evaluating directory transfer_8_20_5 instance 7\n",
            "Set parameter WLSAccessID\n",
            "Set parameter WLSSecret\n",
            "Set parameter LicenseID to value 669674\n",
            "Academic license - for non-commercial use only - registered to nem323@lehigh.edu\n",
            "Set parameter WLSAccessID\n",
            "Set parameter WLSSecret\n",
            "Set parameter LicenseID to value 669674\n",
            "Academic license - for non-commercial use only - registered to nem323@lehigh.edu\n",
            "evaluating directory transfer_8_20_5 instance 8\n",
            "Set parameter WLSAccessID\n",
            "Set parameter WLSSecret\n",
            "Set parameter LicenseID to value 669674\n",
            "Academic license - for non-commercial use only - registered to nem323@lehigh.edu\n",
            "Set parameter WLSAccessID\n",
            "Set parameter WLSSecret\n",
            "Set parameter LicenseID to value 669674\n",
            "Academic license - for non-commercial use only - registered to nem323@lehigh.edu\n",
            "evaluating directory transfer_8_20_5 instance 9\n",
            "Set parameter WLSAccessID\n",
            "Set parameter WLSSecret\n",
            "Set parameter LicenseID to value 669674\n",
            "Academic license - for non-commercial use only - registered to nem323@lehigh.edu\n",
            "Set parameter WLSAccessID\n",
            "Set parameter WLSSecret\n",
            "Set parameter LicenseID to value 669674\n",
            "Academic license - for non-commercial use only - registered to nem323@lehigh.edu\n",
            "evaluating directory transfer_8_20_5 instance 10\n",
            "Set parameter WLSAccessID\n",
            "Set parameter WLSSecret\n",
            "Set parameter LicenseID to value 669674\n",
            "Academic license - for non-commercial use only - registered to nem323@lehigh.edu\n",
            "Set parameter WLSAccessID\n",
            "Set parameter WLSSecret\n",
            "Set parameter LicenseID to value 669674\n",
            "Academic license - for non-commercial use only - registered to nem323@lehigh.edu\n",
            "evaluating directory valid_8_20_5 instance 1\n",
            "Set parameter WLSAccessID\n",
            "Set parameter WLSSecret\n",
            "Set parameter LicenseID to value 669674\n",
            "Academic license - for non-commercial use only - registered to nem323@lehigh.edu\n",
            "Set parameter WLSAccessID\n",
            "Set parameter WLSSecret\n",
            "Set parameter LicenseID to value 669674\n",
            "Academic license - for non-commercial use only - registered to nem323@lehigh.edu\n",
            "evaluating directory valid_8_20_5 instance 2\n",
            "Set parameter WLSAccessID\n",
            "Set parameter WLSSecret\n",
            "Set parameter LicenseID to value 669674\n",
            "Academic license - for non-commercial use only - registered to nem323@lehigh.edu\n",
            "Set parameter WLSAccessID\n",
            "Set parameter WLSSecret\n",
            "Set parameter LicenseID to value 669674\n",
            "Academic license - for non-commercial use only - registered to nem323@lehigh.edu\n",
            "evaluating directory valid_8_20_5 instance 3\n",
            "Set parameter WLSAccessID\n",
            "Set parameter WLSSecret\n",
            "Set parameter LicenseID to value 669674\n",
            "Academic license - for non-commercial use only - registered to nem323@lehigh.edu\n",
            "Set parameter WLSAccessID\n",
            "Set parameter WLSSecret\n",
            "Set parameter LicenseID to value 669674\n",
            "Academic license - for non-commercial use only - registered to nem323@lehigh.edu\n",
            "evaluating directory valid_8_20_5 instance 4\n",
            "Set parameter WLSAccessID\n",
            "Set parameter WLSSecret\n",
            "Set parameter LicenseID to value 669674\n",
            "Academic license - for non-commercial use only - registered to nem323@lehigh.edu\n",
            "Set parameter WLSAccessID\n",
            "Set parameter WLSSecret\n",
            "Set parameter LicenseID to value 669674\n",
            "Academic license - for non-commercial use only - registered to nem323@lehigh.edu\n",
            "evaluating directory valid_8_20_5 instance 5\n",
            "Set parameter WLSAccessID\n",
            "Set parameter WLSSecret\n",
            "Set parameter LicenseID to value 669674\n",
            "Academic license - for non-commercial use only - registered to nem323@lehigh.edu\n",
            "Set parameter WLSAccessID\n",
            "Set parameter WLSSecret\n",
            "Set parameter LicenseID to value 669674\n",
            "Academic license - for non-commercial use only - registered to nem323@lehigh.edu\n",
            "evaluating directory valid_8_20_5 instance 6\n",
            "Set parameter WLSAccessID\n",
            "Set parameter WLSSecret\n",
            "Set parameter LicenseID to value 669674\n",
            "Academic license - for non-commercial use only - registered to nem323@lehigh.edu\n",
            "Set parameter WLSAccessID\n",
            "Set parameter WLSSecret\n",
            "Set parameter LicenseID to value 669674\n",
            "Academic license - for non-commercial use only - registered to nem323@lehigh.edu\n",
            "evaluating directory valid_8_20_5 instance 7\n",
            "Set parameter WLSAccessID\n",
            "Set parameter WLSSecret\n",
            "Set parameter LicenseID to value 669674\n",
            "Academic license - for non-commercial use only - registered to nem323@lehigh.edu\n",
            "Set parameter WLSAccessID\n",
            "Set parameter WLSSecret\n",
            "Set parameter LicenseID to value 669674\n",
            "Academic license - for non-commercial use only - registered to nem323@lehigh.edu\n",
            "evaluating directory valid_8_20_5 instance 8\n",
            "Set parameter WLSAccessID\n",
            "Set parameter WLSSecret\n",
            "Set parameter LicenseID to value 669674\n",
            "Academic license - for non-commercial use only - registered to nem323@lehigh.edu\n",
            "Set parameter WLSAccessID\n",
            "Set parameter WLSSecret\n",
            "Set parameter LicenseID to value 669674\n",
            "Academic license - for non-commercial use only - registered to nem323@lehigh.edu\n",
            "evaluating directory valid_8_20_5 instance 9\n",
            "Set parameter WLSAccessID\n",
            "Set parameter WLSSecret\n",
            "Set parameter LicenseID to value 669674\n",
            "Academic license - for non-commercial use only - registered to nem323@lehigh.edu\n",
            "Set parameter WLSAccessID\n",
            "Set parameter WLSSecret\n",
            "Set parameter LicenseID to value 669674\n",
            "Academic license - for non-commercial use only - registered to nem323@lehigh.edu\n",
            "evaluating directory valid_8_20_5 instance 10\n",
            "Set parameter WLSAccessID\n",
            "Set parameter WLSSecret\n",
            "Set parameter LicenseID to value 669674\n",
            "Academic license - for non-commercial use only - registered to nem323@lehigh.edu\n",
            "Set parameter WLSAccessID\n",
            "Set parameter WLSSecret\n",
            "Set parameter LicenseID to value 669674\n",
            "Academic license - for non-commercial use only - registered to nem323@lehigh.edu\n",
            "evaluating directory valid_8_20_5 instance 11\n",
            "Set parameter WLSAccessID\n",
            "Set parameter WLSSecret\n",
            "Set parameter LicenseID to value 669674\n",
            "Academic license - for non-commercial use only - registered to nem323@lehigh.edu\n",
            "Set parameter WLSAccessID\n",
            "Set parameter WLSSecret\n",
            "Set parameter LicenseID to value 669674\n",
            "Academic license - for non-commercial use only - registered to nem323@lehigh.edu\n",
            "evaluating directory valid_8_20_5 instance 12\n",
            "Set parameter WLSAccessID\n",
            "Set parameter WLSSecret\n",
            "Set parameter LicenseID to value 669674\n",
            "Academic license - for non-commercial use only - registered to nem323@lehigh.edu\n",
            "Set parameter WLSAccessID\n",
            "Set parameter WLSSecret\n",
            "Set parameter LicenseID to value 669674\n",
            "Academic license - for non-commercial use only - registered to nem323@lehigh.edu\n",
            "evaluating directory valid_8_20_5 instance 13\n",
            "Set parameter WLSAccessID\n",
            "Set parameter WLSSecret\n",
            "Set parameter LicenseID to value 669674\n",
            "Academic license - for non-commercial use only - registered to nem323@lehigh.edu\n",
            "Set parameter WLSAccessID\n",
            "Set parameter WLSSecret\n",
            "Set parameter LicenseID to value 669674\n",
            "Academic license - for non-commercial use only - registered to nem323@lehigh.edu\n",
            "evaluating directory valid_8_20_5 instance 14\n",
            "Set parameter WLSAccessID\n",
            "Set parameter WLSSecret\n",
            "Set parameter LicenseID to value 669674\n",
            "Academic license - for non-commercial use only - registered to nem323@lehigh.edu\n",
            "Set parameter WLSAccessID\n",
            "Set parameter WLSSecret\n",
            "Set parameter LicenseID to value 669674\n",
            "Academic license - for non-commercial use only - registered to nem323@lehigh.edu\n",
            "evaluating directory valid_8_20_5 instance 15\n",
            "Set parameter WLSAccessID\n",
            "Set parameter WLSSecret\n",
            "Set parameter LicenseID to value 669674\n",
            "Academic license - for non-commercial use only - registered to nem323@lehigh.edu\n",
            "Set parameter WLSAccessID\n",
            "Set parameter WLSSecret\n",
            "Set parameter LicenseID to value 669674\n",
            "Academic license - for non-commercial use only - registered to nem323@lehigh.edu\n",
            "evaluating directory train_8_20_5 instance 1\n",
            "Set parameter WLSAccessID\n",
            "Set parameter WLSSecret\n",
            "Set parameter LicenseID to value 669674\n",
            "Academic license - for non-commercial use only - registered to nem323@lehigh.edu\n",
            "Set parameter WLSAccessID\n",
            "Set parameter WLSSecret\n",
            "Set parameter LicenseID to value 669674\n",
            "Academic license - for non-commercial use only - registered to nem323@lehigh.edu\n",
            "evaluating directory train_8_20_5 instance 2\n",
            "Set parameter WLSAccessID\n",
            "Set parameter WLSSecret\n",
            "Set parameter LicenseID to value 669674\n",
            "Academic license - for non-commercial use only - registered to nem323@lehigh.edu\n",
            "Set parameter WLSAccessID\n",
            "Set parameter WLSSecret\n",
            "Set parameter LicenseID to value 669674\n",
            "Academic license - for non-commercial use only - registered to nem323@lehigh.edu\n",
            "evaluating directory train_8_20_5 instance 3\n",
            "Set parameter WLSAccessID\n",
            "Set parameter WLSSecret\n",
            "Set parameter LicenseID to value 669674\n",
            "Academic license - for non-commercial use only - registered to nem323@lehigh.edu\n",
            "Set parameter WLSAccessID\n",
            "Set parameter WLSSecret\n",
            "Set parameter LicenseID to value 669674\n",
            "Academic license - for non-commercial use only - registered to nem323@lehigh.edu\n",
            "evaluating directory train_8_20_5 instance 4\n",
            "Set parameter WLSAccessID\n",
            "Set parameter WLSSecret\n",
            "Set parameter LicenseID to value 669674\n",
            "Academic license - for non-commercial use only - registered to nem323@lehigh.edu\n",
            "Set parameter WLSAccessID\n",
            "Set parameter WLSSecret\n",
            "Set parameter LicenseID to value 669674\n",
            "Academic license - for non-commercial use only - registered to nem323@lehigh.edu\n",
            "evaluating directory train_8_20_5 instance 5\n",
            "Set parameter WLSAccessID\n",
            "Set parameter WLSSecret\n",
            "Set parameter LicenseID to value 669674\n",
            "Academic license - for non-commercial use only - registered to nem323@lehigh.edu\n",
            "Set parameter WLSAccessID\n",
            "Set parameter WLSSecret\n",
            "Set parameter LicenseID to value 669674\n",
            "Academic license - for non-commercial use only - registered to nem323@lehigh.edu\n",
            "evaluating directory train_8_20_5 instance 6\n",
            "Set parameter WLSAccessID\n",
            "Set parameter WLSSecret\n",
            "Set parameter LicenseID to value 669674\n",
            "Academic license - for non-commercial use only - registered to nem323@lehigh.edu\n",
            "Set parameter WLSAccessID\n",
            "Set parameter WLSSecret\n",
            "Set parameter LicenseID to value 669674\n",
            "Academic license - for non-commercial use only - registered to nem323@lehigh.edu\n",
            "evaluating directory train_8_20_5 instance 7\n",
            "Set parameter WLSAccessID\n",
            "Set parameter WLSSecret\n",
            "Set parameter LicenseID to value 669674\n",
            "Academic license - for non-commercial use only - registered to nem323@lehigh.edu\n",
            "Set parameter WLSAccessID\n",
            "Set parameter WLSSecret\n",
            "Set parameter LicenseID to value 669674\n",
            "Academic license - for non-commercial use only - registered to nem323@lehigh.edu\n",
            "evaluating directory train_8_20_5 instance 8\n",
            "Set parameter WLSAccessID\n",
            "Set parameter WLSSecret\n",
            "Set parameter LicenseID to value 669674\n",
            "Academic license - for non-commercial use only - registered to nem323@lehigh.edu\n",
            "Set parameter WLSAccessID\n",
            "Set parameter WLSSecret\n",
            "Set parameter LicenseID to value 669674\n",
            "Academic license - for non-commercial use only - registered to nem323@lehigh.edu\n",
            "evaluating directory train_8_20_5 instance 9\n",
            "Set parameter WLSAccessID\n",
            "Set parameter WLSSecret\n",
            "Set parameter LicenseID to value 669674\n",
            "Academic license - for non-commercial use only - registered to nem323@lehigh.edu\n",
            "Set parameter WLSAccessID\n",
            "Set parameter WLSSecret\n",
            "Set parameter LicenseID to value 669674\n",
            "Academic license - for non-commercial use only - registered to nem323@lehigh.edu\n",
            "evaluating directory train_8_20_5 instance 10\n",
            "Set parameter WLSAccessID\n",
            "Set parameter WLSSecret\n",
            "Set parameter LicenseID to value 669674\n",
            "Academic license - for non-commercial use only - registered to nem323@lehigh.edu\n",
            "Set parameter WLSAccessID\n",
            "Set parameter WLSSecret\n",
            "Set parameter LicenseID to value 669674\n",
            "Academic license - for non-commercial use only - registered to nem323@lehigh.edu\n",
            "evaluating directory train_8_20_5 instance 11\n",
            "Set parameter WLSAccessID\n",
            "Set parameter WLSSecret\n",
            "Set parameter LicenseID to value 669674\n",
            "Academic license - for non-commercial use only - registered to nem323@lehigh.edu\n",
            "Set parameter WLSAccessID\n",
            "Set parameter WLSSecret\n",
            "Set parameter LicenseID to value 669674\n",
            "Academic license - for non-commercial use only - registered to nem323@lehigh.edu\n",
            "evaluating directory train_8_20_5 instance 12\n",
            "Set parameter WLSAccessID\n",
            "Set parameter WLSSecret\n",
            "Set parameter LicenseID to value 669674\n",
            "Academic license - for non-commercial use only - registered to nem323@lehigh.edu\n",
            "Set parameter WLSAccessID\n",
            "Set parameter WLSSecret\n",
            "Set parameter LicenseID to value 669674\n",
            "Academic license - for non-commercial use only - registered to nem323@lehigh.edu\n",
            "evaluating directory train_8_20_5 instance 13\n",
            "Set parameter WLSAccessID\n",
            "Set parameter WLSSecret\n",
            "Set parameter LicenseID to value 669674\n",
            "Academic license - for non-commercial use only - registered to nem323@lehigh.edu\n",
            "Set parameter WLSAccessID\n",
            "Set parameter WLSSecret\n",
            "Set parameter LicenseID to value 669674\n",
            "Academic license - for non-commercial use only - registered to nem323@lehigh.edu\n",
            "evaluating directory train_8_20_5 instance 14\n",
            "Set parameter WLSAccessID\n",
            "Set parameter WLSSecret\n",
            "Set parameter LicenseID to value 669674\n",
            "Academic license - for non-commercial use only - registered to nem323@lehigh.edu\n",
            "Set parameter WLSAccessID\n",
            "Set parameter WLSSecret\n",
            "Set parameter LicenseID to value 669674\n",
            "Academic license - for non-commercial use only - registered to nem323@lehigh.edu\n",
            "evaluating directory train_8_20_5 instance 15\n",
            "Set parameter WLSAccessID\n",
            "Set parameter WLSSecret\n",
            "Set parameter LicenseID to value 669674\n",
            "Academic license - for non-commercial use only - registered to nem323@lehigh.edu\n",
            "Set parameter WLSAccessID\n",
            "Set parameter WLSSecret\n",
            "Set parameter LicenseID to value 669674\n",
            "Academic license - for non-commercial use only - registered to nem323@lehigh.edu\n",
            "evaluating directory test_8_20_5 instance 1\n",
            "Set parameter WLSAccessID\n",
            "Set parameter WLSSecret\n",
            "Set parameter LicenseID to value 669674\n",
            "Academic license - for non-commercial use only - registered to nem323@lehigh.edu\n",
            "Set parameter WLSAccessID\n",
            "Set parameter WLSSecret\n",
            "Set parameter LicenseID to value 669674\n",
            "Academic license - for non-commercial use only - registered to nem323@lehigh.edu\n",
            "evaluating directory test_8_20_5 instance 2\n",
            "Set parameter WLSAccessID\n",
            "Set parameter WLSSecret\n",
            "Set parameter LicenseID to value 669674\n",
            "Academic license - for non-commercial use only - registered to nem323@lehigh.edu\n",
            "Set parameter WLSAccessID\n",
            "Set parameter WLSSecret\n",
            "Set parameter LicenseID to value 669674\n",
            "Academic license - for non-commercial use only - registered to nem323@lehigh.edu\n",
            "evaluating directory test_8_20_5 instance 3\n",
            "Set parameter WLSAccessID\n",
            "Set parameter WLSSecret\n",
            "Set parameter LicenseID to value 669674\n",
            "Academic license - for non-commercial use only - registered to nem323@lehigh.edu\n",
            "Set parameter WLSAccessID\n",
            "Set parameter WLSSecret\n",
            "Set parameter LicenseID to value 669674\n",
            "Academic license - for non-commercial use only - registered to nem323@lehigh.edu\n",
            "evaluating directory test_8_20_5 instance 4\n",
            "Set parameter WLSAccessID\n",
            "Set parameter WLSSecret\n",
            "Set parameter LicenseID to value 669674\n",
            "Academic license - for non-commercial use only - registered to nem323@lehigh.edu\n",
            "Set parameter WLSAccessID\n",
            "Set parameter WLSSecret\n",
            "Set parameter LicenseID to value 669674\n",
            "Academic license - for non-commercial use only - registered to nem323@lehigh.edu\n",
            "evaluating directory test_8_20_5 instance 5\n",
            "Set parameter WLSAccessID\n",
            "Set parameter WLSSecret\n",
            "Set parameter LicenseID to value 669674\n",
            "Academic license - for non-commercial use only - registered to nem323@lehigh.edu\n",
            "Set parameter WLSAccessID\n",
            "Set parameter WLSSecret\n",
            "Set parameter LicenseID to value 669674\n",
            "Academic license - for non-commercial use only - registered to nem323@lehigh.edu\n",
            "evaluating directory test_8_20_5 instance 6\n",
            "Set parameter WLSAccessID\n",
            "Set parameter WLSSecret\n",
            "Set parameter LicenseID to value 669674\n",
            "Academic license - for non-commercial use only - registered to nem323@lehigh.edu\n",
            "Set parameter WLSAccessID\n",
            "Set parameter WLSSecret\n",
            "Set parameter LicenseID to value 669674\n",
            "Academic license - for non-commercial use only - registered to nem323@lehigh.edu\n",
            "evaluating directory test_8_20_5 instance 7\n",
            "Set parameter WLSAccessID\n",
            "Set parameter WLSSecret\n",
            "Set parameter LicenseID to value 669674\n",
            "Academic license - for non-commercial use only - registered to nem323@lehigh.edu\n",
            "Set parameter WLSAccessID\n",
            "Set parameter WLSSecret\n",
            "Set parameter LicenseID to value 669674\n",
            "Academic license - for non-commercial use only - registered to nem323@lehigh.edu\n",
            "evaluating directory test_8_20_5 instance 8\n",
            "Set parameter WLSAccessID\n",
            "Set parameter WLSSecret\n",
            "Set parameter LicenseID to value 669674\n",
            "Academic license - for non-commercial use only - registered to nem323@lehigh.edu\n",
            "Set parameter WLSAccessID\n",
            "Set parameter WLSSecret\n",
            "Set parameter LicenseID to value 669674\n",
            "Academic license - for non-commercial use only - registered to nem323@lehigh.edu\n",
            "evaluating directory test_8_20_5 instance 9\n",
            "Set parameter WLSAccessID\n",
            "Set parameter WLSSecret\n",
            "Set parameter LicenseID to value 669674\n",
            "Academic license - for non-commercial use only - registered to nem323@lehigh.edu\n",
            "Set parameter WLSAccessID\n",
            "Set parameter WLSSecret\n",
            "Set parameter LicenseID to value 669674\n",
            "Academic license - for non-commercial use only - registered to nem323@lehigh.edu\n",
            "evaluating directory test_8_20_5 instance 10\n",
            "Set parameter WLSAccessID\n",
            "Set parameter WLSSecret\n",
            "Set parameter LicenseID to value 669674\n",
            "Academic license - for non-commercial use only - registered to nem323@lehigh.edu\n",
            "Set parameter WLSAccessID\n",
            "Set parameter WLSSecret\n",
            "Set parameter LicenseID to value 669674\n",
            "Academic license - for non-commercial use only - registered to nem323@lehigh.edu\n",
            "evaluating directory test_8_20_5 instance 11\n",
            "Set parameter WLSAccessID\n",
            "Set parameter WLSSecret\n",
            "Set parameter LicenseID to value 669674\n",
            "Academic license - for non-commercial use only - registered to nem323@lehigh.edu\n",
            "Set parameter WLSAccessID\n",
            "Set parameter WLSSecret\n",
            "Set parameter LicenseID to value 669674\n",
            "Academic license - for non-commercial use only - registered to nem323@lehigh.edu\n",
            "evaluating directory test_8_20_5 instance 12\n",
            "Set parameter WLSAccessID\n",
            "Set parameter WLSSecret\n",
            "Set parameter LicenseID to value 669674\n",
            "Academic license - for non-commercial use only - registered to nem323@lehigh.edu\n",
            "Set parameter WLSAccessID\n",
            "Set parameter WLSSecret\n",
            "Set parameter LicenseID to value 669674\n",
            "Academic license - for non-commercial use only - registered to nem323@lehigh.edu\n",
            "evaluating directory test_8_20_5 instance 13\n",
            "Set parameter WLSAccessID\n",
            "Set parameter WLSSecret\n",
            "Set parameter LicenseID to value 669674\n",
            "Academic license - for non-commercial use only - registered to nem323@lehigh.edu\n",
            "Set parameter WLSAccessID\n",
            "Set parameter WLSSecret\n",
            "Set parameter LicenseID to value 669674\n",
            "Academic license - for non-commercial use only - registered to nem323@lehigh.edu\n",
            "evaluating directory test_8_20_5 instance 14\n",
            "Set parameter WLSAccessID\n",
            "Set parameter WLSSecret\n",
            "Set parameter LicenseID to value 669674\n",
            "Academic license - for non-commercial use only - registered to nem323@lehigh.edu\n",
            "Set parameter WLSAccessID\n",
            "Set parameter WLSSecret\n",
            "Set parameter LicenseID to value 669674\n",
            "Academic license - for non-commercial use only - registered to nem323@lehigh.edu\n",
            "evaluating directory test_8_20_5 instance 15\n",
            "Set parameter WLSAccessID\n",
            "Set parameter WLSSecret\n",
            "Set parameter LicenseID to value 669674\n",
            "Academic license - for non-commercial use only - registered to nem323@lehigh.edu\n",
            "Set parameter WLSAccessID\n",
            "Set parameter WLSSecret\n",
            "Set parameter LicenseID to value 669674\n",
            "Academic license - for non-commercial use only - registered to nem323@lehigh.edu\n",
            "\n"
          ]
        }
      ]
    },
    {
      "cell_type": "code",
      "source": [
        "main('cauctions', unassigned_factor=1)"
      ],
      "metadata": {
        "colab": {
          "base_uri": "https://localhost:8080/"
        },
        "id": "kTVypA5Vt3Sr",
        "outputId": "22fd68e2-1cac-4434-aa11-a40591f4f680"
      },
      "execution_count": null,
      "outputs": [
        {
          "output_type": "stream",
          "name": "stdout",
          "text": [
            "evaluating directory train_100_500 instance 1\n",
            "Set parameter WLSAccessID\n",
            "Set parameter WLSSecret\n",
            "Set parameter LicenseID to value 669674\n",
            "Academic license - for non-commercial use only - registered to nem323@lehigh.edu\n",
            "Set parameter WLSAccessID\n",
            "Set parameter WLSSecret\n",
            "Set parameter LicenseID to value 669674\n",
            "Academic license - for non-commercial use only - registered to nem323@lehigh.edu\n",
            "evaluating directory train_100_500 instance 2\n",
            "Set parameter WLSAccessID\n",
            "Set parameter WLSSecret\n",
            "Set parameter LicenseID to value 669674\n",
            "Academic license - for non-commercial use only - registered to nem323@lehigh.edu\n",
            "Set parameter WLSAccessID\n",
            "Set parameter WLSSecret\n",
            "Set parameter LicenseID to value 669674\n",
            "Academic license - for non-commercial use only - registered to nem323@lehigh.edu\n",
            "evaluating directory train_100_500 instance 3\n",
            "Set parameter WLSAccessID\n",
            "Set parameter WLSSecret\n",
            "Set parameter LicenseID to value 669674\n",
            "Academic license - for non-commercial use only - registered to nem323@lehigh.edu\n",
            "Set parameter WLSAccessID\n",
            "Set parameter WLSSecret\n",
            "Set parameter LicenseID to value 669674\n",
            "Academic license - for non-commercial use only - registered to nem323@lehigh.edu\n",
            "evaluating directory train_100_500 instance 4\n",
            "Set parameter WLSAccessID\n",
            "Set parameter WLSSecret\n",
            "Set parameter LicenseID to value 669674\n",
            "Academic license - for non-commercial use only - registered to nem323@lehigh.edu\n",
            "Set parameter WLSAccessID\n",
            "Set parameter WLSSecret\n",
            "Set parameter LicenseID to value 669674\n",
            "Academic license - for non-commercial use only - registered to nem323@lehigh.edu\n",
            "evaluating directory train_100_500 instance 5\n",
            "Set parameter WLSAccessID\n",
            "Set parameter WLSSecret\n",
            "Set parameter LicenseID to value 669674\n",
            "Academic license - for non-commercial use only - registered to nem323@lehigh.edu\n",
            "Set parameter WLSAccessID\n",
            "Set parameter WLSSecret\n",
            "Set parameter LicenseID to value 669674\n",
            "Academic license - for non-commercial use only - registered to nem323@lehigh.edu\n",
            "evaluating directory train_100_500 instance 6\n",
            "Set parameter WLSAccessID\n",
            "Set parameter WLSSecret\n",
            "Set parameter LicenseID to value 669674\n",
            "Academic license - for non-commercial use only - registered to nem323@lehigh.edu\n",
            "Set parameter WLSAccessID\n",
            "Set parameter WLSSecret\n",
            "Set parameter LicenseID to value 669674\n",
            "Academic license - for non-commercial use only - registered to nem323@lehigh.edu\n",
            "evaluating directory train_100_500 instance 7\n",
            "Set parameter WLSAccessID\n",
            "Set parameter WLSSecret\n",
            "Set parameter LicenseID to value 669674\n",
            "Academic license - for non-commercial use only - registered to nem323@lehigh.edu\n",
            "Set parameter WLSAccessID\n",
            "Set parameter WLSSecret\n",
            "Set parameter LicenseID to value 669674\n",
            "Academic license - for non-commercial use only - registered to nem323@lehigh.edu\n",
            "evaluating directory train_100_500 instance 8\n",
            "Set parameter WLSAccessID\n",
            "Set parameter WLSSecret\n",
            "Set parameter LicenseID to value 669674\n",
            "Academic license - for non-commercial use only - registered to nem323@lehigh.edu\n",
            "Set parameter WLSAccessID\n",
            "Set parameter WLSSecret\n",
            "Set parameter LicenseID to value 669674\n",
            "Academic license - for non-commercial use only - registered to nem323@lehigh.edu\n",
            "evaluating directory train_100_500 instance 9\n",
            "Set parameter WLSAccessID\n",
            "Set parameter WLSSecret\n",
            "Set parameter LicenseID to value 669674\n",
            "Academic license - for non-commercial use only - registered to nem323@lehigh.edu\n",
            "Set parameter WLSAccessID\n",
            "Set parameter WLSSecret\n",
            "Set parameter LicenseID to value 669674\n",
            "Academic license - for non-commercial use only - registered to nem323@lehigh.edu\n",
            "evaluating directory train_100_500 instance 10\n",
            "Set parameter WLSAccessID\n",
            "Set parameter WLSSecret\n",
            "Set parameter LicenseID to value 669674\n",
            "Academic license - for non-commercial use only - registered to nem323@lehigh.edu\n",
            "Set parameter WLSAccessID\n",
            "Set parameter WLSSecret\n",
            "Set parameter LicenseID to value 669674\n",
            "Academic license - for non-commercial use only - registered to nem323@lehigh.edu\n",
            "evaluating directory train_100_500 instance 11\n",
            "Set parameter WLSAccessID\n",
            "Set parameter WLSSecret\n",
            "Set parameter LicenseID to value 669674\n",
            "Academic license - for non-commercial use only - registered to nem323@lehigh.edu\n",
            "Set parameter WLSAccessID\n",
            "Set parameter WLSSecret\n",
            "Set parameter LicenseID to value 669674\n",
            "Academic license - for non-commercial use only - registered to nem323@lehigh.edu\n",
            "evaluating directory train_100_500 instance 12\n",
            "Set parameter WLSAccessID\n",
            "Set parameter WLSSecret\n",
            "Set parameter LicenseID to value 669674\n",
            "Academic license - for non-commercial use only - registered to nem323@lehigh.edu\n",
            "Set parameter WLSAccessID\n",
            "Set parameter WLSSecret\n",
            "Set parameter LicenseID to value 669674\n",
            "Academic license - for non-commercial use only - registered to nem323@lehigh.edu\n",
            "evaluating directory train_100_500 instance 13\n",
            "Set parameter WLSAccessID\n",
            "Set parameter WLSSecret\n",
            "Set parameter LicenseID to value 669674\n",
            "Academic license - for non-commercial use only - registered to nem323@lehigh.edu\n",
            "Set parameter WLSAccessID\n",
            "Set parameter WLSSecret\n",
            "Set parameter LicenseID to value 669674\n",
            "Academic license - for non-commercial use only - registered to nem323@lehigh.edu\n",
            "evaluating directory train_100_500 instance 14\n",
            "Set parameter WLSAccessID\n",
            "Set parameter WLSSecret\n",
            "Set parameter LicenseID to value 669674\n",
            "Academic license - for non-commercial use only - registered to nem323@lehigh.edu\n",
            "Set parameter WLSAccessID\n",
            "Set parameter WLSSecret\n",
            "Set parameter LicenseID to value 669674\n",
            "Academic license - for non-commercial use only - registered to nem323@lehigh.edu\n",
            "evaluating directory train_100_500 instance 15\n",
            "Set parameter WLSAccessID\n",
            "Set parameter WLSSecret\n",
            "Set parameter LicenseID to value 669674\n",
            "Academic license - for non-commercial use only - registered to nem323@lehigh.edu\n",
            "Set parameter WLSAccessID\n",
            "Set parameter WLSSecret\n",
            "Set parameter LicenseID to value 669674\n",
            "Academic license - for non-commercial use only - registered to nem323@lehigh.edu\n",
            "evaluating directory valid_100_500 instance 1\n",
            "Set parameter WLSAccessID\n",
            "Set parameter WLSSecret\n",
            "Set parameter LicenseID to value 669674\n",
            "Academic license - for non-commercial use only - registered to nem323@lehigh.edu\n",
            "Set parameter WLSAccessID\n",
            "Set parameter WLSSecret\n",
            "Set parameter LicenseID to value 669674\n",
            "Academic license - for non-commercial use only - registered to nem323@lehigh.edu\n",
            "evaluating directory valid_100_500 instance 2\n",
            "Set parameter WLSAccessID\n",
            "Set parameter WLSSecret\n",
            "Set parameter LicenseID to value 669674\n",
            "Academic license - for non-commercial use only - registered to nem323@lehigh.edu\n",
            "Set parameter WLSAccessID\n",
            "Set parameter WLSSecret\n",
            "Set parameter LicenseID to value 669674\n",
            "Academic license - for non-commercial use only - registered to nem323@lehigh.edu\n",
            "evaluating directory valid_100_500 instance 3\n",
            "Set parameter WLSAccessID\n",
            "Set parameter WLSSecret\n",
            "Set parameter LicenseID to value 669674\n",
            "Academic license - for non-commercial use only - registered to nem323@lehigh.edu\n",
            "Set parameter WLSAccessID\n",
            "Set parameter WLSSecret\n",
            "Set parameter LicenseID to value 669674\n",
            "Academic license - for non-commercial use only - registered to nem323@lehigh.edu\n",
            "evaluating directory valid_100_500 instance 4\n",
            "Set parameter WLSAccessID\n",
            "Set parameter WLSSecret\n",
            "Set parameter LicenseID to value 669674\n",
            "Academic license - for non-commercial use only - registered to nem323@lehigh.edu\n",
            "Set parameter WLSAccessID\n",
            "Set parameter WLSSecret\n",
            "Set parameter LicenseID to value 669674\n",
            "Academic license - for non-commercial use only - registered to nem323@lehigh.edu\n",
            "evaluating directory valid_100_500 instance 5\n",
            "Set parameter WLSAccessID\n",
            "Set parameter WLSSecret\n",
            "Set parameter LicenseID to value 669674\n",
            "Academic license - for non-commercial use only - registered to nem323@lehigh.edu\n",
            "Set parameter WLSAccessID\n",
            "Set parameter WLSSecret\n",
            "Set parameter LicenseID to value 669674\n",
            "Academic license - for non-commercial use only - registered to nem323@lehigh.edu\n",
            "evaluating directory valid_100_500 instance 6\n",
            "Set parameter WLSAccessID\n",
            "Set parameter WLSSecret\n",
            "Set parameter LicenseID to value 669674\n",
            "Academic license - for non-commercial use only - registered to nem323@lehigh.edu\n",
            "Set parameter WLSAccessID\n",
            "Set parameter WLSSecret\n",
            "Set parameter LicenseID to value 669674\n",
            "Academic license - for non-commercial use only - registered to nem323@lehigh.edu\n",
            "evaluating directory valid_100_500 instance 7\n",
            "Set parameter WLSAccessID\n",
            "Set parameter WLSSecret\n",
            "Set parameter LicenseID to value 669674\n",
            "Academic license - for non-commercial use only - registered to nem323@lehigh.edu\n",
            "Set parameter WLSAccessID\n",
            "Set parameter WLSSecret\n",
            "Set parameter LicenseID to value 669674\n",
            "Academic license - for non-commercial use only - registered to nem323@lehigh.edu\n",
            "evaluating directory valid_100_500 instance 8\n",
            "Set parameter WLSAccessID\n",
            "Set parameter WLSSecret\n",
            "Set parameter LicenseID to value 669674\n",
            "Academic license - for non-commercial use only - registered to nem323@lehigh.edu\n",
            "Set parameter WLSAccessID\n",
            "Set parameter WLSSecret\n",
            "Set parameter LicenseID to value 669674\n",
            "Academic license - for non-commercial use only - registered to nem323@lehigh.edu\n",
            "evaluating directory valid_100_500 instance 9\n",
            "Set parameter WLSAccessID\n",
            "Set parameter WLSSecret\n",
            "Set parameter LicenseID to value 669674\n",
            "Academic license - for non-commercial use only - registered to nem323@lehigh.edu\n",
            "Set parameter WLSAccessID\n",
            "Set parameter WLSSecret\n",
            "Set parameter LicenseID to value 669674\n",
            "Academic license - for non-commercial use only - registered to nem323@lehigh.edu\n",
            "evaluating directory valid_100_500 instance 10\n",
            "Set parameter WLSAccessID\n",
            "Set parameter WLSSecret\n",
            "Set parameter LicenseID to value 669674\n",
            "Academic license - for non-commercial use only - registered to nem323@lehigh.edu\n",
            "Set parameter WLSAccessID\n",
            "Set parameter WLSSecret\n",
            "Set parameter LicenseID to value 669674\n",
            "Academic license - for non-commercial use only - registered to nem323@lehigh.edu\n",
            "evaluating directory valid_100_500 instance 11\n",
            "Set parameter WLSAccessID\n",
            "Set parameter WLSSecret\n",
            "Set parameter LicenseID to value 669674\n",
            "Academic license - for non-commercial use only - registered to nem323@lehigh.edu\n",
            "Set parameter WLSAccessID\n",
            "Set parameter WLSSecret\n",
            "Set parameter LicenseID to value 669674\n",
            "Academic license - for non-commercial use only - registered to nem323@lehigh.edu\n",
            "evaluating directory valid_100_500 instance 12\n",
            "Set parameter WLSAccessID\n",
            "Set parameter WLSSecret\n",
            "Set parameter LicenseID to value 669674\n",
            "Academic license - for non-commercial use only - registered to nem323@lehigh.edu\n",
            "Set parameter WLSAccessID\n",
            "Set parameter WLSSecret\n",
            "Set parameter LicenseID to value 669674\n",
            "Academic license - for non-commercial use only - registered to nem323@lehigh.edu\n",
            "evaluating directory valid_100_500 instance 13\n",
            "Set parameter WLSAccessID\n",
            "Set parameter WLSSecret\n",
            "Set parameter LicenseID to value 669674\n",
            "Academic license - for non-commercial use only - registered to nem323@lehigh.edu\n",
            "Set parameter WLSAccessID\n",
            "Set parameter WLSSecret\n",
            "Set parameter LicenseID to value 669674\n",
            "Academic license - for non-commercial use only - registered to nem323@lehigh.edu\n",
            "evaluating directory valid_100_500 instance 14\n",
            "Set parameter WLSAccessID\n",
            "Set parameter WLSSecret\n",
            "Set parameter LicenseID to value 669674\n",
            "Academic license - for non-commercial use only - registered to nem323@lehigh.edu\n",
            "Set parameter WLSAccessID\n",
            "Set parameter WLSSecret\n",
            "Set parameter LicenseID to value 669674\n",
            "Academic license - for non-commercial use only - registered to nem323@lehigh.edu\n",
            "evaluating directory valid_100_500 instance 15\n",
            "Set parameter WLSAccessID\n",
            "Set parameter WLSSecret\n",
            "Set parameter LicenseID to value 669674\n",
            "Academic license - for non-commercial use only - registered to nem323@lehigh.edu\n",
            "Set parameter WLSAccessID\n",
            "Set parameter WLSSecret\n",
            "Set parameter LicenseID to value 669674\n",
            "Academic license - for non-commercial use only - registered to nem323@lehigh.edu\n",
            "evaluating directory transfer_100_500 instance 1\n",
            "Set parameter WLSAccessID\n",
            "Set parameter WLSSecret\n",
            "Set parameter LicenseID to value 669674\n",
            "Academic license - for non-commercial use only - registered to nem323@lehigh.edu\n",
            "Set parameter WLSAccessID\n",
            "Set parameter WLSSecret\n",
            "Set parameter LicenseID to value 669674\n",
            "Academic license - for non-commercial use only - registered to nem323@lehigh.edu\n",
            "evaluating directory transfer_100_500 instance 2\n",
            "Set parameter WLSAccessID\n",
            "Set parameter WLSSecret\n",
            "Set parameter LicenseID to value 669674\n",
            "Academic license - for non-commercial use only - registered to nem323@lehigh.edu\n",
            "Set parameter WLSAccessID\n",
            "Set parameter WLSSecret\n",
            "Set parameter LicenseID to value 669674\n",
            "Academic license - for non-commercial use only - registered to nem323@lehigh.edu\n",
            "evaluating directory transfer_100_500 instance 3\n",
            "Set parameter WLSAccessID\n",
            "Set parameter WLSSecret\n",
            "Set parameter LicenseID to value 669674\n",
            "Academic license - for non-commercial use only - registered to nem323@lehigh.edu\n",
            "Set parameter WLSAccessID\n",
            "Set parameter WLSSecret\n",
            "Set parameter LicenseID to value 669674\n",
            "Academic license - for non-commercial use only - registered to nem323@lehigh.edu\n",
            "evaluating directory transfer_100_500 instance 4\n",
            "Set parameter WLSAccessID\n",
            "Set parameter WLSSecret\n",
            "Set parameter LicenseID to value 669674\n",
            "Academic license - for non-commercial use only - registered to nem323@lehigh.edu\n",
            "Set parameter WLSAccessID\n",
            "Set parameter WLSSecret\n",
            "Set parameter LicenseID to value 669674\n",
            "Academic license - for non-commercial use only - registered to nem323@lehigh.edu\n",
            "evaluating directory transfer_100_500 instance 5\n",
            "Set parameter WLSAccessID\n",
            "Set parameter WLSSecret\n",
            "Set parameter LicenseID to value 669674\n",
            "Academic license - for non-commercial use only - registered to nem323@lehigh.edu\n",
            "Set parameter WLSAccessID\n",
            "Set parameter WLSSecret\n",
            "Set parameter LicenseID to value 669674\n",
            "Academic license - for non-commercial use only - registered to nem323@lehigh.edu\n",
            "evaluating directory transfer_100_500 instance 6\n",
            "Set parameter WLSAccessID\n",
            "Set parameter WLSSecret\n",
            "Set parameter LicenseID to value 669674\n",
            "Academic license - for non-commercial use only - registered to nem323@lehigh.edu\n",
            "Set parameter WLSAccessID\n",
            "Set parameter WLSSecret\n",
            "Set parameter LicenseID to value 669674\n",
            "Academic license - for non-commercial use only - registered to nem323@lehigh.edu\n",
            "evaluating directory transfer_100_500 instance 7\n",
            "Set parameter WLSAccessID\n",
            "Set parameter WLSSecret\n",
            "Set parameter LicenseID to value 669674\n",
            "Academic license - for non-commercial use only - registered to nem323@lehigh.edu\n",
            "Set parameter WLSAccessID\n",
            "Set parameter WLSSecret\n",
            "Set parameter LicenseID to value 669674\n",
            "Academic license - for non-commercial use only - registered to nem323@lehigh.edu\n",
            "evaluating directory transfer_100_500 instance 8\n",
            "Set parameter WLSAccessID\n",
            "Set parameter WLSSecret\n",
            "Set parameter LicenseID to value 669674\n",
            "Academic license - for non-commercial use only - registered to nem323@lehigh.edu\n",
            "Set parameter WLSAccessID\n",
            "Set parameter WLSSecret\n",
            "Set parameter LicenseID to value 669674\n",
            "Academic license - for non-commercial use only - registered to nem323@lehigh.edu\n",
            "evaluating directory transfer_100_500 instance 9\n",
            "Set parameter WLSAccessID\n",
            "Set parameter WLSSecret\n",
            "Set parameter LicenseID to value 669674\n",
            "Academic license - for non-commercial use only - registered to nem323@lehigh.edu\n",
            "Set parameter WLSAccessID\n",
            "Set parameter WLSSecret\n",
            "Set parameter LicenseID to value 669674\n",
            "Academic license - for non-commercial use only - registered to nem323@lehigh.edu\n",
            "evaluating directory transfer_100_500 instance 10\n",
            "Set parameter WLSAccessID\n",
            "Set parameter WLSSecret\n",
            "Set parameter LicenseID to value 669674\n",
            "Academic license - for non-commercial use only - registered to nem323@lehigh.edu\n",
            "Set parameter WLSAccessID\n",
            "Set parameter WLSSecret\n",
            "Set parameter LicenseID to value 669674\n",
            "Academic license - for non-commercial use only - registered to nem323@lehigh.edu\n",
            "evaluating directory test_100_500 instance 1\n",
            "Set parameter WLSAccessID\n",
            "Set parameter WLSSecret\n",
            "Set parameter LicenseID to value 669674\n",
            "Academic license - for non-commercial use only - registered to nem323@lehigh.edu\n",
            "Set parameter WLSAccessID\n",
            "Set parameter WLSSecret\n",
            "Set parameter LicenseID to value 669674\n",
            "Academic license - for non-commercial use only - registered to nem323@lehigh.edu\n",
            "evaluating directory test_100_500 instance 2\n",
            "Set parameter WLSAccessID\n",
            "Set parameter WLSSecret\n",
            "Set parameter LicenseID to value 669674\n",
            "Academic license - for non-commercial use only - registered to nem323@lehigh.edu\n",
            "Set parameter WLSAccessID\n",
            "Set parameter WLSSecret\n",
            "Set parameter LicenseID to value 669674\n",
            "Academic license - for non-commercial use only - registered to nem323@lehigh.edu\n",
            "evaluating directory test_100_500 instance 3\n",
            "Set parameter WLSAccessID\n",
            "Set parameter WLSSecret\n",
            "Set parameter LicenseID to value 669674\n",
            "Academic license - for non-commercial use only - registered to nem323@lehigh.edu\n",
            "Set parameter WLSAccessID\n",
            "Set parameter WLSSecret\n",
            "Set parameter LicenseID to value 669674\n",
            "Academic license - for non-commercial use only - registered to nem323@lehigh.edu\n",
            "evaluating directory test_100_500 instance 4\n",
            "Set parameter WLSAccessID\n",
            "Set parameter WLSSecret\n",
            "Set parameter LicenseID to value 669674\n",
            "Academic license - for non-commercial use only - registered to nem323@lehigh.edu\n",
            "Set parameter WLSAccessID\n",
            "Set parameter WLSSecret\n",
            "Set parameter LicenseID to value 669674\n",
            "Academic license - for non-commercial use only - registered to nem323@lehigh.edu\n",
            "evaluating directory test_100_500 instance 5\n",
            "Set parameter WLSAccessID\n",
            "Set parameter WLSSecret\n",
            "Set parameter LicenseID to value 669674\n",
            "Academic license - for non-commercial use only - registered to nem323@lehigh.edu\n",
            "Set parameter WLSAccessID\n",
            "Set parameter WLSSecret\n",
            "Set parameter LicenseID to value 669674\n",
            "Academic license - for non-commercial use only - registered to nem323@lehigh.edu\n",
            "evaluating directory test_100_500 instance 6\n",
            "Set parameter WLSAccessID\n",
            "Set parameter WLSSecret\n",
            "Set parameter LicenseID to value 669674\n",
            "Academic license - for non-commercial use only - registered to nem323@lehigh.edu\n",
            "Set parameter WLSAccessID\n",
            "Set parameter WLSSecret\n",
            "Set parameter LicenseID to value 669674\n",
            "Academic license - for non-commercial use only - registered to nem323@lehigh.edu\n",
            "evaluating directory test_100_500 instance 7\n",
            "Set parameter WLSAccessID\n",
            "Set parameter WLSSecret\n",
            "Set parameter LicenseID to value 669674\n",
            "Academic license - for non-commercial use only - registered to nem323@lehigh.edu\n",
            "Set parameter WLSAccessID\n",
            "Set parameter WLSSecret\n",
            "Set parameter LicenseID to value 669674\n",
            "Academic license - for non-commercial use only - registered to nem323@lehigh.edu\n",
            "evaluating directory test_100_500 instance 8\n",
            "Set parameter WLSAccessID\n",
            "Set parameter WLSSecret\n",
            "Set parameter LicenseID to value 669674\n",
            "Academic license - for non-commercial use only - registered to nem323@lehigh.edu\n",
            "Set parameter WLSAccessID\n",
            "Set parameter WLSSecret\n",
            "Set parameter LicenseID to value 669674\n",
            "Academic license - for non-commercial use only - registered to nem323@lehigh.edu\n",
            "evaluating directory test_100_500 instance 9\n",
            "Set parameter WLSAccessID\n",
            "Set parameter WLSSecret\n",
            "Set parameter LicenseID to value 669674\n",
            "Academic license - for non-commercial use only - registered to nem323@lehigh.edu\n",
            "Set parameter WLSAccessID\n",
            "Set parameter WLSSecret\n",
            "Set parameter LicenseID to value 669674\n",
            "Academic license - for non-commercial use only - registered to nem323@lehigh.edu\n",
            "evaluating directory test_100_500 instance 10\n",
            "Set parameter WLSAccessID\n",
            "Set parameter WLSSecret\n",
            "Set parameter LicenseID to value 669674\n",
            "Academic license - for non-commercial use only - registered to nem323@lehigh.edu\n",
            "Set parameter WLSAccessID\n",
            "Set parameter WLSSecret\n",
            "Set parameter LicenseID to value 669674\n",
            "Academic license - for non-commercial use only - registered to nem323@lehigh.edu\n",
            "evaluating directory test_100_500 instance 11\n",
            "Set parameter WLSAccessID\n",
            "Set parameter WLSSecret\n",
            "Set parameter LicenseID to value 669674\n",
            "Academic license - for non-commercial use only - registered to nem323@lehigh.edu\n",
            "Set parameter WLSAccessID\n",
            "Set parameter WLSSecret\n",
            "Set parameter LicenseID to value 669674\n",
            "Academic license - for non-commercial use only - registered to nem323@lehigh.edu\n",
            "evaluating directory test_100_500 instance 12\n",
            "Set parameter WLSAccessID\n",
            "Set parameter WLSSecret\n",
            "Set parameter LicenseID to value 669674\n",
            "Academic license - for non-commercial use only - registered to nem323@lehigh.edu\n",
            "Set parameter WLSAccessID\n",
            "Set parameter WLSSecret\n",
            "Set parameter LicenseID to value 669674\n",
            "Academic license - for non-commercial use only - registered to nem323@lehigh.edu\n",
            "evaluating directory test_100_500 instance 13\n",
            "Set parameter WLSAccessID\n",
            "Set parameter WLSSecret\n",
            "Set parameter LicenseID to value 669674\n",
            "Academic license - for non-commercial use only - registered to nem323@lehigh.edu\n",
            "Set parameter WLSAccessID\n",
            "Set parameter WLSSecret\n",
            "Set parameter LicenseID to value 669674\n",
            "Academic license - for non-commercial use only - registered to nem323@lehigh.edu\n",
            "evaluating directory test_100_500 instance 14\n",
            "Set parameter WLSAccessID\n",
            "Set parameter WLSSecret\n",
            "Set parameter LicenseID to value 669674\n",
            "Academic license - for non-commercial use only - registered to nem323@lehigh.edu\n",
            "Set parameter WLSAccessID\n",
            "Set parameter WLSSecret\n",
            "Set parameter LicenseID to value 669674\n",
            "Academic license - for non-commercial use only - registered to nem323@lehigh.edu\n",
            "evaluating directory test_100_500 instance 15\n",
            "Set parameter WLSAccessID\n",
            "Set parameter WLSSecret\n",
            "Set parameter LicenseID to value 669674\n",
            "Academic license - for non-commercial use only - registered to nem323@lehigh.edu\n",
            "Set parameter WLSAccessID\n",
            "Set parameter WLSSecret\n",
            "Set parameter LicenseID to value 669674\n",
            "Academic license - for non-commercial use only - registered to nem323@lehigh.edu\n",
            "\n"
          ]
        }
      ]
    },
    {
      "cell_type": "markdown",
      "source": [
        "# RESULTS"
      ],
      "metadata": {
        "id": "s3MYVqC_uS_p"
      }
    },
    {
      "cell_type": "markdown",
      "source": [
        "## Facilities "
      ],
      "metadata": {
        "id": "nxD9r8BX85KW"
      }
    },
    {
      "cell_type": "code",
      "source": [
        "%cd /gdrive/MyDrive/498/neural_lns/data/evaluations"
      ],
      "metadata": {
        "colab": {
          "base_uri": "https://localhost:8080/"
        },
        "id": "ZH7JPLInwTRQ",
        "outputId": "cb9db53f-3b24-47df-8c7d-b1ca8e4c59f9"
      },
      "execution_count": null,
      "outputs": [
        {
          "output_type": "stream",
          "name": "stdout",
          "text": [
            "/gdrive/MyDrive/498/neural_lns/data/evaluations\n"
          ]
        }
      ]
    },
    {
      "cell_type": "code",
      "source": [
        "df = pd.read_csv('facilities.csv')"
      ],
      "metadata": {
        "id": "qH8CGlses8Tf"
      },
      "execution_count": null,
      "outputs": []
    },
    {
      "cell_type": "code",
      "source": [
        "df = df[df['submip optimal'] == True]\n",
        "df.shape"
      ],
      "metadata": {
        "colab": {
          "base_uri": "https://localhost:8080/"
        },
        "id": "k9uCfqrg82aR",
        "outputId": "564f452d-a8db-4504-9ab6-86fb465d41e4"
      },
      "execution_count": null,
      "outputs": [
        {
          "output_type": "execute_result",
          "data": {
            "text/plain": [
              "(45, 10)"
            ]
          },
          "metadata": {},
          "execution_count": 25
        }
      ]
    },
    {
      "cell_type": "code",
      "source": [
        "df = df.copy()\n",
        "df['type'] = df.apply(lambda x: \"train\" if \"train\" in x['instance set'] else \"test\", axis=1)\n",
        "train = df[df['type'] =='train']\n",
        "test = df[df['type'] =='test']\n",
        "\n",
        "sns.set_context('paper')\n",
        "fig, ax = plt.subplots(1,2, figsize=(10,5))\n",
        "\n",
        "sns.kdeplot(train['neural diving time'], alpha=0.5, label='neural diving', ax=ax[0])\n",
        "sns.kdeplot(train['direct time'], alpha=0.5, label='direct', ax=ax[0])\n",
        "ax[0].legend()\n",
        "ax[0].set(xlim=(0,6))\n",
        "ax[0].set(xlabel='Time')\n",
        "ax[0].set(title=\"Train Results\")\n",
        "\n",
        "sns.kdeplot(test['neural diving time'], alpha=0.5, label='neural diving', ax=ax[1])\n",
        "sns.kdeplot(test['direct time'], alpha=0.5, label='direct', ax=ax[1])\n",
        "ax[1].legend()\n",
        "ax[1].set(xlim=(0,10))\n",
        "ax[1].set(title=\"Test Results\")\n",
        "ax[1].set(xlabel='Time')\n",
        "plt.suptitle(\"Facilities Results\", fontsize=14)\n",
        "plt.tight_layout(pad=2)\n"
      ],
      "metadata": {
        "id": "IfUUXhj77ZHy",
        "colab": {
          "base_uri": "https://localhost:8080/",
          "height": 364
        },
        "outputId": "0cd532a3-3e82-48c9-ae36-9836dfc7c3f2"
      },
      "execution_count": null,
      "outputs": [
        {
          "output_type": "display_data",
          "data": {
            "text/plain": [
              "<Figure size 720x360 with 2 Axes>"
            ],
            "image/png": "[encoded data removed]"
          },
          "metadata": {
            "needs_background": "light"
          }
        }
      ]
    },
    {
      "cell_type": "code",
      "source": [
        "train['neural diving time'].mean(), train['neural diving time'].std()"
      ],
      "metadata": {
        "colab": {
          "base_uri": "https://localhost:8080/"
        },
        "id": "-gHOOpg4YlUp",
        "outputId": "3f4bc110-e955-4395-f17a-6f9a2ed17731"
      },
      "execution_count": null,
      "outputs": [
        {
          "output_type": "execute_result",
          "data": {
            "text/plain": [
              "(1.1207393606503804, 0.9441204232700171)"
            ]
          },
          "metadata": {},
          "execution_count": 32
        }
      ]
    },
    {
      "cell_type": "code",
      "source": [
        "train['direct time'].mean(), train['direct time'].std()"
      ],
      "metadata": {
        "colab": {
          "base_uri": "https://localhost:8080/"
        },
        "id": "7DZqAU5VYoIP",
        "outputId": "821408bf-e757-4f41-853d-97c65119ad7b"
      },
      "execution_count": null,
      "outputs": [
        {
          "output_type": "execute_result",
          "data": {
            "text/plain": [
              "(1.1508672436078389, 0.909867113541635)"
            ]
          },
          "metadata": {},
          "execution_count": 33
        }
      ]
    },
    {
      "cell_type": "code",
      "source": [
        "test['neural diving time'].mean(), test['neural diving time'].std()"
      ],
      "metadata": {
        "colab": {
          "base_uri": "https://localhost:8080/"
        },
        "id": "JV4hw8FtYwqU",
        "outputId": "3b355634-b916-4a6a-9e99-57a683c15337"
      },
      "execution_count": null,
      "outputs": [
        {
          "output_type": "execute_result",
          "data": {
            "text/plain": [
              "(1.4962079813986113, 1.6437779216708415)"
            ]
          },
          "metadata": {},
          "execution_count": 34
        }
      ]
    },
    {
      "cell_type": "code",
      "source": [
        "test['direct time'].mean(), test['direct time'].std()"
      ],
      "metadata": {
        "colab": {
          "base_uri": "https://localhost:8080/"
        },
        "id": "HJWqKV5GY06A",
        "outputId": "34a362a9-cb38-40c1-e6ae-cc807bb013dc"
      },
      "execution_count": null,
      "outputs": [
        {
          "output_type": "execute_result",
          "data": {
            "text/plain": [
              "(1.4490918968663071, 1.571180423957659)"
            ]
          },
          "metadata": {},
          "execution_count": 35
        }
      ]
    },
    {
      "cell_type": "markdown",
      "source": [
        "## Schedules"
      ],
      "metadata": {
        "id": "OTPqCsBl-Dbo"
      }
    },
    {
      "cell_type": "code",
      "source": [
        "df = pd.read_csv('schedules.csv')"
      ],
      "metadata": {
        "id": "lErBOSNC-HgM"
      },
      "execution_count": null,
      "outputs": []
    },
    {
      "cell_type": "code",
      "source": [
        "df = df[df['submip optimal'] == True]\n",
        "df.shape"
      ],
      "metadata": {
        "colab": {
          "base_uri": "https://localhost:8080/"
        },
        "outputId": "c68985d5-4993-4e10-a74f-730fb3eeebae",
        "id": "FLasWkVJ-HgM"
      },
      "execution_count": null,
      "outputs": [
        {
          "output_type": "execute_result",
          "data": {
            "text/plain": [
              "(55, 10)"
            ]
          },
          "metadata": {},
          "execution_count": 37
        }
      ]
    },
    {
      "cell_type": "code",
      "source": [
        "df = df.copy()\n",
        "df['type'] = df.apply(lambda x: \"train\" if \"train\" in x['instance set'] else \"test\", axis=1)\n",
        "train = df[df['type'] =='train']\n",
        "test = df[df['type'] =='test']\n",
        "\n",
        "sns.set_context('paper')\n",
        "fig, ax = plt.subplots(1,2, figsize=(10,5))\n",
        "\n",
        "sns.kdeplot(train['neural diving time'], alpha=0.5, label='neural diving', ax=ax[0])\n",
        "sns.kdeplot(train['direct time'], alpha=0.5, label='direct', ax=ax[0])\n",
        "ax[0].legend()\n",
        "ax[0].set(xlim=(0,6))\n",
        "ax[0].set(xlabel='Time')\n",
        "ax[0].set(title=\"Train Results\")\n",
        "\n",
        "sns.kdeplot(test['neural diving time'], alpha=0.5, label='neural diving', ax=ax[1])\n",
        "sns.kdeplot(test['direct time'], alpha=0.5, label='direct', ax=ax[1])\n",
        "ax[1].legend()\n",
        "ax[1].set(xlim=(0,8))\n",
        "ax[1].set(title=\"Test Results\")\n",
        "ax[1].set(xlabel='Time')\n",
        "plt.suptitle(\"Schedules Results\", fontsize=14)\n",
        "plt.tight_layout(pad=2)\n"
      ],
      "metadata": {
        "colab": {
          "base_uri": "https://localhost:8080/",
          "height": 364
        },
        "outputId": "f19e2bad-b442-4b6f-dc0a-39cbab9fea4d",
        "id": "dluZ5uET-HgM"
      },
      "execution_count": null,
      "outputs": [
        {
          "output_type": "display_data",
          "data": {
            "text/plain": [
              "<Figure size 720x360 with 2 Axes>"
            ],
            "image/png": "[encoded data removed]"
          },
          "metadata": {
            "needs_background": "light"
          }
        }
      ]
    },
    {
      "cell_type": "code",
      "source": [
        "train['neural diving time'].mean(), train['neural diving time'].std()"
      ],
      "metadata": {
        "colab": {
          "base_uri": "https://localhost:8080/"
        },
        "outputId": "250c1eaa-2d24-4ad9-d3d4-66db04afebd8",
        "id": "QP6lm6_dZAFE"
      },
      "execution_count": null,
      "outputs": [
        {
          "output_type": "execute_result",
          "data": {
            "text/plain": [
              "(2.6671298344930015, 0.8708500868289164)"
            ]
          },
          "metadata": {},
          "execution_count": 40
        }
      ]
    },
    {
      "cell_type": "code",
      "source": [
        "train['direct time'].mean(), train['direct time'].std()"
      ],
      "metadata": {
        "colab": {
          "base_uri": "https://localhost:8080/"
        },
        "outputId": "6983ec91-9218-4b25-9a8f-f4fc47d38191",
        "id": "kkjYOIZZZAFF"
      },
      "execution_count": null,
      "outputs": [
        {
          "output_type": "execute_result",
          "data": {
            "text/plain": [
              "(1.3231124718983969, 0.39817167276096055)"
            ]
          },
          "metadata": {},
          "execution_count": 41
        }
      ]
    },
    {
      "cell_type": "code",
      "source": [
        "test['neural diving time'].mean(), test['neural diving time'].std()"
      ],
      "metadata": {
        "colab": {
          "base_uri": "https://localhost:8080/"
        },
        "outputId": "165141d8-1ebf-4692-e8ca-ce4ae45796c7",
        "id": "0UG3jjDmZAFF"
      },
      "execution_count": null,
      "outputs": [
        {
          "output_type": "execute_result",
          "data": {
            "text/plain": [
              "(2.9923091769218444, 1.1403505811423151)"
            ]
          },
          "metadata": {},
          "execution_count": 42
        }
      ]
    },
    {
      "cell_type": "code",
      "source": [
        "test['direct time'].mean(), test['direct time'].std()"
      ],
      "metadata": {
        "outputId": "8a8fb147-3982-4527-99f6-996b46be9beb",
        "colab": {
          "base_uri": "https://localhost:8080/"
        },
        "id": "Ugjk8b0IZAFF"
      },
      "execution_count": null,
      "outputs": [
        {
          "output_type": "execute_result",
          "data": {
            "text/plain": [
              "(1.497693806886673, 0.3826395246559197)"
            ]
          },
          "metadata": {},
          "execution_count": 43
        }
      ]
    },
    {
      "cell_type": "markdown",
      "source": [
        "## cauctions"
      ],
      "metadata": {
        "id": "1ZVew-rkA1Db"
      }
    },
    {
      "cell_type": "code",
      "source": [
        "df = pd.read_csv('cauctions.csv')"
      ],
      "metadata": {
        "id": "Whh6esqCA4iX"
      },
      "execution_count": null,
      "outputs": []
    },
    {
      "cell_type": "code",
      "source": [
        "df = df[df['submip optimal'] == True]\n",
        "df.shape"
      ],
      "metadata": {
        "colab": {
          "base_uri": "https://localhost:8080/"
        },
        "outputId": "846207bf-6c12-40c6-fa96-15a33710f216",
        "id": "ZOBbI2PTA4iX"
      },
      "execution_count": null,
      "outputs": [
        {
          "output_type": "execute_result",
          "data": {
            "text/plain": [
              "(55, 10)"
            ]
          },
          "metadata": {},
          "execution_count": 45
        }
      ]
    },
    {
      "cell_type": "code",
      "source": [
        "df = df.copy()\n",
        "df['type'] = df.apply(lambda x: \"train\" if \"train\" in x['instance set'] else \"test\", axis=1)\n",
        "train = df[df['type'] =='train']\n",
        "test = df[df['type'] =='test']\n",
        "\n",
        "sns.set_context('paper')\n",
        "fig, ax = plt.subplots(1,2, figsize=(10,5))\n",
        "\n",
        "sns.kdeplot(train['neural diving time'], alpha=0.5, label='neural diving', ax=ax[0])\n",
        "sns.kdeplot(train['direct time'], alpha=0.5, label='direct', ax=ax[0])\n",
        "ax[0].legend()\n",
        "ax[0].set(xlim=(0,2))\n",
        "ax[0].set(xlabel='Time')\n",
        "ax[0].set(title=\"Train Results\")\n",
        "\n",
        "sns.kdeplot(test['neural diving time'], alpha=0.5, label='neural diving', ax=ax[1])\n",
        "sns.kdeplot(test['direct time'], alpha=0.5, label='direct', ax=ax[1])\n",
        "ax[1].legend()\n",
        "ax[1].set(xlim=(0,2))\n",
        "ax[1].set(xlabel='Time')\n",
        "ax[1].set(title=\"Test Results\")\n",
        "plt.suptitle(\"Cauctions Results\", fontsize=14)\n",
        "plt.tight_layout(pad=2)\n"
      ],
      "metadata": {
        "colab": {
          "base_uri": "https://localhost:8080/",
          "height": 364
        },
        "outputId": "f3f83d29-62ca-4b54-be0f-ac9497b8c8a8",
        "id": "7-uK2GnZA4iY"
      },
      "execution_count": null,
      "outputs": [
        {
          "output_type": "display_data",
          "data": {
            "text/plain": [
              "<Figure size 720x360 with 2 Axes>"
            ],
            "image/png": "[encoded data removed]"
          },
          "metadata": {
            "needs_background": "light"
          }
        }
      ]
    },
    {
      "cell_type": "code",
      "source": [
        "train['neural diving time'].mean(), train['neural diving time'].std()"
      ],
      "metadata": {
        "colab": {
          "base_uri": "https://localhost:8080/"
        },
        "outputId": "a7a1546c-2e32-4411-c381-b94a647a7b87",
        "id": "us7J0udBZJYC"
      },
      "execution_count": null,
      "outputs": [
        {
          "output_type": "execute_result",
          "data": {
            "text/plain": [
              "(0.4335116704305013, 0.22436912362920775)"
            ]
          },
          "metadata": {},
          "execution_count": 47
        }
      ]
    },
    {
      "cell_type": "code",
      "source": [
        "train['direct time'].mean(), train['direct time'].std()"
      ],
      "metadata": {
        "colab": {
          "base_uri": "https://localhost:8080/"
        },
        "outputId": "79875efa-4874-4da1-9621-c5afe0db40c1",
        "id": "UIvABmCxZJYD"
      },
      "execution_count": null,
      "outputs": [
        {
          "output_type": "execute_result",
          "data": {
            "text/plain": [
              "(0.42305994033813477, 0.26117865511363886)"
            ]
          },
          "metadata": {},
          "execution_count": 48
        }
      ]
    },
    {
      "cell_type": "code",
      "source": [
        "test['neural diving time'].mean(), test['neural diving time'].std()"
      ],
      "metadata": {
        "colab": {
          "base_uri": "https://localhost:8080/"
        },
        "outputId": "3ba45455-f086-4823-c9b1-3fc6e3761eb8",
        "id": "drWvaFv6ZJYD"
      },
      "execution_count": null,
      "outputs": [
        {
          "output_type": "execute_result",
          "data": {
            "text/plain": [
              "(0.34065583944320676, 0.1855797937977237)"
            ]
          },
          "metadata": {},
          "execution_count": 49
        }
      ]
    },
    {
      "cell_type": "code",
      "source": [
        "test['direct time'].mean(), test['direct time'].std()"
      ],
      "metadata": {
        "outputId": "d31d5d15-c604-419c-aef3-7d40ec7a9f39",
        "colab": {
          "base_uri": "https://localhost:8080/"
        },
        "id": "ymIyoUUvZJYE"
      },
      "execution_count": null,
      "outputs": [
        {
          "output_type": "execute_result",
          "data": {
            "text/plain": [
              "(0.3215854823589325, 0.17594300957433534)"
            ]
          },
          "metadata": {},
          "execution_count": 50
        }
      ]
    },
    {
      "cell_type": "markdown",
      "source": [
        "# DEMO\n"
      ],
      "metadata": {
        "id": "Ddmdt7i7S0iy"
      }
    },
    {
      "cell_type": "code",
      "source": [
        "import os\n",
        "import pandas as pd\n",
        "import re\n",
        "\n",
        "from sampling import RepeatedCompetitionSampler\n",
        "from solvers import NeuralDivingSolver, DirectSolver\n",
        "\n",
        "instance_pth = \"/gdrive/MyDrive/498/neural_lns/data/instances/\" + 'facilities/test_100_100_5/' + 'instance_20'\n",
        "unassigned_factor = 3\n",
        "\n",
        "n_cust, n_facilities, ratio = 100, 100, 5\n",
        "# give ourselves <unassigned_factor> as many warehouses as cover capacity (2 is good)\n",
        "num_unassigned_vars = int(unassigned_factor * ratio * n_cust / n_facilities)\n",
        "\n",
        "\n",
        "# solvers for each instance\n",
        "ds = DirectSolver()\n",
        "ds.load_model(instance_pth, silence=True)\n",
        "direct_data = ds.solve()\n",
        "\n",
        "model_dir = os.path.join('/gdrive/MyDrive/498/neural_lns/', 'models_facilities')\n",
        "sampler = RepeatedCompetitionSampler(model_dir)\n",
        "nds = NeuralDivingSolver(sampler=sampler)\n",
        "nds.load_model(instance_pth, silence=True)\n",
        "neural_diving_data = nds.solve(num_unassigned_vars=num_unassigned_vars)\n"
      ],
      "metadata": {
        "colab": {
          "base_uri": "https://localhost:8080/"
        },
        "id": "3XDn59aWZtGM",
        "outputId": "47681775-7700-454b-9bb7-3eb29065b21d"
      },
      "execution_count": null,
      "outputs": [
        {
          "output_type": "stream",
          "name": "stdout",
          "text": [
            "Set parameter WLSAccessID\n",
            "Set parameter WLSSecret\n",
            "Set parameter LicenseID to value 669674\n",
            "Academic license - for non-commercial use only - registered to nem323@lehigh.edu\n",
            "Set parameter WLSAccessID\n",
            "Set parameter WLSSecret\n",
            "Set parameter LicenseID to value 669674\n",
            "Academic license - for non-commercial use only - registered to nem323@lehigh.edu\n"
          ]
        }
      ]
    },
    {
      "cell_type": "code",
      "source": [
        "print(direct_data['direct time'])\n",
        "print(neural_diving_data['neural diving time'])"
      ],
      "metadata": {
        "colab": {
          "base_uri": "https://localhost:8080/"
        },
        "id": "hVJl1Cm-dthk",
        "outputId": "c10f217d-7476-4e60-d10e-24bc41c1a811"
      },
      "execution_count": null,
      "outputs": [
        {
          "output_type": "stream",
          "name": "stdout",
          "text": [
            "3.839184045791626\n",
            "3.8307931423187256\n"
          ]
        }
      ]
    }
  ],
  "metadata": {
    "colab": {
      "provenance": [],
      "machine_shape": "hm",
      "toc_visible": true
    },
    "gpuClass": "premium",
    "kernelspec": {
      "display_name": "Python 3",
      "name": "python3"
    },
    "language_info": {
      "name": "python"
    },
    "accelerator": "GPU"
  },
  "nbformat": 4,
  "nbformat_minor": 0
}